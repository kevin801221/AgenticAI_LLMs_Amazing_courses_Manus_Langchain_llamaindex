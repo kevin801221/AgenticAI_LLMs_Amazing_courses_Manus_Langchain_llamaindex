{
 "cells": [
  {
   "cell_type": "markdown",
   "metadata": {},
   "source": [
    "# 工具調用代理\n",
    "\n",
    "## 概述\n",
    "\n",
    "本教學說明 LangChain 中的工具調用，允許模型檢測何時**調用一個或多個工具以及傳遞什麼輸入**給這些工具。\n",
    "\n",
    "在進行 API 調用時，您可以定義工具並智能地引導模型生成結構化物件，例如包含調用這些工具參數的 JSON。\n",
    "\n",
    "工具 API 的目標是提供比標準文字完成或聊天 API 更可靠的有效且有用的**工具調用**生成。\n",
    "\n",
    "您可以透過將此結構化輸出與將多個工具綁定到工具調用聊天模型的能力整合，並讓模型選擇要調用哪些工具，來創建反覆調用工具並接收結果直到查詢解決的代理。\n",
    "\n",
    "這代表了 OpenAI 工具代理的更**通用版本**，該代理專門為 OpenAI 的特定工具調用風格而設計。\n",
    "\n",
    "此代理使用 LangChain 的 ToolCall 介面來支援超越 OpenAI 之外更廣泛的供應商實現，包括 ```Anthropic```、```Google Gemini``` 和 ```Mistral```。\n",
    "\n",
    "### 目錄\n",
    "\n",
    "- [概述](#概述)\n",
    "- [環境設定](#環境設定)\n",
    "- [創建工具](#創建工具)\n",
    "- [構建代理提示](#構建代理提示)\n",
    "- [創建代理](#創建代理)\n",
    "- [代理執行器](#代理執行器)\n",
    "- [使用串流輸出檢查逐步結果](#使用串流輸出檢查逐步結果)\n",
    "- [使用使用者定義函式自定義中間步驟輸出](#使用使用者定義函式自定義中間步驟輸出)\n",
    "- [與先前對話歷史記錄的代理通訊](#與先前對話歷史記錄的代理通訊)\n",
    "\n",
    "### 參考資料\n",
    "\n",
    "- [LangChain Python API Reference > langchain: 0.3.14 > agents > create_tool_calling_agent](https://python.langchain.com/api_reference/langchain/agents/langchain.agents.tool_calling_agent.base.create_tool_calling_agent.html#create-tool-calling-agent)\n",
    "- [LangChain Python API Reference > langchain: 0.3.14 > core > runnables > langchain_core.runnables.history > RunnableWithMessageHistory](https://python.langchain.com/api_reference/core/runnables/langchain_core.runnables.history.RunnableWithMessageHistory.html)\n",
    "\n",
    "![](./assets/15-agent-agent-concept.png)\n",
    "\n",
    "---\n",
    "\n",
    "## 我的見解\n",
    "\n",
    "工具調用代理是現代 AI 應用的核心架構之一，它實現了 AI 從純文字生成到可以執行實際行動的重大跨越。這種設計讓 AI 能夠主動選擇和使用工具，而非被動地回應，大幅提升了 AI 系統的實用性和自主性。\n",
    "\n",
    "LangChain 對多供應商的支援特別重要，這避免了供應商鎖定問題，讓開發者可以根據不同需求選擇最適合的模型。\n",
    "\n",
    "## 學習補充重點\n",
    "\n",
    "**核心概念理解：**\n",
    "- **工具調用 vs 函式調用**：工具調用更廣泛，包含參數驗證、錯誤處理等\n",
    "- **結構化輸出**：確保 AI 輸出符合預定義格式，提高可靠性\n",
    "- **反覆調用機制**：AI 可以根據結果決定下一步行動\n",
    "\n",
    "**多供應商優勢：**\n",
    "- **成本優化**：不同模型的定價策略差異\n",
    "- **功能特化**：某些模型在特定任務上表現更佳\n",
    "- **風險分散**：避免單一供應商依賴\n",
    "\n",
    "**實際應用場景：**\n",
    "- **客服機器人**：查詢訂單、處理退款、更新資訊\n",
    "- **資料分析助手**：執行 SQL 查詢、生成圖表、計算統計\n",
    "- **內容管理**：搜尋文檔、更新記錄、發送通知\n",
    "- **自動化工作流**：根據條件執行不同操作序列\n",
    "\n",
    "**架構設計重點：**\n",
    "- **工具選擇策略**：如何讓 AI 選擇最合適的工具\n",
    "- **錯誤恢復機制**：工具調用失敗時的處理策略\n",
    "- **狀態管理**：在多步驟操作中維護上下文\n",
    "\n",
    "**效能考量：**\n",
    "- **並行調用**：某些情況下可同時調用多個工具\n",
    "- **快取機制**：避免重複的工具調用\n",
    "- **超時處理**：防止工具調用無限等待\n",
    "\n",
    "**安全性注意事項：**\n",
    "- **工具權限控制**：限制 AI 可使用的工具範圍\n",
    "- **輸入驗證**：防止惡意參數傳遞\n",
    "- **審計日誌**：記錄所有工具調用行為\n",
    "\n",
    "**除錯與監控：**\n",
    "- **中間步驟追蹤**：了解 AI 的決策過程\n",
    "- **工具使用統計**：分析工具使用模式\n",
    "- **效能指標監控**：追蹤響應時間和成功率"
   ]
  },
  {
   "cell_type": "markdown",
   "metadata": {},
   "source": [
    "## Environment Setup\n",
    "\n",
    "Set up the environment. You may refer to [Environment Setup](https://wikidocs.net/257836) for more details.\n",
    "\n",
    "**[Note]**\n",
    "- ```langchain-opentutorial``` is a package that provides a set of easy-to-use environment setup, useful functions and utilities for tutorials. \n",
    "- You can checkout the [```langchain-opentutorial```](https://github.com/LangChain-OpenTutorial/langchain-opentutorial-pypi) for more details."
   ]
  },
  {
   "cell_type": "code",
   "execution_count": 1,
   "metadata": {},
   "outputs": [
    {
     "name": "stderr",
     "output_type": "stream",
     "text": [
      "\n",
      "[notice] A new release of pip is available: 24.0 -> 25.1.1\n",
      "[notice] To update, run: C:\\Users\\User\\AppData\\Local\\Microsoft\\WindowsApps\\PythonSoftwareFoundation.Python.3.11_qbz5n2kfra8p0\\python.exe -m pip install --upgrade pip\n"
     ]
    }
   ],
   "source": [
    "%%capture --no-stderr\n",
    "%pip install langchain-opentutorial"
   ]
  },
  {
   "cell_type": "code",
   "execution_count": 9,
   "metadata": {},
   "outputs": [
    {
     "data": {
      "text/plain": [
       "True"
      ]
     },
     "execution_count": 9,
     "metadata": {},
     "output_type": "execute_result"
    }
   ],
   "source": [
    "from dotenv import load_dotenv\n",
    "# Load environment variables from .env file\n",
    "load_dotenv()"
   ]
  },
  {
   "cell_type": "code",
   "execution_count": 3,
   "metadata": {},
   "outputs": [],
   "source": [
    "# Install required packages\n",
    "from langchain_opentutorial import package\n",
    "\n",
    "package.install(\n",
    "    [\n",
    "        \"langsmith\",\n",
    "        \"langchain\",\n",
    "        \"langchain_core\",\n",
    "        \"langchain_openai\",\n",
    "        \"langchain_community\",\n",
    "    ],\n",
    "    verbose=False,\n",
    "    upgrade=False,\n",
    ")"
   ]
  },
  {
   "cell_type": "code",
   "execution_count": 3,
   "metadata": {},
   "outputs": [
    {
     "name": "stdout",
     "output_type": "stream",
     "text": [
      "Environment variables have been set successfully.\n"
     ]
    }
   ],
   "source": [
    "# Set environment variables\n",
    "from langchain_opentutorial import set_env\n",
    "\n",
    "set_env(\n",
    "    {\n",
    "        \"OPENAI_API_KEY\": \"\",\n",
    "        \"LANGCHAIN_API_KEY\": \"\",\n",
    "        \"LANGCHAIN_TRACING_V2\": \"true\",\n",
    "        \"LANGCHAIN_ENDPOINT\": \"https://api.smith.langchain.com\",\n",
    "        \"LANGCHAIN_PROJECT\": \"ToolCallingAgent\",\n",
    "    }\n",
    ")"
   ]
  },
  {
   "cell_type": "markdown",
   "metadata": {},
   "source": [
    "You can alternatively set ```OPENAI_API_KEY``` in ```.env``` file and load it.\n",
    "\n",
    "[Note] This is not necessary if you've already set ```OPENAI_API_KEY``` in previous steps."
   ]
  },
  {
   "cell_type": "code",
   "execution_count": 4,
   "metadata": {},
   "outputs": [
    {
     "data": {
      "text/plain": [
       "True"
      ]
     },
     "execution_count": 4,
     "metadata": {},
     "output_type": "execute_result"
    }
   ],
   "source": [
    "from dotenv import load_dotenv\n",
    "\n",
    "load_dotenv(override=True)"
   ]
  },
  {
   "cell_type": "markdown",
   "metadata": {},
   "source": [
    "## Creating Tools\n",
    "\n",
    "LangChain allows you to define custom tools that your agents can interact with. You can create tools for searching news or executing Python code.\n",
    "\n",
    "The ```@tool``` decorator is used to create tools:\n",
    "- ```TavilySearchResults``` is a tool for searching news.\n",
    "- ```PythonREPL``` is a tool for executing Python code.\n"
   ]
  },
  {
   "cell_type": "code",
   "execution_count": 4,
   "metadata": {},
   "outputs": [
    {
     "name": "stdout",
     "output_type": "stream",
     "text": [
      "Tool name: search_news\n",
      "Tool description: Search news by input keyword using Tavily Search API\n",
      "Tool name: python_repl_tool\n",
      "Tool description: Use this tool to execute Python code. If you want to see the output of a value,\n",
      "    you should print it using print(...). This output is visible to the user.\n"
     ]
    }
   ],
   "source": [
    "from langchain.tools import tool\n",
    "from typing import List, Dict, Annotated\n",
    "from langchain_community.tools import TavilySearchResults\n",
    "from langchain_experimental.utilities import PythonREPL\n",
    "\n",
    "\n",
    "# Creating tool for searching news\n",
    "@tool\n",
    "def search_news(query: str) -> List[Dict[str, str]]:\n",
    "    \"\"\"Search news by input keyword using Tavily Search API\"\"\"\n",
    "    news_tool = TavilySearchResults(\n",
    "        max_results=3,\n",
    "        include_answer=True,\n",
    "        include_raw_content=True,\n",
    "        include_images=True,\n",
    "        # search_depth=\"advanced\",\n",
    "        # include_domains = [],\n",
    "        # exclude_domains = []\n",
    "    )\n",
    "    return news_tool.invoke(query, k=3)\n",
    "\n",
    "\n",
    "# Creating tool for executing python code\n",
    "@tool\n",
    "def python_repl_tool(\n",
    "    code: Annotated[str, \"The python code to execute to generate your chart.\"],\n",
    "):\n",
    "    \"\"\"Use this tool to execute Python code. If you want to see the output of a value,\n",
    "    you should print it using print(...). This output is visible to the user.\"\"\"\n",
    "    result = \"\"\n",
    "    try:\n",
    "        result = PythonREPL().run(code)\n",
    "    except BaseException as e:\n",
    "        print(f\"Failed to execute. Error: {repr(e)}\")\n",
    "    finally:\n",
    "        return result\n",
    "\n",
    "\n",
    "print(f\"Tool name: {search_news.name}\")\n",
    "print(f\"Tool description: {search_news.description}\")\n",
    "print(f\"Tool name: {python_repl_tool.name}\")\n",
    "print(f\"Tool description: {python_repl_tool.description}\")"
   ]
  },
  {
   "cell_type": "code",
   "execution_count": 5,
   "metadata": {},
   "outputs": [],
   "source": [
    "# Creating tools\n",
    "tools = [search_news, python_repl_tool]"
   ]
  },
  {
   "cell_type": "markdown",
   "metadata": {},
   "source": [
    "## 構建代理提示\n",
    "\n",
    "- ```chat_history```：如果您的代理支援多輪對話，此變數會儲存對話歷史記錄。（否則，您可以省略此項。）\n",
    "- ```agent_scratchpad```：此變數作為中間變數的暫存儲存空間。\n",
    "- ```input```：此變數代表使用者的輸入。\n",
    "\n",
    "---\n",
    "\n",
    "## 我的見解\n",
    "\n",
    "代理提示的構建是工具調用代理成功運作的關鍵基礎。這三個核心變數各自承擔不同的職責，共同形成代理的「思考框架」。特別是 `agent_scratchpad` 的設計很巧妙，它讓代理能夠進行「內部對話」，記錄推理過程和中間結果。\n",
    "\n",
    "這種結構化的提示設計不僅提高了代理的推理能力，也使得除錯和優化變得更加容易。\n",
    "\n",
    "## 學習補充重點\n",
    "\n",
    "**變數功能詳解：**\n",
    "\n",
    "**chat_history（對話歷史）：**\n",
    "- 維持多輪對話的上下文連貫性\n",
    "- 讓代理能參考先前的互動內容\n",
    "- 支援複雜的對話流程和任務延續\n",
    "- 可以包含使用者訊息、代理回應和工具調用結果\n",
    "\n",
    "**agent_scratchpad（代理草稿區）：**\n",
    "- 儲存工具調用的結果和中間推理\n",
    "- 記錄代理的「思考過程」\n",
    "- 幫助代理決定下一步行動\n",
    "- 提供除錯和監控的重要資訊\n",
    "\n",
    "**input（使用者輸入）：**\n",
    "- 當前回合的使用者查詢\n",
    "- 觸發代理行動的起始點\n",
    "- 可以是問題、指令或資料\n",
    "\n",
    "**提示模板設計模式：**\n",
    "```python\n",
    "# 基本模板結構\n",
    "template = \"\"\"\n",
    "你是一個有用的助手，可以使用以下工具：\n",
    "{tools}\n",
    "\n",
    "請根據使用者輸入選擇合適的工具來回答問題。\n",
    "\n",
    "對話歷史：\n",
    "{chat_history}\n",
    "\n",
    "目前任務：{input}\n",
    "\n",
    "工作記錄：\n",
    "{agent_scratchpad}\n",
    "\"\"\"\n",
    "```\n",
    "\n",
    "**最佳實務建議：**\n",
    "- **清晰的角色定義**：明確代理的身份和能力\n",
    "- **工具使用指導**：說明何時和如何使用工具\n",
    "- **格式化要求**：指定輸出格式和結構\n",
    "- **錯誤處理指引**：告訴代理如何處理異常情況\n",
    "\n",
    "**進階技巧：**\n",
    "- **動態提示調整**：根據對話狀態調整提示內容\n",
    "- **上下文壓縮**：當歷史記錄過長時進行智能摘要\n",
    "- **任務分解指導**：教導代理如何拆解複雜任務\n",
    "- **回饋循環**：利用 scratchpad 進行自我反思\n",
    "\n",
    "**常見問題處理：**\n",
    "- **記憶體管理**：避免 chat_history 過度膨脹\n",
    "- **上下文混淆**：確保不同輪次的資訊不會相互干擾\n",
    "- **工具選擇混亂**：提供明確的工具使用判斷標準\n",
    "\n",
    "**除錯策略：**\n",
    "- 檢查 agent_scratchpad 的內容了解推理過程\n",
    "- 分析 chat_history 確認上下文是否正確傳遞\n",
    "- 驗證 input 解析是否符合預期"
   ]
  },
  {
   "cell_type": "code",
   "execution_count": 6,
   "metadata": {},
   "outputs": [],
   "source": [
    "from langchain_core.prompts import ChatPromptTemplate\n",
    "\n",
    "# Creating prompt\n",
    "# Prompt is a text that describes the task the model should perform. (input the name and role of the tool)\n",
    "prompt = ChatPromptTemplate.from_messages(\n",
    "    [\n",
    "        (\n",
    "            \"system\",\n",
    "            \"You are a helpful assistant. \"\n",
    "            \"Make sure to use the `search_news` tool for searching keyword related news.\",\n",
    "        ),\n",
    "        (\"placeholder\", \"{chat_history}\"),\n",
    "        (\"human\", \"{input}\"),\n",
    "        (\"placeholder\", \"{agent_scratchpad}\"),\n",
    "    ]\n",
    ")"
   ]
  },
  {
   "cell_type": "markdown",
   "metadata": {},
   "source": [
    "## Creating Agent\n",
    "\n",
    "Define an agent using the ```create_tool_calling_agent``` function."
   ]
  },
  {
   "cell_type": "code",
   "execution_count": 20,
   "metadata": {},
   "outputs": [],
   "source": [
    "from langchain_openai import ChatOpenAI\n",
    "from langchain.agents import create_tool_calling_agent\n",
    "\n",
    "# Creating LLM\n",
    "llm = ChatOpenAI(model=\"gpt-4o-mini\", temperature=0)\n",
    "\n",
    "# Creating Agent\n",
    "agent = create_tool_calling_agent(llm, tools, prompt)"
   ]
  },
  {
   "cell_type": "markdown",
   "metadata": {},
   "source": [
    "## ```AgentExecutor```\n",
    "\n",
    "```AgentExecutor``` 是用於管理使用工具的代理的類別。\n",
    "\n",
    "**主要屬性**\n",
    "- ```agent```：負責建立計劃並在執行迴圈的每個步驟中確定行動的底層代理。\n",
    "- ```tools```：包含代理授權使用的所有有效工具的清單。\n",
    "- ```return_intermediate_steps```：布林標誌，決定是否連同最終輸出一起返回代理採取的中間步驟。\n",
    "- ```max_iterations```：代理在執行迴圈終止前可以採取的最大步驟數。\n",
    "- ```max_execution_time```：允許執行迴圈運行的最大時間量。\n",
    "- ```early_stopping_method```：定義當代理未返回 ```AgentFinish``` 時如何處理情況的方法。（「force」或「generate」）\n",
    "  - ```\"force\"```：返回一個字串，指示執行迴圈因達到時間或迭代限制而停止。\n",
    "  - ```\"generate\"```：呼叫代理的 LLM 鏈一次，根據先前採取的步驟生成最終答案。\n",
    "- ```handle_parsing_errors```：指定如何處理解析錯誤。（您可以設定 ```True```、```False```，或提供自定義錯誤處理函式。）\n",
    "- ```trim_intermediate_steps```：修剪中間步驟的方法。（您可以設定 ```-1``` 保留所有步驟，或提供自定義修剪函式。）\n",
    "\n",
    "**主要方法**\n",
    "1. ```invoke```：執行代理。\n",
    "2. ```stream```：串流到達最終輸出所需的步驟。\n",
    "\n",
    "---\n",
    "\n",
    "## 我的見解\n",
    "\n",
    "```AgentExecutor``` 是代理的執行引擎，提供完整的生命週期管理和資源控制。\n",
    "\n",
    "## 學習補充重點\n",
    "\n",
    "**關鍵配置：**\n",
    "- ```max_iterations```：控制步驟上限，避免無限循環\n",
    "- ```early_stopping_method```：選擇 \"force\"（強制停止）或 \"generate\"（生成答案）\n",
    "- ```return_intermediate_steps```：除錯時設為 True\n",
    "\n",
    "**實用技巧：**\n",
    "- 簡單任務用較少迭代數（3-5次）\n",
    "- 複雜任務可設定更多迭代（10-20次）\n",
    "- 使用 ```stream``` 方法監控長時間任務"
   ]
  },
  {
   "cell_type": "code",
   "execution_count": null,
   "metadata": {},
   "outputs": [],
   "source": [
    "import os\n",
    "os.environ[\"OPENAI_API_KEY\"] = \"\""
   ]
  },
  {
   "cell_type": "code",
   "execution_count": 21,
   "metadata": {},
   "outputs": [
    {
     "name": "stdout",
     "output_type": "stream",
     "text": [
      "\n",
      "\n",
      "\u001b[1m> Entering new AgentExecutor chain...\u001b[0m\n",
      "\u001b[32;1m\u001b[1;3m\n",
      "Invoking: `search_news` with `{'query': 'AI Agent 2025'}`\n",
      "\n",
      "\n",
      "\u001b[0m\u001b[36;1m\u001b[1;3m[{'url': 'https://www.biz4group.com/blog/ai-agent-use-cases', 'content': 'Across industries, AI agents are emerging as a transformative force in 2025, driving the next wave of intelligent automation. These autonomous software systems, powered by machine learning (ML), natural language processing (NLP), and large language models (LLMs), are capable of performing tasks, making decisions, and collaborating with users and tools with minimal manual input. [...] Market Expansion: The AI agents market is projected to grow from $7.38 billion in 2025 to $47.1 billion by 2030, reflecting a compound annual growth rate (CAGR) of 44.8%.\\n   Enterprise Integration: Deloitte forecasts that by 2025, 25% of companies utilizing generative AI will initiate agentic AI pilots or proofs of concept, with this figure rising to 50% by 2027. [...] 2025 marks a major turning point for AI agents as real-world adoption meets enterprise urgency. With rapid market growth and proven ROI, businesses are investing in AI agents not just to automate — but to outperform across key enterprise AI agent use cases.\\n\\n### Growth Statistics and Trends\\n\\nThe adoption of AI agents is accelerating as organizations recognize their transformative potential:'}, {'url': 'https://www.analyticsvidhya.com/blog/2024/12/ai-agent-trends/', 'content': '_Also Read: How are AI Agents Reshaping the Workplace_\\n\\n### 2. Proactive AI Agents\\n\\nIn 2025, AI agents will transition from reactive assistants to proactive problem-solvers. Instead of waiting for instructions, they’ll anticipate needs, suggest solutions, and take action autonomously. Imagine an AI agent that not only schedules your meetings but also suggests optimal times for breaks or tasks based on your energy levels and productivity patterns. [...] AI agents will become more deeply integrated with the Internet of Things (IoT) in 2025. This integration will enable seamless communication between devices, enhancing automation, data analysis, and real-time decision-making. From smart homes and offices to smart cities, AI agents will soon control devices, manage workflows, and optimize systems without human intervention. [...] In 2025, we would see AI agents offer more hyper-personlized responses. For example, an AI agent in a retail environment might predict that a customer will be interested in a new product based on their browsing history, purchasing patterns, and social media activity.'}, {'url': 'https://www.forbes.com/councils/forbestechcouncil/2025/03/27/how-ai-agents-are-transforming-business-in-2025-and-beyond/', 'content': 'From what I’ve seen in the AI sector, 2025 will be a turning point. AI agents won’t just be experimental pilots anymore—they’ll be essential tools embedded into core business strategies. Companies that move early could gain a significant edge.'}]\u001b[0m\u001b[32;1m\u001b[1;3mHere are some recent articles discussing the role and evolution of AI agents in 2025:\n",
      "\n",
      "1. **Transformative Force in 2025**:\n",
      "   - AI agents are expected to drive a significant wave of intelligent automation across various industries. By 2025, the market for AI agents is projected to grow from $7.38 billion to $47.1 billion by 2030, reflecting a compound annual growth rate (CAGR) of 44.8%. Deloitte forecasts that 25% of companies utilizing generative AI will initiate AI agent pilots by 2025, increasing to 50% by 2027. This period marks a major turning point for AI agents as businesses invest in them not just for automation but to enhance performance across key use cases.\n",
      "   - [Read more here](https://www.biz4group.com/blog/ai-agent-use-cases).\n",
      "\n",
      "2. **Proactive Problem-Solvers**:\n",
      "   - In 2025, AI agents are expected to evolve from reactive assistants to proactive problem-solvers. They will anticipate needs, suggest solutions, and take autonomous actions. For instance, an AI agent might schedule meetings while also suggesting optimal times for breaks based on user productivity patterns. Additionally, AI agents will be more integrated with the Internet of Things (IoT), enabling them to manage workflows and optimize systems without human intervention.\n",
      "   - [Read more here](https://www.analyticsvidhya.com/blog/2024/12/ai-agent-trends/).\n",
      "\n",
      "3. **Essential Business Tools**:\n",
      "   - By 2025, AI agents are anticipated to become essential tools embedded in core business strategies rather than just experimental pilots. Companies that adopt these technologies early could gain a significant competitive advantage.\n",
      "   - [Read more here](https://www.forbes.com/councils/forbestechcouncil/2025/03/27/how-ai-agents-are-transforming-business-in-2025-and-beyond/).\n",
      "\n",
      "These articles highlight the expected advancements and integration of AI agents in various sectors by 2025, emphasizing their transformative potential and proactive capabilities.\u001b[0m\n",
      "\n",
      "\u001b[1m> Finished chain.\u001b[0m\n",
      "Agent execution result:\n",
      "Here are some recent articles discussing the role and evolution of AI agents in 2025:\n",
      "\n",
      "1. **Transformative Force in 2025**:\n",
      "   - AI agents are expected to drive a significant wave of intelligent automation across various industries. By 2025, the market for AI agents is projected to grow from $7.38 billion to $47.1 billion by 2030, reflecting a compound annual growth rate (CAGR) of 44.8%. Deloitte forecasts that 25% of companies utilizing generative AI will initiate AI agent pilots by 2025, increasing to 50% by 2027. This period marks a major turning point for AI agents as businesses invest in them not just for automation but to enhance performance across key use cases.\n",
      "   - [Read more here](https://www.biz4group.com/blog/ai-agent-use-cases).\n",
      "\n",
      "2. **Proactive Problem-Solvers**:\n",
      "   - In 2025, AI agents are expected to evolve from reactive assistants to proactive problem-solvers. They will anticipate needs, suggest solutions, and take autonomous actions. For instance, an AI agent might schedule meetings while also suggesting optimal times for breaks based on user productivity patterns. Additionally, AI agents will be more integrated with the Internet of Things (IoT), enabling them to manage workflows and optimize systems without human intervention.\n",
      "   - [Read more here](https://www.analyticsvidhya.com/blog/2024/12/ai-agent-trends/).\n",
      "\n",
      "3. **Essential Business Tools**:\n",
      "   - By 2025, AI agents are anticipated to become essential tools embedded in core business strategies rather than just experimental pilots. Companies that adopt these technologies early could gain a significant competitive advantage.\n",
      "   - [Read more here](https://www.forbes.com/councils/forbestechcouncil/2025/03/27/how-ai-agents-are-transforming-business-in-2025-and-beyond/).\n",
      "\n",
      "These articles highlight the expected advancements and integration of AI agents in various sectors by 2025, emphasizing their transformative potential and proactive capabilities.\n"
     ]
    }
   ],
   "source": [
    "from langchain.agents import AgentExecutor\n",
    "\n",
    "# Create AgentExecutor\n",
    "agent_executor = AgentExecutor(\n",
    "    agent=agent,\n",
    "    tools=tools,\n",
    "    verbose=True,\n",
    "    max_iterations=5,\n",
    "    max_execution_time=5,\n",
    "    handle_parsing_errors=True,\n",
    ")\n",
    "\n",
    "# Run AgentExecutor\n",
    "result = agent_executor.invoke({\"input\": \"Search news about AI Agent in 2025.\"})\n",
    "\n",
    "print(\"Agent execution result:\")\n",
    "print(result[\"output\"])"
   ]
  },
  {
   "cell_type": "markdown",
   "metadata": {},
   "source": [
    "## 使用串流輸出檢查逐步結果\n",
    "\n",
    "我們將使用 ```AgentExecutor``` 的 ```stream()``` 方法來串流代理的中間步驟。\n",
    "\n",
    "```stream()``` 的輸出在（行動、觀察）對之間交替，最後如果達成目標則以代理的答案結束。\n",
    "\n",
    "流程如下所示：\n",
    "\n",
    "1. 行動輸出\n",
    "2. 觀察輸出\n",
    "3. 行動輸出\n",
    "4. 觀察輸出\n",
    "\n",
    "...（持續直到達成目標）...\n",
    "\n",
    "然後，如果代理達成目標，將得出最終答案。\n",
    "\n",
    "下表總結了您在輸出中會遇到的內容：\n",
    "\n",
    "| 輸出 | 描述 |\n",
    "|--------|-------------|\n",
    "| 行動 | ```actions```：代表 ```AgentAction``` 或其子類別。<br>```messages```：與行動調用對應的聊天訊息。 |\n",
    "| 觀察 | ```steps```：代理工作的記錄，包括當前行動及其觀察。<br>```messages```：包含函式調用結果（即觀察）的聊天訊息。 |\n",
    "| 最終答案 | ```output```：代表 ```AgentFinish``` 信號。<br>```messages```：包含最終輸出的聊天訊息。 |\n",
    "\n",
    "---\n",
    "\n",
    "## 我的見解\n",
    "\n",
    "串流輸出提供了代理「思考過程」的即時可見性，這對除錯和用戶體驗都很重要。行動-觀察的循環模式清楚展現了代理的推理邏輯。\n",
    "\n",
    "## 學習補充重點\n",
    "\n",
    "**串流的實際價值：**\n",
    "- **即時反饋**：用戶可以看到進度，不會感到系統卡住\n",
    "- **除錯利器**：開發者能追蹤每個決策點\n",
    "- **早期介入**：發現錯誤方向時可及時停止\n",
    "\n",
    "**常見輸出模式：**\n",
    "```\n",
    "Action → 工具調用（如搜尋、計算）\n",
    "Observation → 工具返回的結果\n",
    "Action → 基於結果的下一步行動\n",
    "Observation → 新的結果\n",
    "...\n",
    "Final Answer → 最終回答用戶\n",
    "```\n",
    "\n",
    "**最佳實務：**\n",
    "- 長任務必須使用串流避免超時\n",
    "- 生產環境可隱藏中間步驟，只顯示最終結果\n",
    "- 記錄完整串流過程便於後續分析"
   ]
  },
  {
   "cell_type": "code",
   "execution_count": 22,
   "metadata": {},
   "outputs": [],
   "source": [
    "from langchain.agents import AgentExecutor\n",
    "\n",
    "# Create AgentExecutor\n",
    "agent_executor = AgentExecutor(\n",
    "    agent=agent,\n",
    "    tools=tools,\n",
    "    verbose=False,\n",
    "    handle_parsing_errors=True,\n",
    ")"
   ]
  },
  {
   "cell_type": "code",
   "execution_count": 23,
   "metadata": {},
   "outputs": [
    {
     "name": "stdout",
     "output_type": "stream",
     "text": [
      "{'actions': [ToolAgentAction(tool='search_news', tool_input={'query': 'AI Agent 2025'}, log=\"\\nInvoking: `search_news` with `{'query': 'AI Agent 2025'}`\\n\\n\\n\", message_log=[AIMessageChunk(content='', additional_kwargs={'tool_calls': [{'index': 0, 'id': 'call_v99Fp6cNjUNCUO6OhwEWekfw', 'function': {'arguments': '{\"query\":\"AI Agent 2025\"}', 'name': 'search_news'}, 'type': 'function'}]}, response_metadata={'finish_reason': 'tool_calls', 'model_name': 'gpt-4o-mini-2024-07-18', 'system_fingerprint': 'fp_34a54ae93c', 'service_tier': 'default'}, id='run--9fcb3a11-4ba5-44e5-b8b1-7a5ec218dcaf', tool_calls=[{'name': 'search_news', 'args': {'query': 'AI Agent 2025'}, 'id': 'call_v99Fp6cNjUNCUO6OhwEWekfw', 'type': 'tool_call'}], tool_call_chunks=[{'name': 'search_news', 'args': '{\"query\":\"AI Agent 2025\"}', 'id': 'call_v99Fp6cNjUNCUO6OhwEWekfw', 'index': 0, 'type': 'tool_call_chunk'}])], tool_call_id='call_v99Fp6cNjUNCUO6OhwEWekfw')], 'messages': [AIMessageChunk(content='', additional_kwargs={'tool_calls': [{'index': 0, 'id': 'call_v99Fp6cNjUNCUO6OhwEWekfw', 'function': {'arguments': '{\"query\":\"AI Agent 2025\"}', 'name': 'search_news'}, 'type': 'function'}]}, response_metadata={'finish_reason': 'tool_calls', 'model_name': 'gpt-4o-mini-2024-07-18', 'system_fingerprint': 'fp_34a54ae93c', 'service_tier': 'default'}, id='run--9fcb3a11-4ba5-44e5-b8b1-7a5ec218dcaf', tool_calls=[{'name': 'search_news', 'args': {'query': 'AI Agent 2025'}, 'id': 'call_v99Fp6cNjUNCUO6OhwEWekfw', 'type': 'tool_call'}], tool_call_chunks=[{'name': 'search_news', 'args': '{\"query\":\"AI Agent 2025\"}', 'id': 'call_v99Fp6cNjUNCUO6OhwEWekfw', 'index': 0, 'type': 'tool_call_chunk'}])]}\n",
      "============================================================\n",
      "{'steps': [AgentStep(action=ToolAgentAction(tool='search_news', tool_input={'query': 'AI Agent 2025'}, log=\"\\nInvoking: `search_news` with `{'query': 'AI Agent 2025'}`\\n\\n\\n\", message_log=[AIMessageChunk(content='', additional_kwargs={'tool_calls': [{'index': 0, 'id': 'call_v99Fp6cNjUNCUO6OhwEWekfw', 'function': {'arguments': '{\"query\":\"AI Agent 2025\"}', 'name': 'search_news'}, 'type': 'function'}]}, response_metadata={'finish_reason': 'tool_calls', 'model_name': 'gpt-4o-mini-2024-07-18', 'system_fingerprint': 'fp_34a54ae93c', 'service_tier': 'default'}, id='run--9fcb3a11-4ba5-44e5-b8b1-7a5ec218dcaf', tool_calls=[{'name': 'search_news', 'args': {'query': 'AI Agent 2025'}, 'id': 'call_v99Fp6cNjUNCUO6OhwEWekfw', 'type': 'tool_call'}], tool_call_chunks=[{'name': 'search_news', 'args': '{\"query\":\"AI Agent 2025\"}', 'id': 'call_v99Fp6cNjUNCUO6OhwEWekfw', 'index': 0, 'type': 'tool_call_chunk'}])], tool_call_id='call_v99Fp6cNjUNCUO6OhwEWekfw'), observation=[{'url': 'https://www.biz4group.com/blog/ai-agent-use-cases', 'content': 'Across industries, AI agents are emerging as a transformative force in 2025, driving the next wave of intelligent automation. These autonomous software systems, powered by machine learning (ML), natural language processing (NLP), and large language models (LLMs), are capable of performing tasks, making decisions, and collaborating with users and tools with minimal manual input. [...] Market Expansion: The AI agents market is projected to grow from $7.38 billion in 2025 to $47.1 billion by 2030, reflecting a compound annual growth rate (CAGR) of 44.8%.\\n   Enterprise Integration: Deloitte forecasts that by 2025, 25% of companies utilizing generative AI will initiate agentic AI pilots or proofs of concept, with this figure rising to 50% by 2027. [...] 2025 marks a major turning point for AI agents as real-world adoption meets enterprise urgency. With rapid market growth and proven ROI, businesses are investing in AI agents not just to automate — but to outperform across key enterprise AI agent use cases.\\n\\n### Growth Statistics and Trends\\n\\nThe adoption of AI agents is accelerating as organizations recognize their transformative potential:'}, {'url': 'https://www.analyticsvidhya.com/blog/2024/12/ai-agent-trends/', 'content': '_Also Read: How are AI Agents Reshaping the Workplace_\\n\\n### 2. Proactive AI Agents\\n\\nIn 2025, AI agents will transition from reactive assistants to proactive problem-solvers. Instead of waiting for instructions, they’ll anticipate needs, suggest solutions, and take action autonomously. Imagine an AI agent that not only schedules your meetings but also suggests optimal times for breaks or tasks based on your energy levels and productivity patterns. [...] AI agents will become more deeply integrated with the Internet of Things (IoT) in 2025. This integration will enable seamless communication between devices, enhancing automation, data analysis, and real-time decision-making. From smart homes and offices to smart cities, AI agents will soon control devices, manage workflows, and optimize systems without human intervention. [...] In 2025, we would see AI agents offer more hyper-personlized responses. For example, an AI agent in a retail environment might predict that a customer will be interested in a new product based on their browsing history, purchasing patterns, and social media activity.'}, {'url': 'https://www.forbes.com/councils/forbestechcouncil/2025/03/27/how-ai-agents-are-transforming-business-in-2025-and-beyond/', 'content': 'From what I’ve seen in the AI sector, 2025 will be a turning point. AI agents won’t just be experimental pilots anymore—they’ll be essential tools embedded into core business strategies. Companies that move early could gain a significant edge.'}])], 'messages': [FunctionMessage(content='[{\"url\": \"https://www.biz4group.com/blog/ai-agent-use-cases\", \"content\": \"Across industries, AI agents are emerging as a transformative force in 2025, driving the next wave of intelligent automation. These autonomous software systems, powered by machine learning (ML), natural language processing (NLP), and large language models (LLMs), are capable of performing tasks, making decisions, and collaborating with users and tools with minimal manual input. [...] Market Expansion: The AI agents market is projected to grow from $7.38 billion in 2025 to $47.1 billion by 2030, reflecting a compound annual growth rate (CAGR) of 44.8%.\\\\n   Enterprise Integration: Deloitte forecasts that by 2025, 25% of companies utilizing generative AI will initiate agentic AI pilots or proofs of concept, with this figure rising to 50% by 2027. [...] 2025 marks a major turning point for AI agents as real-world adoption meets enterprise urgency. With rapid market growth and proven ROI, businesses are investing in AI agents not just to automate — but to outperform across key enterprise AI agent use cases.\\\\n\\\\n### Growth Statistics and Trends\\\\n\\\\nThe adoption of AI agents is accelerating as organizations recognize their transformative potential:\"}, {\"url\": \"https://www.analyticsvidhya.com/blog/2024/12/ai-agent-trends/\", \"content\": \"_Also Read: How are AI Agents Reshaping the Workplace_\\\\n\\\\n### 2. Proactive AI Agents\\\\n\\\\nIn 2025, AI agents will transition from reactive assistants to proactive problem-solvers. Instead of waiting for instructions, they’ll anticipate needs, suggest solutions, and take action autonomously. Imagine an AI agent that not only schedules your meetings but also suggests optimal times for breaks or tasks based on your energy levels and productivity patterns. [...] AI agents will become more deeply integrated with the Internet of Things (IoT) in 2025. This integration will enable seamless communication between devices, enhancing automation, data analysis, and real-time decision-making. From smart homes and offices to smart cities, AI agents will soon control devices, manage workflows, and optimize systems without human intervention. [...] In 2025, we would see AI agents offer more hyper-personlized responses. For example, an AI agent in a retail environment might predict that a customer will be interested in a new product based on their browsing history, purchasing patterns, and social media activity.\"}, {\"url\": \"https://www.forbes.com/councils/forbestechcouncil/2025/03/27/how-ai-agents-are-transforming-business-in-2025-and-beyond/\", \"content\": \"From what I’ve seen in the AI sector, 2025 will be a turning point. AI agents won’t just be experimental pilots anymore—they’ll be essential tools embedded into core business strategies. Companies that move early could gain a significant edge.\"}]', additional_kwargs={}, response_metadata={}, name='search_news')]}\n",
      "============================================================\n",
      "{'output': 'Here are some recent articles discussing the role and evolution of AI agents in 2025:\\n\\n1. **Transformative Force in 2025**  \\n   - **Source**: [Biz4Group](https://www.biz4group.com/blog/ai-agent-use-cases)  \\n   - **Summary**: AI agents are expected to drive a significant wave of intelligent automation across various industries. By 2025, the market for AI agents is projected to grow from $7.38 billion to $47.1 billion by 2030, with a compound annual growth rate (CAGR) of 44.8%. Deloitte predicts that 25% of companies using generative AI will start AI agent pilots by 2025, increasing to 50% by 2027. This year marks a pivotal moment for AI agents as businesses seek to leverage them for enhanced performance and automation.\\n\\n2. **Proactive AI Agents**  \\n   - **Source**: [Analytics Vidhya](https://www.analyticsvidhya.com/blog/2024/12/ai-agent-trends/)  \\n   - **Summary**: In 2025, AI agents are expected to evolve from reactive assistants to proactive problem-solvers. They will anticipate user needs, suggest solutions, and take autonomous actions. The integration of AI agents with the Internet of Things (IoT) will enhance their ability to manage workflows and optimize systems in smart homes, offices, and cities. Additionally, AI agents will provide hyper-personalized responses based on user behavior and preferences.\\n\\n3. **Essential Tools for Business**  \\n   - **Source**: [Forbes](https://www.forbes.com/councils/forbestechcouncil/2025/03/27/how-ai-agents-are-transforming-business-in-2025-and-beyond/)  \\n   - **Summary**: By 2025, AI agents are anticipated to become essential tools in business strategies rather than just experimental projects. Companies that adopt these technologies early may gain a competitive advantage in their respective markets.\\n\\nThese articles highlight the significant advancements and expected changes in the role of AI agents by 2025, emphasizing their integration into business processes and everyday life.', 'messages': [AIMessage(content='Here are some recent articles discussing the role and evolution of AI agents in 2025:\\n\\n1. **Transformative Force in 2025**  \\n   - **Source**: [Biz4Group](https://www.biz4group.com/blog/ai-agent-use-cases)  \\n   - **Summary**: AI agents are expected to drive a significant wave of intelligent automation across various industries. By 2025, the market for AI agents is projected to grow from $7.38 billion to $47.1 billion by 2030, with a compound annual growth rate (CAGR) of 44.8%. Deloitte predicts that 25% of companies using generative AI will start AI agent pilots by 2025, increasing to 50% by 2027. This year marks a pivotal moment for AI agents as businesses seek to leverage them for enhanced performance and automation.\\n\\n2. **Proactive AI Agents**  \\n   - **Source**: [Analytics Vidhya](https://www.analyticsvidhya.com/blog/2024/12/ai-agent-trends/)  \\n   - **Summary**: In 2025, AI agents are expected to evolve from reactive assistants to proactive problem-solvers. They will anticipate user needs, suggest solutions, and take autonomous actions. The integration of AI agents with the Internet of Things (IoT) will enhance their ability to manage workflows and optimize systems in smart homes, offices, and cities. Additionally, AI agents will provide hyper-personalized responses based on user behavior and preferences.\\n\\n3. **Essential Tools for Business**  \\n   - **Source**: [Forbes](https://www.forbes.com/councils/forbestechcouncil/2025/03/27/how-ai-agents-are-transforming-business-in-2025-and-beyond/)  \\n   - **Summary**: By 2025, AI agents are anticipated to become essential tools in business strategies rather than just experimental projects. Companies that adopt these technologies early may gain a competitive advantage in their respective markets.\\n\\nThese articles highlight the significant advancements and expected changes in the role of AI agents by 2025, emphasizing their integration into business processes and everyday life.', additional_kwargs={}, response_metadata={})]}\n",
      "============================================================\n"
     ]
    }
   ],
   "source": [
    "# Run in streaming mode\n",
    "result = agent_executor.stream({\"input\": \"Search news about AI Agent in 2025.\"})\n",
    "\n",
    "for step in result:\n",
    "    # Print intermediate steps\n",
    "    print(step)\n",
    "    print(\"===\" * 20)"
   ]
  },
  {
   "cell_type": "markdown",
   "metadata": {},
   "source": [
    "## 使用使用者定義函式自定義中間步驟輸出\n",
    "\n",
    "您可以定義以下 3 個函式來自定義中間步驟輸出：\n",
    "\n",
    "- ```tool_callback```：此函式處理工具調用產生的輸出。\n",
    "- ```observation_callback```：此函式處理觀察資料輸出。\n",
    "- ```result_callback```：此函式允許您處理最終答案輸出。\n",
    "\n",
    "---\n",
    "\n",
    "## 我的見解\n",
    "\n",
    "這種回調函式設計讓開發者能完全控制代理輸出的展示方式，非常適合客製化用戶介面或整合到現有系統中。\n",
    "\n",
    "## 學習補充重點\n",
    "\n",
    "**回調函式的應用場景：**\n",
    "- **UI 整合**：將輸出格式化為特定 UI 元件\n",
    "- **日誌記錄**：記錄每個步驟的詳細資訊\n",
    "- **進度追蹤**：更新進度條或狀態指示器\n",
    "- **錯誤處理**：在特定步驟失敗時觸發警報\n",
    "\n",
    "**典型實現範例：**\n",
    "```python\n",
    "def tool_callback(action):\n",
    "    print(f\"🔧 使用工具: {action.tool}\")\n",
    "    \n",
    "def observation_callback(observation):\n",
    "    print(f\"👁️ 觀察結果: {observation[:100]}...\")\n",
    "    \n",
    "def result_callback(result):\n",
    "    print(f\"✅ 最終答案: {result}\")\n",
    "```\n",
    "\n",
    "**進階技巧：**\n",
    "- 可以在回調中進行資料預處理\n",
    "- 結合日誌系統記錄代理行為\n",
    "- 實現條件性輸出（如只在錯誤時顯示詳情）"
   ]
  },
  {
   "cell_type": "markdown",
   "metadata": {},
   "source": [
    "Here's an example callback function that demonstrates how to clean up the intermediate steps of the Agent.\n",
    "\n",
    "This callback function can be useful when presenting intermediate steps to users in an application like Streamlit."
   ]
  },
  {
   "cell_type": "code",
   "execution_count": 24,
   "metadata": {},
   "outputs": [],
   "source": [
    "from typing import Dict, Any\n",
    "\n",
    "\n",
    "# Create AgentStreamParser class\n",
    "class AgentStreamParser:\n",
    "    def __init__(self):\n",
    "        pass\n",
    "\n",
    "    def tool_callback(self, tool: Dict[str, Any]) -> None:\n",
    "        print(\"\\n=== Tool Called ===\")\n",
    "        print(f\"Tool: {tool.get('tool')}\")\n",
    "        print(f\"Input: {tool.get('tool_input')}\")\n",
    "        print(\"==================\\n\")\n",
    "\n",
    "    def observation_callback(self, step: Dict[str, Any]) -> None:\n",
    "        print(\"\\n=== Observation ===\")\n",
    "        observation_data = step[\"steps\"][0].observation\n",
    "        print(f\"Observation: {observation_data}\")\n",
    "        print(\"===================\\n\")\n",
    "\n",
    "    def result_callback(self, result: str) -> None:\n",
    "        print(\"\\n=== Final Answer ===\")\n",
    "        print(result)\n",
    "        print(\"====================\\n\")\n",
    "\n",
    "    def process_agent_steps(self, step: Dict[str, Any]) -> None:\n",
    "        if \"actions\" in step:\n",
    "            for action in step[\"actions\"]:\n",
    "                self.tool_callback(\n",
    "                    {\"tool\": action.tool, \"tool_input\": action.tool_input}\n",
    "                )\n",
    "        elif \"output\" in step:\n",
    "            self.result_callback(step[\"output\"])\n",
    "        else:\n",
    "            self.observation_callback(step)\n",
    "\n",
    "\n",
    "# Create AgentStreamParser instance\n",
    "agent_stream_parser = AgentStreamParser()"
   ]
  },
  {
   "cell_type": "markdown",
   "metadata": {},
   "source": [
    "Check the response process of your Agent in streaming mode."
   ]
  },
  {
   "cell_type": "code",
   "execution_count": 25,
   "metadata": {},
   "outputs": [
    {
     "name": "stderr",
     "output_type": "stream",
     "text": [
      "Python REPL can execute arbitrary code. Use with caution.\n"
     ]
    },
    {
     "name": "stdout",
     "output_type": "stream",
     "text": [
      "\n",
      "=== Tool Called ===\n",
      "Tool: python_repl_tool\n",
      "Input: {'code': \"import matplotlib.pyplot as plt\\n\\n# Data to plot\\nlabels = ['A', 'B', 'C', 'D']\\nsizes = [15, 30, 45, 10]\\ncolors = ['gold', 'yellowgreen', 'lightcoral', 'lightskyblue']\\nexplode = (0.1, 0, 0, 0)  # explode 1st slice\\n\\n# Plot\\nplt.figure(figsize=(8, 6))\\nplt.pie(sizes, explode=explode, labels=labels, colors=colors,\\n        autopct='%1.1f%%', shadow=True, startangle=140)\\nplt.axis('equal')  # Equal aspect ratio ensures that pie is drawn as a circle.\\nplt.title('Pie Chart Example')\\nplt.show()\"}\n",
      "==================\n",
      "\n",
      "\n",
      "=== Observation ===\n",
      "Observation: ModuleNotFoundError(\"No module named 'matplotlib'\")\n",
      "===================\n",
      "\n",
      "\n",
      "=== Final Answer ===\n",
      "It seems that the environment does not have the `matplotlib` library available to generate the pie chart. However, I can provide you with the code that you can run in your own Python environment to create the pie chart.\n",
      "\n",
      "Here is the code:\n",
      "\n",
      "```python\n",
      "import matplotlib.pyplot as plt\n",
      "\n",
      "# Data to plot\n",
      "labels = ['A', 'B', 'C', 'D']\n",
      "sizes = [15, 30, 45, 10]\n",
      "colors = ['gold', 'yellowgreen', 'lightcoral', 'lightskyblue']\n",
      "explode = (0.1, 0, 0, 0)  # explode 1st slice\n",
      "\n",
      "# Plot\n",
      "plt.figure(figsize=(8, 6))\n",
      "plt.pie(sizes, explode=explode, labels=labels, colors=colors,\n",
      "        autopct='%1.1f%%', shadow=True, startangle=140)\n",
      "plt.axis('equal')  # Equal aspect ratio ensures that pie is drawn as a circle.\n",
      "plt.title('Pie Chart Example')\n",
      "plt.show()\n",
      "```\n",
      "\n",
      "You can copy and paste this code into your Python environment where `matplotlib` is installed, and it will generate a pie chart for you. If you need further assistance, feel free to ask!\n",
      "====================\n",
      "\n"
     ]
    }
   ],
   "source": [
    "# Run in streaming mode\n",
    "result = agent_executor.stream({\"input\": \"Generate a pie chart using matplotlib.\"})\n",
    "# result = agent_executor.stream({\"input\": \"Search news about AI Agent in 2025.\"})\n",
    "\n",
    "\n",
    "for step in result:\n",
    "    agent_stream_parser.process_agent_steps(step)"
   ]
  },
  {
   "cell_type": "code",
   "execution_count": 14,
   "metadata": {},
   "outputs": [
    {
     "name": "stdout",
     "output_type": "stream",
     "text": [
      "\n",
      "=== Tool Called ===\n",
      "Tool: search_news\n",
      "Input: {'query': 'AI Agent 2025'}\n",
      "==================\n",
      "\n",
      "\n",
      "=== Observation ===\n",
      "Observation: [{'url': 'https://www.analyticsvidhya.com/blog/2024/12/ai-agent-trends/', 'content': 'In a similar study, Deloitte forecasts that 25% of enterprises using GenAI will deploy AI Agents by 2025, growing to 50% by 2027. Meanwhile, Gartner predicts that by 2028, at least 15% of day-to-day work decisions will be made autonomously through agentic AI. It also states that by then, 33% of enterprise software applications will also include'}, {'url': 'https://www.techtarget.com/searchEnterpriseAI/feature/Next-year-will-be-the-year-of-AI-agents', 'content': 'Next year will be the year of AI agents | TechTarget This will make the AI agent more accurate in completing its task, Greene said. Other than the rise of single-task AI agents, 2025 may also be the year of building the infrastructure for AI agents, said Olivier Blanchard, an analyst with Futurum Group. \"2025 isn\\'t going to be the year when we see a fully developed agentic AI,\" he said. AI agents need an orchestration layer that works across different platforms and devices, Blanchard said. Because data is usually spread across different sources and processes, it might be challenging to give AI agents the data they need to perform the tasks they\\'re being asked to do, Greene said.'}, {'url': 'https://hai.stanford.edu/news/predictions-ai-2025-collaborative-agents-ai-skepticism-and-new-risks', 'content': 'According to leading experts from Stanford Institute for Human-Centered AI, one major trend is the rise of collaborative AI systems where multiple specialized agents work together, with humans providing high-level guidance. I expect to see more focus on multimodal AI models in education, including in processing speech and images. AI Agents Work Together In 2025, we will see a significant shift from relying on individual AI models to using systems where multiple AI agents of diverse expertise work together. As an example, we recently introduced the\\xa0Virtual Lab, where a professor AI agent leads a team of AI scientist agents (e.g., AI chemist, AI biologist) to tackle challenging, open-ended research, with a human researcher providing high-level feedback. We will experience an emerging paradigm of research around how humans work together with AI agents.'}]\n",
      "===================\n",
      "\n",
      "\n",
      "=== Final Answer ===\n",
      "Here are some recent news articles discussing the future of AI agents in 2025:\n",
      "\n",
      "1. **AI Agent Trends**  \n",
      "   - **Source**: [Analytics Vidhya](https://www.analyticsvidhya.com/blog/2024/12/ai-agent-trends/)  \n",
      "   - **Summary**: A study by Deloitte forecasts that 25% of enterprises using Generative AI will deploy AI agents by 2025, with this number expected to grow to 50% by 2027. Gartner predicts that by 2028, at least 15% of daily work decisions will be made autonomously through agentic AI.\n",
      "\n",
      "2. **Next Year Will Be the Year of AI Agents**  \n",
      "   - **Source**: [TechTarget](https://www.techtarget.com/searchEnterpriseAI/feature/Next-year-will-be-the-year-of-AI-agents)  \n",
      "   - **Summary**: Analysts suggest that 2025 may focus on building the infrastructure necessary for AI agents. While single-task AI agents will rise, the development of a comprehensive orchestration layer across platforms will be crucial for their effectiveness.\n",
      "\n",
      "3. **Predictions for AI in 2025**  \n",
      "   - **Source**: [Stanford Institute for Human-Centered AI](https://hai.stanford.edu/news/predictions-ai-2025-collaborative-agents-ai-skepticism-and-new-risks)  \n",
      "   - **Summary**: Experts predict a shift towards collaborative AI systems where multiple specialized agents work together, guided by humans. This includes the development of multimodal AI models in education and research, where AI agents collaborate on complex tasks.\n",
      "\n",
      "These articles highlight the anticipated growth and evolution of AI agents, emphasizing collaboration, infrastructure development, and the integration of AI into enterprise decision-making processes.\n",
      "====================\n",
      "\n"
     ]
    }
   ],
   "source": [
    "# Run in streaming mode\n",
    "result = agent_executor.stream({\"input\": \"Search news about AI Agent in 2025.\"})\n",
    "\n",
    "\n",
    "for step in result:\n",
    "    agent_stream_parser.process_agent_steps(step)"
   ]
  },
  {
   "cell_type": "markdown",
   "metadata": {},
   "source": [
    "Modify the callback function to use it."
   ]
  },
  {
   "cell_type": "code",
   "execution_count": 15,
   "metadata": {},
   "outputs": [],
   "source": [
    "from typing import Dict, Any, Callable\n",
    "\n",
    "\n",
    "# 1. Define AgentCallbacks class\n",
    "class AgentCallbacks:\n",
    "    def __init__(\n",
    "        self,\n",
    "        tool_callback: Callable,\n",
    "        observation_callback: Callable,\n",
    "        result_callback: Callable,\n",
    "    ):\n",
    "        self.tool_callback = tool_callback\n",
    "        self.observation_callback = observation_callback\n",
    "        self.result_callback = result_callback\n",
    "\n",
    "\n",
    "# 2. Define AgentStreamParser class\n",
    "class AgentStreamParser:\n",
    "    def __init__(self, callbacks: AgentCallbacks):\n",
    "        self.callbacks = callbacks\n",
    "\n",
    "    def process_agent_steps(self, step: Dict[str, Any]) -> None:\n",
    "        if \"actions\" in step:\n",
    "            for action in step[\"actions\"]:\n",
    "                self.callbacks.tool_callback(\n",
    "                    {\"tool\": action.tool, \"tool_input\": action.tool_input}\n",
    "                )\n",
    "        elif \"output\" in step:\n",
    "            self.callbacks.result_callback(step[\"output\"])\n",
    "        else:\n",
    "            self.callbacks.observation_callback(step)\n",
    "\n",
    "\n",
    "# 3. Define callback functions\n",
    "def tool_callback(tool) -> None:\n",
    "    print(\"<<<<<<< Tool Called >>>>>>\")\n",
    "    print(f\"Tool: {tool.get('tool')}\")\n",
    "    print(f\"Input: {tool.get('tool_input')}\")\n",
    "    print(\"<<<<<<< Tool Called >>>>>>\")\n",
    "\n",
    "\n",
    "def observation_callback(step) -> None:\n",
    "    print(\"<<<<<<< Observation >>>>>>\")\n",
    "    observation_data = step[\"steps\"][0].observation\n",
    "    print(f\"Observation: {observation_data}\")\n",
    "    print(\"<<<<<<< Observation >>>>>>\")\n",
    "\n",
    "\n",
    "def result_callback(result: str) -> None:\n",
    "    print(\"<<<<<<< Final Answer >>>>>>\")\n",
    "    print(result)\n",
    "    print(\"<<<<<<< Final Answer >>>>>>\")\n",
    "\n",
    "\n",
    "# 4. Example usage\n",
    "# Wrap callback functions into AgentCallbacks instance\n",
    "agent_callbacks = AgentCallbacks(\n",
    "    tool_callback=tool_callback,\n",
    "    observation_callback=observation_callback,\n",
    "    result_callback=result_callback,\n",
    ")\n",
    "\n",
    "# Create AgentStreamParser instance\n",
    "agent_stream_parser = AgentStreamParser(agent_callbacks)"
   ]
  },
  {
   "cell_type": "markdown",
   "metadata": {},
   "source": [
    "Check the output content. You can reflect the output value of your callback functions, providing intermediate content that has been changed."
   ]
  },
  {
   "cell_type": "code",
   "execution_count": 16,
   "metadata": {},
   "outputs": [
    {
     "name": "stdout",
     "output_type": "stream",
     "text": [
      "<<<<<<< Tool Called >>>>>>\n",
      "Tool: search_news\n",
      "Input: {'query': 'AI Agent 2025'}\n",
      "<<<<<<< Tool Called >>>>>>\n",
      "<<<<<<< Observation >>>>>>\n",
      "Observation: [{'url': 'https://www.analyticsvidhya.com/blog/2024/12/ai-agents-to-look-out-for/', 'content': \"Q2. Why are these five AI agents considered game-changers for 2025? Ans. The selected agents—Oracle's Miracle Agent, Nvidia's Eureka Agent, Google's Project Jarvis, SAP's Joule Collaborative AI Agents, and Cisco's Webex AI Agent—stand out due to their innovative designs, broad applications, and industry impact.\"}, {'url': 'https://www.analyticsvidhya.com/blog/2024/12/ai-agent-trends/', 'content': 'In a similar study, Deloitte forecasts that 25% of enterprises using GenAI will deploy AI Agents by 2025, growing to 50% by 2027. Meanwhile, Gartner predicts that by 2028, at least 15% of day-to-day work decisions will be made autonomously through agentic AI. It also states that by then, 33% of enterprise software applications will also include'}, {'url': 'https://hai.stanford.edu/news/predictions-ai-2025-collaborative-agents-ai-skepticism-and-new-risks', 'content': 'According to leading experts from Stanford Institute for Human-Centered AI, one major trend is the rise of collaborative AI systems where multiple specialized agents work together, with humans providing high-level guidance. I expect to see more focus on multimodal AI models in education, including in processing speech and images. AI Agents Work Together In 2025, we will see a significant shift from relying on individual AI models to using systems where multiple AI agents of diverse expertise work together. As an example, we recently introduced the\\xa0Virtual Lab, where a professor AI agent leads a team of AI scientist agents (e.g., AI chemist, AI biologist) to tackle challenging, open-ended research, with a human researcher providing high-level feedback. We will experience an emerging paradigm of research around how humans work together with AI agents.'}]\n",
      "<<<<<<< Observation >>>>>>\n",
      "<<<<<<< Final Answer >>>>>>\n",
      "Here are some recent news articles discussing AI Agents and their expected developments in 2025:\n",
      "\n",
      "1. **AI Agents to Look Out For**  \n",
      "   - **Source**: [Analytics Vidhya](https://www.analyticsvidhya.com/blog/2024/12/ai-agents-to-look-out-for/)  \n",
      "   - **Summary**: This article highlights five AI agents considered game-changers for 2025, including Oracle's Miracle Agent, Nvidia's Eureka Agent, Google's Project Jarvis, SAP's Joule Collaborative AI Agents, and Cisco's Webex AI Agent. These agents are noted for their innovative designs and broad applications across various industries.\n",
      "\n",
      "2. **AI Agent Trends**  \n",
      "   - **Source**: [Analytics Vidhya](https://www.analyticsvidhya.com/blog/2024/12/ai-agent-trends/)  \n",
      "   - **Summary**: A study by Deloitte forecasts that 25% of enterprises using Generative AI will deploy AI Agents by 2025, with this number expected to grow to 50% by 2027. Gartner predicts that by 2028, at least 15% of daily work decisions will be made autonomously through AI agents.\n",
      "\n",
      "3. **Predictions for AI in 2025**  \n",
      "   - **Source**: [Stanford Institute for Human-Centered AI](https://hai.stanford.edu/news/predictions-ai-2025-collaborative-agents-ai-skepticism-and-new-risks)  \n",
      "   - **Summary**: Experts predict a rise in collaborative AI systems where multiple specialized agents work together, guided by humans. The article discusses the shift from individual AI models to systems where diverse AI agents collaborate, exemplified by a Virtual Lab where an AI professor leads a team of AI scientist agents.\n",
      "\n",
      "These articles provide insights into the anticipated advancements and trends in AI agents by 2025.\n",
      "<<<<<<< Final Answer >>>>>>\n"
     ]
    }
   ],
   "source": [
    "# Request streaming output for the query\n",
    "result = agent_executor.stream({\"input\": \"Search news about AI Agent in 2025.\"})\n",
    "\n",
    "for step in result:\n",
    "    # Output intermediate steps using parser\n",
    "    agent_stream_parser.process_agent_steps(step)"
   ]
  },
  {
   "cell_type": "markdown",
   "metadata": {},
   "source": [
    "## Communicating Agent with previous conversation history\n",
    "\n",
    "To remember past conversations, you can wrap the ```AgentExecutor``` with ```RunnableWithMessageHistory```.\n",
    "\n",
    "For more details on ```RunnableWithMessageHistory```, please refer to the link below.\n",
    "\n",
    "**Reference**\n",
    "- [LangChain Python API Reference > langchain: 0.3.14 > core > runnables > langchain_core.runnables.history > RunnableWithMessageHistory](https://python.langchain.com/api_reference/core/runnables/langchain_core.runnables.history.RunnableWithMessageHistory.html)"
   ]
  },
  {
   "cell_type": "code",
   "execution_count": 26,
   "metadata": {},
   "outputs": [],
   "source": [
    "from langchain_community.chat_message_histories import ChatMessageHistory\n",
    "from langchain_core.runnables.history import RunnableWithMessageHistory\n",
    "\n",
    "# Create a dictionary to store session_id\n",
    "store = {}\n",
    "\n",
    "\n",
    "# Function to get session history based on session_id\n",
    "def get_session_history(session_ids):\n",
    "    if session_ids not in store:  # If session_id is not in store\n",
    "        # Create a new ChatMessageHistory object and store it in store\n",
    "        store[session_ids] = ChatMessageHistory()\n",
    "    return store[session_ids]  # Return session history for the corresponding session_id\n",
    "\n",
    "\n",
    "# Create an agent with chat message history\n",
    "agent_with_chat_history = RunnableWithMessageHistory(\n",
    "    agent_executor,\n",
    "    # Chat session_id\n",
    "    get_session_history,\n",
    "    # The key for the question input in the prompt: \"input\"\n",
    "    input_messages_key=\"input\",\n",
    "    # The key for the message input in the prompt: \"chat_history\"\n",
    "    history_messages_key=\"chat_history\",\n",
    ")"
   ]
  },
  {
   "cell_type": "code",
   "execution_count": 27,
   "metadata": {},
   "outputs": [
    {
     "name": "stdout",
     "output_type": "stream",
     "text": [
      "\n",
      "=== Final Answer ===\n",
      "Hello, Teddy! How can I assist you today?\n",
      "====================\n",
      "\n"
     ]
    }
   ],
   "source": [
    "# Request streaming output for the query\n",
    "response = agent_with_chat_history.stream(\n",
    "    {\"input\": \"Hello! My name is Teddy!\"},\n",
    "    # Set session_id\n",
    "    config={\"configurable\": {\"session_id\": \"abc123\"}},\n",
    ")\n",
    "\n",
    "# Check the output\n",
    "for step in response:\n",
    "    agent_stream_parser.process_agent_steps(step)"
   ]
  },
  {
   "cell_type": "code",
   "execution_count": 28,
   "metadata": {},
   "outputs": [
    {
     "name": "stdout",
     "output_type": "stream",
     "text": [
      "\n",
      "=== Final Answer ===\n",
      "Your name is Teddy! How can I help you today?\n",
      "====================\n",
      "\n"
     ]
    }
   ],
   "source": [
    "# Request streaming output for the query\n",
    "response = agent_with_chat_history.stream(\n",
    "    {\"input\": \"What is my name?\"},\n",
    "    # Set session_id\n",
    "    config={\"configurable\": {\"session_id\": \"abc123\"}},\n",
    ")\n",
    "\n",
    "# Check the output\n",
    "for step in response:\n",
    "    agent_stream_parser.process_agent_steps(step)"
   ]
  },
  {
   "cell_type": "code",
   "execution_count": 29,
   "metadata": {},
   "outputs": [
    {
     "name": "stdout",
     "output_type": "stream",
     "text": [
      "\n",
      "=== Final Answer ===\n",
      "Thank you for sharing that information, Teddy! How can I assist you with TeddyNote Co., Ltd. or anything else today?\n",
      "====================\n",
      "\n"
     ]
    }
   ],
   "source": [
    "# Request streaming output for the query\n",
    "response = agent_with_chat_history.stream(\n",
    "    {\n",
    "        \"input\": \"My email address is teddy@teddynote.com. The company name is TeddyNote Co., Ltd.\"\n",
    "    },\n",
    "    # Set session_id\n",
    "    config={\"configurable\": {\"session_id\": \"abc123\"}},\n",
    ")\n",
    "\n",
    "# Check the output\n",
    "for step in response:\n",
    "    agent_stream_parser.process_agent_steps(step)"
   ]
  },
  {
   "cell_type": "code",
   "execution_count": 30,
   "metadata": {},
   "outputs": [
    {
     "name": "stdout",
     "output_type": "stream",
     "text": [
      "\n",
      "=== Tool Called ===\n",
      "Tool: search_news\n",
      "Input: {'query': 'latest news'}\n",
      "==================\n",
      "\n",
      "\n",
      "=== Observation ===\n",
      "Observation: [{'url': 'https://en.wikipedia.org/wiki/Portal:Current_events/June_2025', 'content': 'Arts and culture\\n\\n   Argentine presidentJavier Milei is awarded the Genesis Prize during a state visit to Israel for his support for Israel, becoming the first non-Jewish person to receive such recognition. (_Clarín_)(_Haaretz_)\\n\\nBusiness and economy\\n\\n   Australianflag carrierQantas announces the closure of its Singapore-based, partly owned low-cost airlineJetstar Asia due to rising costs and regional competition. (BBC News)\\n\\nDisasters and accidents [...] 2025 Gerik bus crash\\n       Fifteen people are killed and 33 others are injured in a traffic collision when a bus carrying students loses control and crashes into the back of a minivan on the East–West Highway \"East–West Highway (Malaysia)\") near Gerik, Perak, Malaysia. (France 24) [...] Russian invasion of Ukraine\\n       Kharkiv strikes \"Kharkiv strikes (2022–present)\")\\n           A Russian air attack on Kharkiv, Ukraine, involving Shahed drones, cruise missiles and glide bombs kills four people and wounds at least 60 others, according to local officials. (Reuters)\\n\\nArts and culture\\n\\n   Decommunization\\n       Kyrgyzstan takes down a 23-meter-tall statue of the Soviet leader Vladimir Lenin, thought to be the tallest statue of Lenin in Central Asia. (BBC News)\\n\\nLaw and crime'}, {'url': 'https://news.yahoo.com/', 'content': 'The latest news and headlines from Yahoo News. Get breaking news stories and in-depth coverage with videos and photos.'}, {'url': 'https://www.globalissues.org/news/2025/06', 'content': 'Thursday, June 12, 2025 - Inter Press Service\\n\\nImage 4\\nNICE, France, Jun 12 (IPS) - Once cast as a culprit of ocean degradation, the global shipping industry is quietly reshaping its image—with experts now betting on it as a key ally in saving our seas. \\n3.   Atoll Nation of Tuvalu Faces Climate Existential Crisis, Frustration With Slow Funding\\n-------------------------------------------------------------------------------------------------------------------------------------------- [...] Thursday, June 12, 2025 - Inter Press Service\\n\\nImage 7\\nOSLO, Norway, Jun 12 (IPS) - The world is experiencing a surge in violence not seen since the post-World War II era. 2024 marked a grim new record: the highest number of state-based armed conflicts in over seven decades. \\n6.   UN General Assembly adopts Gaza ceasefire resolution by overwhelming majority\\n----------------------------------------------------------------------------------------------------------------------------------- [...] News headlines in June 2025\\n===========================\\n\\n1.   Nia Tero: Indigenous Guardianship the Only Time-Tested Approach To Healthy Ocean Ecosystems\\n-------------------------------------------------------------------------------------------------------------------------------------------------\\n\\nThursday, June 12, 2025 - Inter Press Service'}]\n",
      "===================\n",
      "\n",
      "\n",
      "=== Final Answer ===\n",
      "Here's a draft for your email to Ms. Sally, including the latest news:\n",
      "\n",
      "---\n",
      "\n",
      "**Subject:** Latest News Update\n",
      "\n",
      "Dear Ms. Sally,\n",
      "\n",
      "I hope this message finds you well.\n",
      "\n",
      "I wanted to share some of the latest news highlights with you:\n",
      "\n",
      "1. **Arts and Culture**: Argentine President Javier Milei has been awarded the Genesis Prize during a state visit to Israel for his support for the country, making him the first non-Jewish recipient of this honor. [Read more here](https://en.wikipedia.org/wiki/Portal:Current_events/June_2025).\n",
      "\n",
      "2. **Business and Economy**: Qantas, the Australian flag carrier, has announced the closure of its Singapore-based low-cost airline, Jetstar Asia, due to rising costs and increased regional competition. [Read more here](https://en.wikipedia.org/wiki/Portal:Current_events/June_2025).\n",
      "\n",
      "3. **Disasters and Accidents**: A tragic traffic collision in Malaysia resulted in the deaths of fifteen people and injuries to thirty-three others when a bus carrying students lost control and crashed. [Read more here](https://en.wikipedia.org/wiki/Portal:Current_events/June_2025).\n",
      "\n",
      "4. **International Affairs**: A recent Russian air attack on Kharkiv, Ukraine, has resulted in casualties, with local officials reporting four deaths and at least sixty injuries. [Read more here](https://en.wikipedia.org/wiki/Portal:Current_events/June_2025).\n",
      "\n",
      "5. **Cultural Changes**: Kyrgyzstan has taken down a 23-meter-tall statue of Soviet leader Vladimir Lenin, believed to be the tallest of its kind in Central Asia. [Read more here](https://en.wikipedia.org/wiki/Portal:Current_events/June_2025).\n",
      "\n",
      "Please let me know if you would like more information on any of these topics.\n",
      "\n",
      "Thank you for your time, and I look forward to hearing from you soon.\n",
      "\n",
      "Best regards,\n",
      "\n",
      "Teddy  \n",
      "teddy@teddynote.com  \n",
      "TeddyNote Co., Ltd.\n",
      "\n",
      "--- \n",
      "\n",
      "Feel free to modify any part of the email as you see fit!\n",
      "====================\n",
      "\n"
     ]
    }
   ],
   "source": [
    "# Request streaming output for the query\n",
    "response = agent_with_chat_history.stream(\n",
    "    {\n",
    "        \"input\": \"Search the latest news and write it as the body of the email. \"\n",
    "        \"The recipient is `Ms. Sally` and the sender is my personal information.\"\n",
    "        \"Write in a polite tone, and include appropriate greetings and closings at the beginning and end of the email.\"\n",
    "    },\n",
    "    # Set session_id\n",
    "    config={\"configurable\": {\"session_id\": \"abc123\"}},\n",
    ")\n",
    "\n",
    "# Check the output\n",
    "for step in response:\n",
    "    agent_stream_parser.process_agent_steps(step)"
   ]
  },
  {
   "cell_type": "code",
   "execution_count": 31,
   "metadata": {},
   "outputs": [
    {
     "name": "stdout",
     "output_type": "stream",
     "text": [
      "\n",
      "=== Final Answer ===\n",
      "I don't have access to your personal information, including your name. If you'd like to share your name or any other details, feel free to do so!\n",
      "====================\n",
      "\n"
     ]
    }
   ],
   "source": [
    "# Request streaming output for the query\n",
    "response = agent_with_chat_history.stream(\n",
    "    {\"input\": \"What is my name?\"},\n",
    "    # Set session_id\n",
    "    config={\"configurable\": {\"session_id\": \"def456\"}},\n",
    ")\n",
    "\n",
    "# Check the output\n",
    "for step in response:\n",
    "    agent_stream_parser.process_agent_steps(step)"
   ]
  }
 ],
 "metadata": {
  "kernelspec": {
   "display_name": "Python 3",
   "language": "python",
   "name": "python3"
  },
  "language_info": {
   "codemirror_mode": {
    "name": "ipython",
    "version": 3
   },
   "file_extension": ".py",
   "mimetype": "text/x-python",
   "name": "python",
   "nbconvert_exporter": "python",
   "pygments_lexer": "ipython3",
   "version": "3.11.9"
  }
 },
 "nbformat": 4,
 "nbformat_minor": 2
}
