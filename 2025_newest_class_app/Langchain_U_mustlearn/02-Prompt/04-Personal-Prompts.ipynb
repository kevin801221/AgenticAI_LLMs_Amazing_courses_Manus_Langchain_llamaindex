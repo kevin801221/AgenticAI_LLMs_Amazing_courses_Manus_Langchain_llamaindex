{
 "cells": [
  {
   "cell_type": "markdown",
   "metadata": {
    "id": "o3FhQbSSEKAq"
   },
   "source": [
    "# Personal Prompts for LangChain\n",
    "\n",
    "\n",
    "## Overview\n",
    "\n",
    "這是一個包含各種專業領域專門提示的cookbook。這些提示是使用LangChain設計的，旨在利用大規模語言模型的力量，同時保持專業領域的專業知識和專業標準。\n",
    "\n",
    "> 本專案的主要目標是:\n",
    "- 提供不同專業領域的標準化、高質量提示\n",
    "- 使語言模型產生一致且可靠的輸出\n",
    "- 促進專業領域知識的提取和分析\n",
    "- 支援自動化報告生成和內容創作\n",
    "- 在各種領域維持專業標準\n",
    "\n",
    "### Table of Contents\n",
    "\n",
    "- [Overview](##overview)\n",
    "- [Prompt Generating Tips](##prompt-generating-tips)\n",
    "- [Basic Prompts](##basic-prompts)\n",
    "- [Advanced Prompts](##advanced-prompts)\n",
    "- [Specialized Prompts](##specialized-prompts)\n",
    "- [Professional Domain Prompts](##professional-domain-prompts)\n",
    "\n",
    "### References\n",
    "\n",
    "    - [Prompt Engineering Guide: Gemini](https://www.promptingguide.ai/models/gemini)\n",
    "- [Google: Prompting Guide 101](https://services.google.com/fh/files/misc/gemini-for-google-workspace-prompting-guide-101.pdf)\n",
    "- [Anthropic: Prompt Engineering - Use XML tags to structure your prompts\n",
    "](https://docs.anthropic.com/en/docs/build-with-claude/prompt-engineering/use-xml-tags)\n",
    "- [Anthropic: Prompt engineering overview](https://docs.anthropic.com/en/docs/build-with-claude/prompt-engineering/overview)\n",
    "- [Anthropic: Anthropic's Prompt Engineering Interactive Tutorial](https://docs.google.com/spreadsheets/d/19jzLgRruG9kjUQNKtCg1ZjdD6l6weA6qRXG5zLIAhC8/edit?gid=1733615301#gid=1733615301)\n",
    "- [Github: prompt-eng-interactive-tutorial](https://github.com/anthropics/prompt-eng-interactive-tutorial)\n",
    "- [The Decoder: Chat GPT Guide](https://the-decoder.com/chatgpt-guide-prompt-strategies/)\n",
    "- [Dorik: How to Write Prompts for ChatGPT (with Examples)](https://dorik.com/blog/how-to-write-prompts-for-chatgpt)\n",
    "- [Coursera: How To Write ChatGPT Prompts: Your 2025 Guide](https://www.coursera.org/articles/how-to-write-chatgpt-prompts)\n",
    "- [LangSmith: Prompt Hub](https://docs.smith.langchain.com/old/hub/dev-setup)\n",
    "----"
   ]
  },
  {
   "cell_type": "markdown",
   "metadata": {
    "id": "ujWGc2x1KTAN"
   },
   "source": [
    "## Environment Setup\n",
    "\n",
    "Set up the environment. You may refer to [Environment Setup](https://wikidocs.net/257836) for more details.\n",
    "\n",
    "**[Note]**\n",
    "- ```langchain-opentutorial``` is a package that provides a set of easy-to-use environment setup, useful functions and utilities for tutorials.\n",
    "- You can checkout the [```langchain-opentutorial```](https://github.com/LangChain-OpenTutorial/langchain-opentutorial-pypi) for more details."
   ]
  },
  {
   "cell_type": "code",
   "execution_count": 3,
   "metadata": {
    "id": "HG2L3xhaKSIw"
   },
   "outputs": [],
   "source": [
    "%%capture --no-stderr\n",
    "!pip install dotenv langchain-opentutorial langchain langchainhub"
   ]
  },
  {
   "cell_type": "code",
   "execution_count": null,
   "metadata": {
    "id": "J_ILb4kLiJ3n"
   },
   "outputs": [],
   "source": [
    "# Install required packages\n",
    "from langchain_opentutorial import package\n",
    "\n",
    "package.install(\n",
    "    [\n",
    "        \"langsmith\",\n",
    "        \"langchain\",\n",
    "        \"langchainhub\"\n",
    "    ],\n",
    "    verbose=False,\n",
    "    upgrade=False,\n",
    ")"
   ]
  },
  {
   "cell_type": "code",
   "execution_count": null,
   "metadata": {
    "id": "ZoxdCFP7iK5Z"
   },
   "outputs": [],
   "source": [
    "# Set environment variables\n",
    "from langchain_opentutorial import set_env\n",
    "\n",
    "set_env(\n",
    "    {\n",
    "        \"OPENAI_API_KEY\": \"\",\n",
    "        # Get an API key for your Personal organization if you have not yet. The hub will not work with your non-personal organization's api key!\n",
    "        # If you already have LANGCHAIN_API_KEY set to a personal organization’s api key from LangSmith, you can skip this.\n",
    "        \"LANGCHAIN_API_KEY\": \"\",\n",
    "        \"LANGCHAIN_TRACING_V2\": \"true\",\n",
    "        \"LANGCHAIN_ENDPOINT\": \"https://api.smith.langchain.com\",\n",
    "        \"LANGCHAIN_PROJECT\": \"Personal Prompts for LangChain\",\n",
    "    }\n",
    ")"
   ]
  },
  {
   "cell_type": "code",
   "execution_count": 5,
   "metadata": {
    "id": "6gmaqpo9LyTU"
   },
   "outputs": [],
   "source": [
    "# import os\n",
    "\n",
    "# os.environ[\"OPENAI_API_KEY\"] = \"\"\n",
    "# os.environ[\"LANGCHAIN_API_KEY\"] = \"\"\n",
    "# os.environ[\"LANGCHAIN_TRACING_V2\"] = \"true\"\n",
    "# os.environ[\"LANGCHAIN_ENDPOINT\"] = \"https://api.smith.langchain.com\"\n",
    "# os.environ[\"LANGCHAIN_PROJECT\"] = \"Personal Prompts for LangChain\""
   ]
  },
  {
   "cell_type": "markdown",
   "metadata": {
    "id": "eo87C1reS4rC"
   },
   "source": [
    "## Prompt Generating Tips\n",
    "\n",
    "\n",
    "### **模型比較:**\n",
    "\n",
    "| Feature                | **ChatGPT**                                      | **Claude**                                      | **Gemini**                                      |\n",
    "|------------------------|--------------------------------------------------|------------------------------------------------|------------------------------------------------|\n",
    "| **強項**           | 聲明、邏輯推理能力                               | 能處理結構化格式、邏輯回應                       | 能處理詳細任務和範例                           |\n",
    "| **最佳實踐**       | 清晰、聚焦的提示                                  | XML-style結構化提示                              | 詳細的指示和範例                               |\n",
    "| **使用案例**    | 寫電子郵件、 casual conversations                | 分析任務、結構化輸出                             | 概要、詳細報告、多模態任務                       |\n",
    "\n",
    "遵循這些專門提示，您可以最大限度地發揮每個模型的優勢，並在您的 LangChain 專案中實現最佳性能。"
   ]
  },
  {
   "cell_type": "markdown",
   "metadata": {
    "id": "uvQ5teCqwKvM"
   },
   "source": [
    "\n",
    "### **1. ChatGPT (OpenAI's GPT-4)**  \n",
    "ChatGPT是一個強大的語言模型，以其對話能力及邏輯推理能力聞名。\n",
    "\n",
    "> **提示技巧:**\n",
    "- **保持清晰和聚焦:**  清楚地定義您希望模型完成什麼。不要用太多背景信息來過載它。\n",
    "- **要求特定格式:**  如果您需要以項目、表格或段落的形式回答，請提及。\n",
    "- **分配角色:**  告訴ChatGPT它是誰（例如，\"你是專案經理\"）以獲得更客製化的回答。\n"
   ]
  },
  {
   "cell_type": "code",
   "execution_count": null,
   "metadata": {
    "colab": {
     "base_uri": "https://localhost:8080/",
     "height": 36
    },
    "id": "bGRKNlD0Ezv-",
    "outputId": "8bd62e02-1547-4a00-b092-906b77c40d93"
   },
   "outputs": [
    {
     "data": {
      "application/vnd.google.colaboratory.intrinsic+json": {
       "type": "string"
      },
      "text/plain": [
       "'You are a professional email writer. Write a polite email to a client informing them of a project delay of one month due to supply chain issues. The tone should be apologetic but confident.'"
      ]
     },
     "execution_count": 6,
     "metadata": {},
     "output_type": "execute_result"
    }
   ],
   "source": [
    "# Example Prompt for GPT4\n",
    "\"You are a professional email writer. Write a polite email to a client informing them of a project delay of one month due to supply chain issues. The tone should be apologetic but confident.\""
   ]
  },
  {
   "cell_type": "markdown",
   "metadata": {
    "id": "ZPoI2wEXEtZx"
   },
   "source": [
    "\n",
    "\n",
    "### **2. Claude (Anthropic's Model)**  \n",
    "Claude excels in structured 思考和理解詳細任務。它通常與 **XML-style 格式化** 一起使用。\n",
    "\n",
    "> **提示技巧:**\n",
    "- **使用結構化格式:**  使用 XML 標籤組織指示，這有助於 Claude 解釋它們。\n",
    "- **提供上下文和範例:**  添加清晰的任務和範例以引導模型的回應。\n"
   ]
  },
  {
   "cell_type": "code",
   "execution_count": null,
   "metadata": {
    "colab": {
     "base_uri": "https://localhost:8080/",
     "height": 74
    },
    "id": "X-J4xElqE8GH",
    "outputId": "bb199b26-fb57-4d21-c9c3-0d9ba7632bad"
   },
   "outputs": [
    {
     "data": {
      "application/vnd.google.colaboratory.intrinsic+json": {
       "type": "string"
      },
      "text/plain": [
       "'\\n<context>\\n  <project>\\n    <name>Website Redesign</name>\\n    <deadline>March 15, 2025</deadline>\\n  </project>\\n</context>\\n<instructions>\\n  Write an email to the client explaining the project will be delayed by one month due to supply chain issues. Apologize and propose a new deadline.\\n</instructions>\\n<example>\\n  Dear [Client Name],\\n\\n  Due to supply chain challenges, we regret to inform you that the project will be delayed. The new expected completion date is April 15, 2025. We apologize for the inconvenience and appreciate your understanding.\\n\\n  Best regards,  \\n  [Your Name]\\n</example>\\n'"
      ]
     },
     "execution_count": 7,
     "metadata": {},
     "output_type": "execute_result"
    }
   ],
   "source": [
    "# Example Prompt for Claude\n",
    "\"\"\"\n",
    "<context>\n",
    "  <project>\n",
    "    <name>Website Redesign</name>\n",
    "    <deadline>March 15, 2025</deadline>\n",
    "  </project>\n",
    "</context>\n",
    "<instructions>\n",
    "  Write an email to the client explaining the project will be delayed by one month due to supply chain issues. Apologize and propose a new deadline.\n",
    "</instructions>\n",
    "<example>\n",
    "  Dear [Client Name],\n",
    "\n",
    "  Due to supply chain challenges, we regret to inform you that the project will be delayed. The new expected completion date is April 15, 2025. We apologize for the inconvenience and appreciate your understanding.\n",
    "\n",
    "  Best regards,\n",
    "  [Your Name]\n",
    "</example>\n",
    "\"\"\""
   ]
  },
  {
   "cell_type": "markdown",
   "metadata": {
    "id": "DyExycWfExUW"
   },
   "source": [
    "\n",
    "\n",
    "### **3. Gemini (Google’s AI Model)**  \n",
    "Gemini 是一個先進的多模態 AI，設計用於跨文本、圖像和其他數據類型工作。它有效地處理詳細和結構化的任務。\n",
    "\n",
    "> **提示技巧:**\n",
    "- **詳細且具體:**  清楚地解釋任務並提供任何必要的背景細節。\n",
    "- **將複雜任務分解為步驟:**  如果任務複雜，將其分解為更小的、序列的步驟。\n",
    "- **添加範例:**  提供範例有助於 Gemini 的輸出與您的期望對齊。\n",
    "\n"
   ]
  },
  {
   "cell_type": "code",
   "execution_count": null,
   "metadata": {
    "colab": {
     "base_uri": "https://localhost:8080/",
     "height": 36
    },
    "id": "9MI5GzQcFFNt",
    "outputId": "9b945294-dea9-43f4-f31a-042d38b74e69"
   },
   "outputs": [
    {
     "data": {
      "application/vnd.google.colaboratory.intrinsic+json": {
       "type": "string"
      },
      "text/plain": [
       "'You are a marketing strategist. Write a 200-word summary of the key milestones achieved in a project, emphasizing the team’s performance and results. Use a professional tone.'"
      ]
     },
     "execution_count": 8,
     "metadata": {},
     "output_type": "execute_result"
    }
   ],
   "source": [
    "# Exmple Prompt for Gemini\n",
    "\"You are a marketing strategist. Write a 200-word summary of the key milestones achieved in a project, emphasizing the team’s performance and results. Use a professional tone.\""
   ]
  },
  {
   "cell_type": "markdown",
   "metadata": {
    "id": "qFfeSRoCEj4I"
   },
   "source": [
    "---\n",
    "## Basic Prompts\n",
    "\n",
    "Basic Prompts 章節覆蓋了在所有領域中最常見的摘要任務。這些提示可以單獨使用或組合在管道中:\n",
    "\n",
    "\n",
    "1. **序列處理**\n",
    "   ```python\n",
    "   documents → Summary Prompt → Map Prompt → Reduce Prompt → Final Output\n",
    "   ```\n",
    "\n",
    "2. **平行處理**\n",
    "   ```python\n",
    "   documents → Multiple Summary Prompts (parallel)\n",
    "            → Map Prompts (parallel)\n",
    "            → Single Reduce Prompt\n",
    "            → Final Output\n",
    "   ```\n",
    "\n",
    "3. **混合處理**\n",
    "   ```python\n",
    "   documents → Summary Prompt\n",
    "            → Map Prompt (for themes)\n",
    "            → Reduce Prompt (for final synthesis)\n",
    "            → Additional Summary Prompt (for final polish)\n",
    "   ```\n",
    "\n",
    "\n",
    "\n",
    "### 1. Summary Prompt\n",
    "\n",
    "Summary Prompt 是設計用於創建簡潔、有信息的摘要，同時保持關鍵信息和上下文。\n",
    "\n"
   ]
  },
  {
   "cell_type": "code",
   "execution_count": null,
   "metadata": {
    "id": "D5d4muPzSW06"
   },
   "outputs": [],
   "source": [
    "PROMPT_OWNER = \"eun\""
   ]
  },
  {
   "cell_type": "code",
   "execution_count": null,
   "metadata": {
    "colab": {
     "base_uri": "https://localhost:8080/"
    },
    "id": "0jCgju8_E_V1",
    "outputId": "caac0a06-b18c-487e-b231-20c52b4e9044"
   },
   "outputs": [
    {
     "data": {
      "text/plain": [
       "PromptTemplate(input_variables=['context'], input_types={}, partial_variables={}, template='\\nPlease summarize the sentence according to the following REQUEST.\\nREQUEST:\\n1. Summarize the main points in bullet points.\\n2. Each summarized sentence must start with an emoji that fits the meaning of the each sentence.\\n3. Use various emojis to make the summary more interesting.\\n4. DO NOT include any unnecessary information.\\n\\nCONTEXT:\\n{context}\\n\\nSUMMARY:\"\\n')"
      ]
     },
     "execution_count": 15,
     "metadata": {},
     "output_type": "execute_result"
    }
   ],
   "source": [
    "from langchain import hub\n",
    "from langchain.prompts import PromptTemplate\n",
    "\n",
    "# Let's upload the prompt to the LangChain Hub.\n",
    "# Don't forget to enter the LangSmith API as an environment variable.\n",
    "prompt_title = \"summarize_document\"\n",
    "\n",
    "summarize_prompt = \"\"\"\n",
    "請總結文檔，並按照以下要求進行總結。\n",
    "需求:\n",
    "1. 總結主要重點，並以列表形式呈現。\n",
    "2. 每一個總結句子都必須以一個符號開始，該符號要符合該句子的含義。\n",
    "3. 使用多種符號使總結更有趣。\n",
    "4. 不要包含任何不必要的信息。\n",
    "\n",
    "文檔內容:\n",
    "{context}\n",
    "\n",
    "總結:\n",
    "\"\"\"\n",
    "prompt = PromptTemplate.from_template(summarize_prompt)\n",
    "prompt"
   ]
  },
  {
   "cell_type": "code",
   "execution_count": null,
   "metadata": {
    "colab": {
     "base_uri": "https://localhost:8080/",
     "height": 36
    },
    "id": "nW0KSsa-PImJ",
    "outputId": "d68ba0c0-dc69-408c-f778-6d8b67f18591"
   },
   "outputs": [
    {
     "data": {
      "application/vnd.google.colaboratory.intrinsic+json": {
       "type": "string"
      },
      "text/plain": [
       "'https://smith.langchain.com/prompts/summarize_document/129da0ee?organizationId=f2bffb3c-dd45-53ac-b23b-5d696451d11c'"
      ]
     },
     "execution_count": 16,
     "metadata": {},
     "output_type": "execute_result"
    }
   ],
   "source": [
    "# To upload a prompt to Hub:\n",
    "#\n",
    "# Private Repository:\n",
    "# - Simply pass the prompt title as the first argument\n",
    "# hub.push(prompt_title, prompt, new_repo_is_public=False)\n",
    "#\n",
    "# Public Repository:\n",
    "# - First create a Hub Handle at LangSmith (smith.langchain.com)\n",
    "# - Include your handle in the prompt title path\n",
    "# hub.push(f\"{PROMPT_OWNER}/{prompt_title}\", prompt, new_repo_is_public=True)\n",
    "\n",
    "hub.push(f\"{PROMPT_OWNER}/{prompt_title}\", prompt, new_repo_is_public=True)"
   ]
  },
  {
   "cell_type": "markdown",
   "metadata": {
    "id": "6pkMouSCRXsA"
   },
   "source": [
    "You can find the uploaded prompt in your LangSmith. Please go to the site address as output.\n"
   ]
  },
  {
   "cell_type": "code",
   "execution_count": null,
   "metadata": {
    "colab": {
     "base_uri": "https://localhost:8080/"
    },
    "id": "55Mcx-IBSwyK",
    "outputId": "86a2fc3a-5ae0-4223-ab76-6f189c598c12"
   },
   "outputs": [
    {
     "data": {
      "text/plain": [
       "PromptTemplate(input_variables=['context'], input_types={}, partial_variables={}, metadata={'lc_hub_owner': 'eun', 'lc_hub_repo': 'summarize_document', 'lc_hub_commit_hash': '129da0ee7cc02d076cd26692334f58a4aa898f5c40916847e8d808adb31f0263'}, template='\\nPlease summarize the sentence according to the following REQUEST.\\nREQUEST:\\n1. Summarize the main points in bullet points.\\n2. Each summarized sentence must start with an emoji that fits the meaning of the each sentence.\\n3. Use various emojis to make the summary more interesting.\\n4. DO NOT include any unnecessary information.\\n\\nCONTEXT:\\n{context}\\n\\nSUMMARY:\"\\n')"
      ]
     },
     "execution_count": 17,
     "metadata": {},
     "output_type": "execute_result"
    }
   ],
   "source": [
    "# You can import and use prompts as follows.\n",
    "prompt = hub.pull(\"eun/summarize_document:129da0ee\")\n",
    "prompt"
   ]
  },
  {
   "cell_type": "markdown",
   "metadata": {
    "id": "Tj2GziG9F9TT"
   },
   "source": [
    "### 2. Map Prompt\n",
    "\n",
    "The Map Prompt 是用來提取和組織文檔的主要主題，並建立一個結構化的內容表示。\n",
    "\n"
   ]
  },
  {
   "cell_type": "code",
   "execution_count": null,
   "metadata": {
    "colab": {
     "base_uri": "https://localhost:8080/"
    },
    "id": "tIX0yuk0D7xZ",
    "outputId": "1a59fcf7-5e8f-49d2-8520-a786c037e62c"
   },
   "outputs": [
    {
     "data": {
      "text/plain": [
       "PromptTemplate(input_variables=['docs'], input_types={}, partial_variables={}, template='\\nYou are a helpful expert journalist in extracting the main themes from a GIVEN DOCUMENTS below.\\nPlease provide a comprehensive summary of the GIVEN DOCUMENTS in numbered list format.\\nThe summary should cover all the key points and main ideas presented in the original text, while also condensing the information into a concise and easy-to-understand format.\\nPlease ensure that the summary includes relevant details and examples that support the main ideas, while avoiding any unnecessary information or repetition.\\nThe length of the summary should be appropriate for the length and complexity of the original text, providing a clear and accurate overview without omitting any important information.\\n\\nGIVEN DOCUMENTS:\\n{docs}\\n\\nFORMAT:\\n1. main theme 1\\n2. main theme 2\\n3. main theme 3\\n...\\n\\nCAUTION:\\n- DO NOT list more than 5 main themes.\\n\\nHelpful Answer:\\n')"
      ]
     },
     "execution_count": 40,
     "metadata": {},
     "output_type": "execute_result"
    }
   ],
   "source": [
    "from langchain import hub\n",
    "from langchain.prompts import PromptTemplate\n",
    "\n",
    "prompt_title = \"map-prompt\"\n",
    "\n",
    "map_prompt = \"\"\"\n",
    "你是一個專家記者，專門從文檔中提取主要主題。\n",
    "請提供一個全面的總結，以編號列表格式呈現。\n",
    "總結應該覆蓋原始文本中所有關鍵點和主要思想，同時將信息簡化為簡潔易懂的格式。\n",
    "請確保總結包括相關細節和示例，支持主要思想，避免包含任何不必要的信息或重複。\n",
    "總結的長度應適應原始文本的長度和複雜性，提供清晰準確的概覽，不省略任何重要信息。\n",
    "\n",
    "GIVEN DOCUMENTS:\n",
    "{docs}\n",
    "\n",
    "FORMAT:\n",
    "1. main theme 1\n",
    "2. main theme 2\n",
    "3. main theme 3\n",
    "...\n",
    "\n",
    "CAUTION:\n",
    "- 不要列出超過5個主要主題。\n",
    "\n",
    "Helpful Answer:\n",
    "\"\"\"\n",
    "prompt = PromptTemplate.from_template(map_prompt)\n",
    "prompt"
   ]
  },
  {
   "cell_type": "code",
   "execution_count": null,
   "metadata": {
    "colab": {
     "base_uri": "https://localhost:8080/",
     "height": 36
    },
    "id": "OQ3qVGX1GzrF",
    "outputId": "7cbc13c0-16f2-4b2e-f756-b10cf0e639c1"
   },
   "outputs": [
    {
     "data": {
      "application/vnd.google.colaboratory.intrinsic+json": {
       "type": "string"
      },
      "text/plain": [
       "'https://smith.langchain.com/prompts/map-prompt/1535fbd6?organizationId=f2bffb3c-dd45-53ac-b23b-5d696451d11c'"
      ]
     },
     "execution_count": 42,
     "metadata": {},
     "output_type": "execute_result"
    }
   ],
   "source": [
    "hub.push(prompt_title, prompt, new_repo_is_public=False)"
   ]
  },
  {
   "cell_type": "markdown",
   "metadata": {
    "id": "hxc8svsyGQfM"
   },
   "source": [
    "### 3. Reduce Prompt\n",
    "\n",
    "The Reduce Prompt 是用來結合和綜合多個總結，產生一個單一、一致的輸出，特別適合處理大量文檔集。\n",
    "\n"
   ]
  },
  {
   "cell_type": "code",
   "execution_count": null,
   "metadata": {
    "colab": {
     "base_uri": "https://localhost:8080/"
    },
    "id": "beKSYVn8D7xc",
    "outputId": "6f99f629-adcc-4422-d136-c0330b11dcac"
   },
   "outputs": [
    {
     "data": {
      "text/plain": [
       "PromptTemplate(input_variables=['doc_summaries'], input_types={}, partial_variables={}, template='\\nYou are a helpful expert in summary writing.\\nYou are given numbered lists of summaries.\\nExtract top 10 most important insights and create a unified summary.\\n\\nLIST OF SUMMARIES:\\n{doc_summaries}\\n\\nREQUIREMENTS:\\n1. Identify key insights across summaries\\n2. Maintain coherence and flow\\n3. Eliminate redundancy\\n4. Preserve important details\\n5. Create a unified narrative\\n\\nOUTPUT FORMAT:\\n1. Main insights (bullet points)\\n2. Synthesized summary\\n3. Key takeaways\\n')"
      ]
     },
     "execution_count": 44,
     "metadata": {},
     "output_type": "execute_result"
    }
   ],
   "source": [
    "from langchain import hub\n",
    "from langchain.prompts import PromptTemplate\n",
    "\n",
    "prompt_title = \"reduce-prompt\"\n",
    "\n",
    "reduce_prompt = \"\"\"\n",
    "你是一個總結專家。\n",
    "你被給定編號列表的總結。\n",
    "提取最重要的10個洞察，並產生一個統一的總結。\n",
    "\n",
    "總結列表:\n",
    "{doc_summaries}\n",
    "\n",
    "需求:\n",
    "1. 提取總結中的關鍵洞察\n",
    "2. 保持一致性和流暢性\n",
    "3. 消除重複\n",
    "4. 保留重要細節\n",
    "5. 建立統一的敘述\n",
    "\n",
    "輸出格式:\n",
    "1. 主要洞察 (以列表形式呈現)\n",
    "2. 總結\n",
    "3. 主要重點\n",
    "\"\"\"\n",
    "prompt = PromptTemplate.from_template(reduce_prompt)\n",
    "prompt"
   ]
  },
  {
   "cell_type": "code",
   "execution_count": null,
   "metadata": {
    "colab": {
     "base_uri": "https://localhost:8080/",
     "height": 36
    },
    "id": "AQEnto5xD7xc",
    "outputId": "bd9a657e-c5e0-42fc-f1ad-4c476b196c03"
   },
   "outputs": [
    {
     "data": {
      "application/vnd.google.colaboratory.intrinsic+json": {
       "type": "string"
      },
      "text/plain": [
       "'https://smith.langchain.com/prompts/reduce-prompt/17ed176f?organizationId=f2bffb3c-dd45-53ac-b23b-5d696451d11c'"
      ]
     },
     "execution_count": 45,
     "metadata": {},
     "output_type": "execute_result"
    }
   ],
   "source": [
    "hub.push(prompt_title, prompt, new_repo_is_public=False)"
   ]
  },
  {
   "cell_type": "markdown",
   "metadata": {
    "id": "AdPw-wLbIq42"
   },
   "source": [
    "---\n",
    "## 進階 Prompts\n",
    "\n",
    "The 進階 Prompts 章節探討了高級技巧，這些技巧增強了語言模型輸出的品質和具體性。這些提示詞設計用於處理需要更深入分析和更微妙回應的複雜任務。"
   ]
  },
  {
   "cell_type": "markdown",
   "metadata": {
    "id": "eYBsvlfaIqz0"
   },
   "source": [
    "### 1. Chain of Density Summarization\n",
    "\n",
    "Chain of Density Summarization 會迭代地精煉總結，以實現更高的信息密度，同時保持可讀性和關鍵洞察。\n"
   ]
  },
  {
   "cell_type": "code",
   "execution_count": null,
   "metadata": {
    "id": "YAiX_AqKD7xc"
   },
   "outputs": [],
   "source": [
    "from langchain import hub\n",
    "from langchain.prompts import PromptTemplate\n",
    "\n",
    "prompt_title = \"chain-of-density\"\n",
    "\n",
    "chain_density_prompt = \"\"\"\n",
    "給定輸入文本，通過以下步驟生成越來越密集的總結:\n",
    "\n",
    "輸入參數:\n",
    "- 文本: {text}\n",
    "- 迭代次數: {iterations}\n",
    "- 目標長度: {length}\n",
    "\n",
    "流程:\n",
    "1. 初始總結\n",
    "2. 實體識別\n",
    "3. 密度增強\n",
    "4. 質量檢查\n",
    "\n",
    "輸出需求:\n",
    "1. 保持一致的長度\n",
    "2. 增加信息密度\n",
    "3. 保留關鍵實體\n",
    "4. 確保可讀性\n",
    "\n",
    "請按照以下結構提供總結:\n",
    "\n",
    "格式:\n",
    "{\n",
    "    \"initial_summary\": str,\n",
    "    \"entity_map\": list,\n",
    "    \"refined_summaries\": list,\n",
    "    \"final_summary\": str\n",
    "}\n",
    "\"\"\"\n",
    "\n",
    "prompt = PromptTemplate.from_template(chain_density_prompt)"
   ]
  },
  {
   "cell_type": "code",
   "execution_count": null,
   "metadata": {
    "colab": {
     "base_uri": "https://localhost:8080/",
     "height": 36
    },
    "id": "wSVewIsdD7xd",
    "outputId": "bf8b4672-1c52-4883-9b20-696efa7a8454"
   },
   "outputs": [
    {
     "data": {
      "application/vnd.google.colaboratory.intrinsic+json": {
       "type": "string"
      },
      "text/plain": [
       "'https://smith.langchain.com/prompts/chain-of-density/a9eac13f?organizationId=f2bffb3c-dd45-53ac-b23b-5d696451d11c'"
      ]
     },
     "execution_count": 4,
     "metadata": {},
     "output_type": "execute_result"
    }
   ],
   "source": [
    "hub.push(prompt_title, prompt, new_repo_is_public=False)"
   ]
  },
  {
   "cell_type": "markdown",
   "metadata": {
    "id": "2RRmJ64fZpzz"
   },
   "source": [
    "### 1.1. Chain of Density (Multilingual)\n",
    "生成 越來越密集的總結在任何指定的語言中，通過迭代精煉，同時保持語義準確性。"
   ]
  },
  {
   "cell_type": "code",
   "execution_count": null,
   "metadata": {
    "id": "Ku2VJunbZo7y"
   },
   "outputs": [],
   "source": [
    "from langchain import hub\n",
    "from langchain.prompts import ChatPromptTemplate\n",
    "\n",
    "prompt_title = \"chain-of-density-multilingual\"\n",
    "\n",
    "chain_density_multilingual = \"\"\"\n",
    "文章: {ARTICLE}\n",
    "語言: {LANGUAGE}\n",
    "\n",
    "你將生成越來越簡潔、實體密集的總結文章。\n",
    "\n",
    "重複以下 2 步 5 次。\n",
    "\n",
    "第 1 步。識別文章中缺少的 1-3 個有信息的實體（用 \";\" 分隔）。\n",
    "第 2 步。寫一個新的、更密集的總結，長度與前一個總結相同，並包含前一個總結中的所有實體和細節以及缺失的實體。\n",
    "\n",
    "缺失的實體是:\n",
    "- 相關於主要故事,\n",
    "- 具體但簡潔 (100 字或更少),\n",
    "- 新颖 (不在前一個總結中),\n",
    "- 真實 (在文章中),\n",
    "- 任何地方 (可以在文章中的任何地方).\n",
    "\n",
    "指南:\n",
    "- 第一個總結應該是長的 (8-10 句子, ~200 字) 但高度非特定\n",
    "- 每個字都應該計數: 重寫前一個總結以改進流暢度\n",
    "- 用融合、壓縮和移除無信息的短語來騰出空間\n",
    "- 總結應該變得高度密集和簡潔，但自足\n",
    "- 遺失的實體可以出現在新的總結中的任何地方\n",
    "- 不要從前一個總結中刪除實體\n",
    "\n",
    "OUTPUT FORMAT:\n",
    "[\n",
    "    {\n",
    "        \"Missing_Entities\": str,\n",
    "        \"Denser_Summary\": str\n",
    "    }\n",
    "]\n",
    "\n",
    "提供輸出在指定的語言: {LANGUAGE}\n",
    "\"\"\"\n",
    "\n",
    "prompt = ChatPromptTemplate.from_template(chain_density_multilingual)\n",
    "\n",
    "# Usage Example:\n",
    "response = chain_density_multilingual.format(\n",
    "    ARTICLE=\"你的文章文本\", LANGUAGE=\"中文\"\n",
    ")"
   ]
  },
  {
   "cell_type": "markdown",
   "metadata": {
    "id": "zdRjE4nIZvJN"
   },
   "source": [
    "### 1.2. Chain of Density Map (Multilingual)\n",
    "\n",
    " Create mapped summaries with increasing density in any specified language, focusing on key entity extraction and relationship mapping.\n"
   ]
  },
  {
   "cell_type": "code",
   "execution_count": null,
   "metadata": {
    "id": "7CUIIIcsZl2C"
   },
   "outputs": [],
   "source": [
    "from langchain import hub\n",
    "from langchain.prompts import ChatPromptTemplate\n",
    "\n",
    "prompt_title = \"chain-of-density-map-multilingual\"\n",
    "\n",
    "chain_density_map_multilingual = \"\"\"\n",
    "Article: {ARTICLE}\n",
    "Language: {LANGUAGE}\n",
    "\n",
    "你將生成越來越簡潔、實體密集的總結文章。\n",
    "\n",
    "重複以下 2 步 3 次。\n",
    "\n",
    "第 1 步。識別文章中缺少的 1-3 個有信息的實體（用 \";\" 分隔）。\n",
    "第 2 步。寫一個新的、更密集的總結，長度與前一個總結相同，並包含前一個總結中的所有實體和細節以及缺失的實體。\n",
    "\n",
    "遺失的實體是:\n",
    "- 相關於主要故事,\n",
    "- 具體但簡潔 (100 字或更少),\n",
    "- 新颖 (不在前一個總結中),\n",
    "- 真實 (在文章中),\n",
    "- 任何地方 (可以在文章中的任何地方).\n",
    "\n",
    "指南:\n",
    "- 第一個總結應該是長的 (8-10 句子, ~200 字) 但高度非特定\n",
    "- 每個字都應該計數: 重寫前一個總結以改進流暢度\n",
    "- 用融合、壓縮和移除無信息的短語來騰出空間\n",
    "- 總結應該變得高度密集和簡潔，但自足\n",
    "- 遺失的實體可以出現在新的總結中的任何地方\n",
    "- 不要從前一個總結中刪除實體\n",
    "\n",
    "輸出格式:\n",
    "Text format for \"Missing Entities\" and \"Denser_Summary\"\n",
    "\n",
    "提供輸出在指定的語言: {LANGUAGE}\n",
    "\"\"\"\n",
    "\n",
    "prompt = ChatPromptTemplate.from_template(chain_density_map_multilingual)\n",
    "\n",
    "# Usage Example:\n",
    "response_map = chain_density_map_multilingual.format(\n",
    "    ARTICLE=\"你的文章文本\", LANGUAGE=\"中文\"\n",
    ")"
   ]
  },
  {
   "cell_type": "markdown",
   "metadata": {
    "id": "EQ9zblwWWyZb"
   },
   "source": [
    "### 2. Key Information Extraction\n",
    "\n",
    "萃取關鍵信息並結構化各種文檔類型，具有高精度和一致性。\n",
    "\n",
    "\n"
   ]
  },
  {
   "cell_type": "code",
   "execution_count": null,
   "metadata": {
    "colab": {
     "base_uri": "https://localhost:8080/",
     "height": 36
    },
    "id": "cVW1iVKQXBT7",
    "outputId": "63c7c080-194d-4614-878a-4d42948e85d1"
   },
   "outputs": [],
   "source": [
    "from langchain import hub\n",
    "from langchain.prompts import PromptTemplate\n",
    "\n",
    "prompt_title = \"key-information-extraction\"\n",
    "\n",
    "extraction_prompt = \"\"\"\n",
    "從提供的文檔中提取關鍵信息，根據這些規範:\n",
    "\n",
    "INPUT:\n",
    "- 文檔: {document}\n",
    "- 目標字段: {fields}\n",
    "- 上下文要求: {context}\n",
    "\n",
    "EXTRACTION REQUIREMENTS:\n",
    "1. 識別指定的數據點\n",
    "2. 維持上下文關係\n",
    "3. 驗證提取的資訊\n",
    "4. 根據模式格式化\n",
    "\n",
    "輸出格式:\n",
    "{\n",
    "    \"extracted_data\": dict,\n",
    "    \"confidence_scores\": dict,\n",
    "    \"validation_results\": dict,\n",
    "    \"metadata\": dict\n",
    "}\n",
    "\"\"\"\n",
    "\n",
    "prompt = PromptTemplate.from_template(extraction_prompt)\n",
    "hub.push(prompt_title, prompt, new_repo_is_public=False)"
   ]
  },
  {
   "cell_type": "markdown",
   "metadata": {
    "id": "gw0SbKcKD7xd"
   },
   "source": [
    "\n",
    "### 3. Metadata Tagging\n",
    "Automatically generate relevant tags and metadata to enhance content organization and searchability.\n",
    "\n",
    "\n",
    "\n",
    "\n"
   ]
  },
  {
   "cell_type": "code",
   "execution_count": null,
   "metadata": {
    "colab": {
     "base_uri": "https://localhost:8080/",
     "height": 36
    },
    "id": "wvAw2hW-Y_yH",
    "outputId": "9f28672a-0d08-438c-b64a-6c7c3fd9d347"
   },
   "outputs": [
    {
     "data": {
      "application/vnd.google.colaboratory.intrinsic+json": {
       "type": "string"
      },
      "text/plain": [
       "'https://smith.langchain.com/prompts/metadata-tagger/9bf50dec?organizationId=f2bffb3c-dd45-53ac-b23b-5d696451d11c'"
      ]
     },
     "execution_count": 7,
     "metadata": {},
     "output_type": "execute_result"
    }
   ],
   "source": [
    "from langchain import hub\n",
    "from langchain.prompts import PromptTemplate\n",
    "\n",
    "prompt_title = \"metadata-tagger\"\n",
    "\n",
    "metadata_prompt = \"\"\"\n",
    "生成全面的元數據標籤:\n",
    "\n",
    "內容參數:\n",
    "- Type: {content_type}\n",
    "- Domain: {domain}\n",
    "- Context: {context}\n",
    "\n",
    "標籤要求:\n",
    "1. 生成相關標籤\n",
    "2. 建立分層類別\n",
    "3. 識別關鍵主題\n",
    "4. 地圖關係\n",
    "5. 優化搜索\n",
    "\n",
    "輸出格式:\n",
    "{\n",
    "    \"primary_tags\": list,\n",
    "    \"categories\": dict,\n",
    "    \"relationships\": dict,\n",
    "    \"search_terms\": list\n",
    "}\n",
    "\"\"\"\n",
    "\n",
    "prompt = PromptTemplate.from_template(metadata_prompt)\n",
    "hub.push(prompt_title, prompt, new_repo_is_public=False)"
   ]
  },
  {
   "cell_type": "markdown",
   "metadata": {
    "id": "I4sJJp68D7xe"
   },
   "source": [
    "### 1. RAG Prompts\n",
    "\n",
    "### 1.1. RAG Document Analysis\n",
    "\n",
    "根據檢索的文檔上下文，高精度和相關性地處理和回答問題。\n",
    "\n"
   ]
  },
  {
   "cell_type": "code",
   "execution_count": null,
   "metadata": {
    "colab": {
     "base_uri": "https://localhost:8080/"
    },
    "id": "UNn4Hc95ars2",
    "outputId": "94e67ea9-9bd5-4d5f-9f03-1e145852cbb0"
   },
   "outputs": [
    {
     "data": {
      "text/plain": [
       "ChatPromptTemplate(input_variables=['context', 'question'], input_types={}, partial_variables={}, messages=[SystemMessagePromptTemplate(prompt=PromptTemplate(input_variables=[], input_types={}, partial_variables={}, template=\"You are a precise and helpful AI assistant specializing in question-answering tasks based on provided context.\\nYour primary task is to:\\n1. Analyze the provided context thoroughly\\n2. Answer questions using ONLY the information from the context\\n3. Preserve technical terms and proper nouns exactly as they appear\\n4. If the answer cannot be found in the context, respond with: 'The provided context does not contain information to answer this question.'\\n5. Format responses in clear, readable paragraphs with relevant examples when available\\n6. Focus on accuracy and clarity in your responses\\n\"), additional_kwargs={}), HumanMessagePromptTemplate(prompt=PromptTemplate(input_variables=['context', 'question'], input_types={}, partial_variables={}, template='#Question:\\n{question}\\n\\n#Context:\\n{context}\\n\\n#Answer:\\nPlease provide a focused, accurate response that directly addresses the question using only the information from the provided context.'), additional_kwargs={})])"
      ]
     },
     "execution_count": 8,
     "metadata": {},
     "output_type": "execute_result"
    }
   ],
   "source": [
    "from langchain import hub\n",
    "from langchain.prompts import ChatPromptTemplate\n",
    "\n",
    "prompt_title = \"rag-document-analysis\"\n",
    "\n",
    "system = \"\"\"你是一個精確且有幫助的 AI 助手，專注於基於提供的上下文的問題回答任務。\n",
    "你的主要任務是:\n",
    "1. 熱切分析提供的上下文\n",
    "2. 使用上下文中的信息回答問題\n",
    "3. 精確保留技術術語和 proper nouns\n",
    "4. 如果答案無法在上下文中找到，請回答: '提供的上下文不包含回答此問題的信息。'\n",
    "5. 格式化回應，使用清晰可讀的段落，並在有相關例子時使用\n",
    "6. 關注準確性和清晰度\n",
    "\"\"\"\n",
    "\n",
    "human = \"\"\"#Question:\n",
    "{question}\n",
    "\n",
    "#Context:\n",
    "{context}\n",
    "\n",
    "#Answer:\n",
    "請提供一個專注、準確的回應，直接回答問題，使用上下文中的信息。\"\"\"\n",
    "\n",
    "prompt = ChatPromptTemplate.from_messages([(\"system\", system), (\"human\", human)])\n",
    "\n",
    "prompt"
   ]
  },
  {
   "cell_type": "code",
   "execution_count": null,
   "metadata": {
    "colab": {
     "base_uri": "https://localhost:8080/",
     "height": 36
    },
    "id": "saj8jooLD7xe",
    "outputId": "506cffcd-4cc4-4908-9525-bf86b22ad5f6"
   },
   "outputs": [
    {
     "data": {
      "application/vnd.google.colaboratory.intrinsic+json": {
       "type": "string"
      },
      "text/plain": [
       "'https://smith.langchain.com/prompts/rag-document-analysis/f7a42fa8?organizationId=f2bffb3c-dd45-53ac-b23b-5d696451d11c'"
      ]
     },
     "execution_count": 9,
     "metadata": {},
     "output_type": "execute_result"
    }
   ],
   "source": [
    "hub.push(prompt_title, prompt, new_repo_is_public=False)"
   ]
  },
  {
   "cell_type": "markdown",
   "metadata": {
    "id": "yd7KRy1-D7xe"
   },
   "source": [
    "### 1.2. RAG with Source Attribution\n",
    "\n",
    "Enhanced RAG implementation with detailed source tracking and citation for improved accountability and verification.\n"
   ]
  },
  {
   "cell_type": "code",
   "execution_count": null,
   "metadata": {
    "colab": {
     "base_uri": "https://localhost:8080/",
     "height": 36
    },
    "id": "JTXOYs0ma5mu",
    "outputId": "b9dffe05-e619-4669-a8a6-660c42ce8c49"
   },
   "outputs": [
    {
     "data": {
      "application/vnd.google.colaboratory.intrinsic+json": {
       "type": "string"
      },
      "text/plain": [
       "'https://smith.langchain.com/prompts/rag-with-sources/67246bf3?organizationId=f2bffb3c-dd45-53ac-b23b-5d696451d11c'"
      ]
     },
     "execution_count": 11,
     "metadata": {},
     "output_type": "execute_result"
    }
   ],
   "source": [
    "from langchain import hub\n",
    "from langchain.prompts import ChatPromptTemplate\n",
    "\n",
    "prompt_title = \"rag-with-sources\"\n",
    "\n",
    "system = \"\"\"你是一個精確且詳盡的 AI 助手，專注於基於提供的上下文的問題回答任務。\n",
    "你的主要任務是:\n",
    "1. 熱切分析提供的上下文\n",
    "2. 使用上下文中的信息回答問題\n",
    "3. 精確保留技術術語和 proper nouns\n",
    "4. 如果答案無法在上下文中找到，請回答: '提供的上下文不包含回答此問題的信息。'\n",
    "5. 格式化回應，使用清晰可讀的段落，並在有相關例子時使用\n",
    "6. 關注準確性和清晰度\n",
    "\n",
    "你的責任包括:\n",
    "1. 熱切分析提供的上下文\n",
    "2. 使用上下文中的信息回答問題\n",
    "3. 精確保留技術術語和 proper nouns\n",
    "4. 若資訊未找到在上下文中，請回答: '提供的上下文不包含回答此問題的信息。'\n",
    "5. 格式化回應，使用清晰可讀的段落，並在有相關例子時使用\n",
    "6. 關注準確性和清晰度\n",
    "\n",
    "格式化你的回應，包括:\n",
    "1. 主要答案\n",
    "2. 使用的來源 (具體位置)\n",
    "3. 確信度 (高/中/低)\"\"\"\n",
    "\n",
    "human = \"\"\"#Question:\n",
    "{question}\n",
    "\n",
    "#Context:\n",
    "{context}\n",
    "\n",
    "#Answer:\n",
    "請提供詳細的回應，並使用來源引用，只使用提供的上下文中的資訊。\"\"\"\n",
    "\n",
    "prompt = ChatPromptTemplate.from_messages([(\"system\", system), (\"human\", human)])\n",
    "PROMPT_OWNER = \"eun\"\n",
    "hub.push(f\"{PROMPT_OWNER}/{prompt_title}\", prompt, new_repo_is_public=True)"
   ]
  },
  {
   "cell_type": "markdown",
   "metadata": {
    "id": "U7OCErMJD7xe"
   },
   "source": [
    "### 2. LLM Response Evaluation\n",
    "\n",
    "Comprehensive evaluation of LLM responses based on multiple quality metrics with detailed scoring methodology.\n"
   ]
  },
  {
   "cell_type": "code",
   "execution_count": null,
   "metadata": {
    "id": "v7-eJ3XOa9dM"
   },
   "outputs": [],
   "source": [
    "from langchain import hub\n",
    "from langchain.prompts import PromptTemplate\n",
    "\n",
    "prompt_title = \"llm-response-evaluation\"\n",
    "\n",
    "evaluation_prompt = \"\"\"評估 LLM 的回應，基於以下指標:\n",
    "\n",
    "INPUT:\n",
    "Question: {question}\n",
    "Context: {context}\n",
    "LLM Response: {answer}\n",
    "\n",
    "評估指標:\n",
    "1. 准確度 (0-10)\n",
    "- 完美 (10): 完全準確，與上下文完全對應\n",
    "- 良好 (7-9): 小的不準確\n",
    "- 公平 (4-6): 一些重要的不準確\n",
    "- 糟糕 (0-3): 重大不準確或對應不良\n",
    "\n",
    "2. 完整度 (0-10)\n",
    "- 完美 (10): 全面覆蓋所有相關點\n",
    "- 良好 (7-9): 滿覆蓋主要點\n",
    "- 公平 (4-6): 缺失幾個關鍵點\n",
    "- 糟糕 (0-3): 關鍵點嚴重不完整\n",
    "\n",
    "3. 上下文相關性 (0-10)\n",
    "- 完美 (10): 最佳使用上下文\n",
    "- 良好 (7-9): 有少量疏漏\n",
    "- 公平 (4-6): 部分使用相關上下文\n",
    "- 糟糕 (0-3): 上下文使用不良\n",
    "\n",
    "4. 清晰度 (0-10)\n",
    "- 完美 (10): 異常清晰且結構良好\n",
    "- 良好 (7-9): 清晰但有少量問題\n",
    "- 公平 (4-6): 有些不清晰\n",
    "- 糟糕 (0-3): 混亂或結構不良\n",
    "\n",
    "SCORING METHOD:\n",
    "1. 計算個別指標\n",
    "2. 加權平均:\n",
    "   - 准確度: 40%\n",
    "   - 完整度: 25%\n",
    "   - 上下文相關性: 25%\n",
    "   - 清晰度: 10%\n",
    "3. 正規化到 0-1 比例\n",
    "\n",
    "OUTPUT FORMAT:\n",
    "{\n",
    "    \"individual_scores\": {\n",
    "        \"accuracy\": float,\n",
    "        \"completeness\": float,\n",
    "        \"context_relevance\": float,\n",
    "        \"clarity\": float\n",
    "    },\n",
    "    \"weighted_score\": float,\n",
    "    \"normalized_score\": float,\n",
    "    \"evaluation_notes\": string\n",
    "}\n",
    "\n",
    "只返回 normalized_score 作為 0 和 1 之間的十進制數字。\"\"\"\n",
    "\n",
    "prompt = PromptTemplate.from_template(evaluation_prompt)"
   ]
  },
  {
   "cell_type": "markdown",
   "metadata": {
    "id": "0hQt-fczC_V2"
   },
   "source": [
    "---\n",
    "## Professional Domain Prompts\n",
    "\n",
    "每個 專業領域的 prompt 都是精心設計的，以滿足特定行業的需求和要求。\n",
    "\n",
    "這部分需要對 prompts 進行優化，特別是根據領域數據和格式。因此，建議您使用 Playground 在 OpenAI 或 Anthropic 等網站上測試多個 prompts，並使用最合適的 prompts。以下是一個每個領域的 prompts 的示例。\n",
    "\n",
    "### 1. 學術研究分析提示\n",
    "```python\n",
    "PROMPT_TEMPLATE = \"\"\"\n",
    "作為一位專家學術研究者，分析學術內容:\n",
    "\n",
    "INPUT:\n",
    "- Content Type: {content_type}\n",
    "- Field of Study: {field}\n",
    "- Analysis Depth: {depth}\n",
    "\n",
    "ANALYZE:\n",
    "    1. 研究方法和設計\n",
    "2. 主要發現和意義\n",
    "3. 理論框架\n",
    "4. 樣本統計有效性\n",
    "5. 研究限制\n",
    "6. 未來方向\n",
    "\n",
    "OUTPUT FORMAT:\n",
    "{\n",
    "    \"executive_summary\": str,\n",
    "    \"methodology_analysis\": dict,\n",
    "    \"findings_analysis\": dict,\n",
    "    \"quality_assessment\": dict\n",
    "}\n",
    "\"\"\"\n",
    "```\n",
    "\n",
    "### 2. 臨床案例分析提示\n",
    "```python\n",
    "PROMPT_TEMPLATE = \"\"\"\n",
    "作為一位臨床專業人士，分析臨床案例:\n",
    "\n",
    "INPUT:\n",
    "- 患者信息: {patient_data}\n",
    "- 臨床筆記: {clinical_notes}\n",
    "\n",
    "PROVIDE:\n",
    "1. 臨床評估\n",
    "2. 診斷過程\n",
    "3. Treatment Plan\n",
    "4. Risk Assessment\n",
    "\n",
    "OUTPUT FORMAT:\n",
    "{\n",
    "    \"clinical_summary\": str,\n",
    "    \"differential_diagnosis\": list,\n",
    "    \"treatment_plan\": dict,\n",
    "    \"risk_assessment\": dict\n",
    "}\n",
    "\"\"\"\n",
    "```\n",
    "\n",
    "### 3. 市場研究分析提示\n",
    "```python\n",
    "PROMPT_TEMPLATE = \"\"\"\n",
    "作為一位市場研究分析者，分析市場研究:\n",
    "\n",
    "PARAMETERS:\n",
    "- 行業: {industry}\n",
    "- 市場分段: {segment}\n",
    "- 地區: {region}\n",
    "- 時間段: {time_period}\n",
    "\n",
    "COMPONENTS:\n",
    "1. 市場概況\n",
    "2. 競争分析\n",
    "3. 消費者分析\n",
    "4. SWOT 分析\n",
    "5. 財務分析\n",
    "6. Recommendations\n",
    "\n",
    "OUTPUT FORMAT:\n",
    "{\n",
    "    \"market_overview\": dict,\n",
    "    \"competitive_landscape\": dict,\n",
    "    \"customer_insights\": dict,\n",
    "    \"strategic_recommendations\": list\n",
    "}\n",
    "\"\"\"\n",
    "```\n",
    "\n",
    "### 4. 教育內容開發提示\n",
    "```python\n",
    "PROMPT_TEMPLATE = \"\"\"\n",
    "作為一位教育內容開發者，開發教育內容:\n",
    "\n",
    "PARAMETERS:\n",
    "- 學科: {subject}\n",
    "- 年級: {grade_level}\n",
    "- 學習目標: {objectives}\n",
    "- 時間: {duration}\n",
    "\n",
    "DELIVER:\n",
    "1. 課程結構\n",
    "2. 學習材料\n",
    "3. 評估组件\n",
    "4. 分層策略\n",
    "5. 支持資源\n",
    "\n",
    "OUTPUT FORMAT:\n",
    "{\n",
    "    \"course_outline\": dict,\n",
    "    \"lesson_plans\": list,\n",
    "    \"assessments\": dict,\n",
    "    \"support_resources\": dict\n",
    "}\n",
    "\"\"\"\n",
    "```\n",
    "\n",
    "### 5. Legal Document Analysis Prompt\n",
    "```python\n",
    "PROMPT_TEMPLATE = \"\"\"\n",
    "作為一位法律專業人士，分析法律文件:\n",
    "\n",
    "PARAMETERS:\n",
    "- 文件類型: {doc_type}\n",
    "- 管轄管辖区: {jurisdiction}\n",
    "- 法律領域: {domain}\n",
    "\n",
    "ANALYZE:\n",
    "1. 文件概況\n",
    "2. 關鍵條款\n",
    "3. 風險評估\n",
    "4. 合規檢查\n",
    "5. 建議\n",
    "\n",
    "OUTPUT FORMAT:\n",
    "{\n",
    "    \"document_summary\": str,\n",
    "    \"key_provisions\": dict,\n",
    "    \"risk_analysis\": dict,\n",
    "    \"recommendations\": list\n",
    "}\n",
    "\"\"\"\n",
    "```\n",
    "\n",
    "### 6. UX Research Analysis Prompt\n",
    "```python\n",
    "PROMPT_TEMPLATE = \"\"\"\n",
    "作為一位 UX 研究者，分析 UX 研究:\n",
    "\n",
    "PARAMETERS:\n",
    "- Research Type: {research_type}\n",
    "- Product/Service: {product}\n",
    "- User Segment: {segment}\n",
    "- Research Goals: {goals}\n",
    "\n",
    "PROVIDE:\n",
    "1. User Behavior Analysis\n",
    "2. Usability Assessment\n",
    "3. User Experience Mapping\n",
    "4. Accessibility Evaluation\n",
    "5. Recommendations\n",
    "\n",
    "OUTPUT FORMAT:\n",
    "{\n",
    "    \"behavioral_insights\": dict,\n",
    "    \"usability_metrics\": dict,\n",
    "    \"experience_mapping\": dict,\n",
    "    \"design_recommendations\": list\n",
    "}\n",
    "\"\"\"\n",
    "```\n",
    "\n",
    "### 7. Environmental Impact Assessment Prompt\n",
    "```python\n",
    "PROMPT_TEMPLATE = \"\"\"\n",
    "作為一位環境專家，評估環境影響:\n",
    "\n",
    "PARAMETERS:\n",
    "- 專案類型: {project_type}\n",
    "- 位置: {location}\n",
    "- 尺度: {scale}\n",
    "- 時間: {duration}\n",
    "\n",
    "ANALYZE:\n",
    "1. 環境基準\n",
    "2. 影響分析\n",
    "3. 資源評估\n",
    "4. 减緩策略\n",
    "5. 監控框架\n",
    "\n",
    "OUTPUT FORMAT:\n",
    "{\n",
    "    \"assessment_summary\": str,\n",
    "    \"impact_analysis\": dict,\n",
    "    \"mitigation_plan\": dict,\n",
    "    \"monitoring_framework\": dict\n",
    "}\n",
    "\"\"\"\n",
    "```\n"
   ]
  },
  {
   "cell_type": "markdown",
   "metadata": {},
   "source": []
  }
 ],
 "metadata": {
  "colab": {
   "provenance": []
  },
  "kernelspec": {
   "display_name": "py-test",
   "language": "python",
   "name": "python3"
  },
  "language_info": {
   "codemirror_mode": {
    "name": "ipython",
    "version": 3
   },
   "file_extension": ".py",
   "mimetype": "text/x-python",
   "name": "python",
   "nbconvert_exporter": "python",
   "pygments_lexer": "ipython3",
   "version": "3.11.11"
  }
 },
 "nbformat": 4,
 "nbformat_minor": 0
}
