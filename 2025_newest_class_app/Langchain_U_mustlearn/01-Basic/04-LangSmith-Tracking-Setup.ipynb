{
 "cells": [
  {
   "cell_type": "markdown",
   "metadata": {},
   "source": [
    "# LangSmith Tracking Setup\n",
    "\n",
    "## Overview\n",
    "\n",
    "這個手冊會解釋如何設定和使用 ```LangSmith```, 一個強大的平台，用於開發、監控和測試 LLM 應用程序。\n",
    "```LangSmith``` 提供了全面的追蹤功能，對於理解並優化您的 LLM 應用程序是必不可少的。\n",
    "\n",
    "```LangSmith``` 的追蹤功能幫助您監控:\n",
    "\n",
    "- Token 使用和相關費用\n",
    "- 執行時間和性能指標\n",
    "- 錯誤率和意外行為\n",
    "- 代理互動和鏈操作\n",
    "\n",
    "在這個手冊中，我們將走過設定 ```LangSmith``` 追蹤和整合到您的 ```LangChain``` 應用程序的過程。\n",
    "\n",
    "### 目錄\n",
    "\n",
    "- [Overview](#overview)\n",
    "- [Setting up a LangSmith trace](#setting-up-a-langsmith-trace)\n",
    "- [Using LangSmith tracking](#using-langsmith-tracking)\n",
    "- [Enable tracking in your Jupyter notebook or code](#enable-tracking-in-your-jupyter-notebook-or-code)\n",
    "\n",
    "### References\n",
    "\n",
    "- [OpenAI API Pricing](https://openai.com/api/pricing/)\n",
    "- [Token Usage Guide](https://help.openai.com/en/articles/4936856-what-are-tokens-and-how-to-count-them)\n",
    "- [LangChain Python API Reference](https://python.langchain.com/api_reference/community/callbacks/langchain_community.callbacks.manager.get_openai_callback.html)\n",
    "---"
   ]
  },
  {
   "cell_type": "markdown",
   "metadata": {},
   "source": [
    "## Setting up a LangSmith trace\n",
    "\n",
    "```LangSmith``` 是一個開發、監控和測試 LLM 應用程序的平台。 \n",
    "如果你正在開始一個專案或學習 ```LangChain```, ```LangSmith``` 是一個必不可少的工具，可以幫助你快速上手。"
   ]
  },
  {
   "cell_type": "markdown",
   "metadata": {},
   "source": [
    "### Project-Level Tracking\n",
    "在專案層級，你可以查看執行次數、錯誤率、token 使用和帳單信息。\n",
    "\n",
    "![project-level-tracking](./assets/03-langsmith-tracking-setup-01.png)\n",
    "\n",
    "當你點擊專案時，所有執行的 Runs 都會顯示。\n",
    "\n",
    "![project-level-tracking-detail](./assets/03-langsmith-tracking-setup-02.png)\n"
   ]
  },
  {
   "cell_type": "markdown",
   "metadata": {},
   "source": [
    "### Detailed Step-by-Step Tracking for a Single Execution\n",
    "\n",
    "![detailed-step-by-step-tracking](./assets/03-langsmith-tracking-setup-03.png)\n",
    "\n",
    "\n",
    "在單次執行後，它會記錄不僅是检索到的文檔的搜索結果，還會記錄 GPT 的輸入和輸出內容的詳細日誌。\n",
    "因此，它幫助你確定是否需要更改搜索算法或修改提示詞，通過查看搜索內容。\n",
    "\n",
    "\n",
    "此外，在頂部，它會顯示單次 Run 所花費的時間（約 30 秒）和使用的 token 數（5,104），當你將光標放在 token 上時，會顯示帳單金額。"
   ]
  },
  {
   "cell_type": "markdown",
   "metadata": {},
   "source": [
    "## Using LangSmith tracking\n",
    "\n",
    "Using traces is very simple."
   ]
  },
  {
   "cell_type": "markdown",
   "metadata": {},
   "source": [
    "### Get a LangSmith API Key\n",
    "\n",
    "\n",
    "1. Go to https://smith.langchain.com/ and sign up.\n",
    "2. After signing up, you will need to verify your email.\n",
    "3. Click the left cog (Setting) - center \"Personal\" - \"Create API Key\" to get an API key.\n",
    "\n",
    "![get-api-key](./assets/03-langsmith-tracking-setup-04.png)\n",
    "\n"
   ]
  },
  {
   "cell_type": "markdown",
   "metadata": {},
   "source": [
    "Set environment variables is in the ```.env``` file.\n",
    "\n",
    "Copy the contents of ```.env_sample``` and load it into your ```.env``` with the key you set.\n"
   ]
  },
  {
   "cell_type": "code",
   "execution_count": null,
   "metadata": {},
   "outputs": [
    {
     "data": {
      "text/plain": [
       "True"
      ]
     },
     "metadata": {},
     "output_type": "display_data"
    }
   ],
   "source": [
    "from dotenv import load_dotenv\n",
    "\n",
    "load_dotenv(override=True)"
   ]
  },
  {
   "cell_type": "markdown",
   "metadata": {},
   "source": [
    "In Description, enter a description that makes sense to you and click the Create API Key button.\n",
    "\n",
    "![create-api-key](./assets/03-langsmith-tracking-setup-05.png\n",
    ")\n"
   ]
  },
  {
   "cell_type": "markdown",
   "metadata": {},
   "source": [
    "### Detailed Step-by-Step Tracking for a Single Execution\n",
    "\n",
    "![detailed-step-by-step-tracking](./assets/03-langsmith-tracking-setup-03.png)\n",
    "\n",
    "\n",
    "在單次執行後，它會記錄不僅是检索到的文檔的搜索結果，還會記錄 GPT 的輸入和輸出內容的詳細日誌。\n",
    "因此，它幫助你確定是否需要更改搜索算法或修改提示詞，通過查看搜索內容。\n",
    "\n",
    "\n",
    "此外，在頂部，它會顯示單次 Run 所花費的時間（約 30 秒）和使用的 token 數（5,104），當你將光標放在 token 上時，會顯示帳單金額。"
   ]
  },
  {
   "cell_type": "markdown",
   "metadata": {},
   "source": [
    "### Setting the LangSmith key in ```.env```\n",
    "\n",
    "\n",
    "First, enter the key you received from LangSmith and your project information in the .env file.\n",
    "\n",
    "- ```LANGCHAIN_TRACING_V2```: Set to \"true\" to start tracking.\n",
    "- ```LANGCHAIN_ENDPOINT```: https://api.smith.langchain.com (Do not modify this value).\n",
    "- ```LANGCHAIN_API_KEY```: Enter the key you received in the previous step.\n",
    "- ```LANGCHAIN_PROJECT```: Specify a project name to group and trace all runs under that project group.\n",
    "\n",
    "![setting-api-key](./assets/03-langsmith-tracking-setup-07.png)\n",
    "\n"
   ]
  },
  {
   "cell_type": "markdown",
   "metadata": {},
   "source": [
    "## Enable tracking in your Jupyter notebook or code\n",
    "\n",
    "能夠啟用 追蹤 很簡單。你只需要設定一個環境變數即可。\n",
    "\n",
    "將 ```.env_sample``` 的內容複製到 ```.env``` 中，並使用你設定的金鑰"
   ]
  },
  {
   "cell_type": "code",
   "execution_count": 3,
   "metadata": {},
   "outputs": [],
   "source": [
    "%%capture --no-stderr\n",
    "%pip install python-dotenv"
   ]
  },
  {
   "cell_type": "code",
   "execution_count": 1,
   "metadata": {},
   "outputs": [
    {
     "data": {
      "text/plain": [
       "True"
      ]
     },
     "execution_count": 1,
     "metadata": {},
     "output_type": "execute_result"
    }
   ],
   "source": [
    "from dotenv import load_dotenv\n",
    "\n",
    "load_dotenv(override=True)"
   ]
  },
  {
   "cell_type": "markdown",
   "metadata": {},
   "source": [
    "只要你的追蹤已啟用，並且你的 API 金鑰和專案名稱設定正確，追蹤就會正常工作。\n",
    "\n",
    "然而，如果你想要更改專案名稱或更改追蹤，你可以使用以下代碼。"
   ]
  },
  {
   "cell_type": "code",
   "execution_count": 2,
   "metadata": {},
   "outputs": [],
   "source": [
    "import os\n",
    "\n",
    "os.environ[\"LANGCHAIN_TRACING_V2\"] = \"true\"\n",
    "os.environ[\"LANGCHAIN_ENDPOINT\"] = \"https://api.smith.langchain.com\"\n",
    "os.environ[\"LANGCHAIN_PROJECT\"] = \"<LangChain Project Name>\"\n",
    "os.environ[\"LANGCHAIN_API_KEY\"] = \"<LangChain API KEY>\""
   ]
  }
 ],
 "metadata": {
  "kernelspec": {
   "display_name": "langchain-opentutorial-cyV7o7ra-py3.11",
   "language": "python",
   "name": "python3"
  },
  "language_info": {
   "codemirror_mode": {
    "name": "ipython",
    "version": 3
   },
   "file_extension": ".py",
   "mimetype": "text/x-python",
   "name": "python",
   "nbconvert_exporter": "python",
   "pygments_lexer": "ipython3",
   "version": "3.11.9"
  }
 },
 "nbformat": 4,
 "nbformat_minor": 2
}
