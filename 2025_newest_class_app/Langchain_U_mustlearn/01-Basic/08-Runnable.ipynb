{
 "cells": [
  {
   "cell_type": "markdown",
   "id": "635d8ebb",
   "metadata": {},
   "source": [
    "# Runnable\n",
    "## Overview\n",
    "\n",
    "LangChain 的 ```Runnable``` 物件提供了一種模組化和靈活的方法來設計工作流程，通過啟用鏈接、平行執行和數據轉換。這些工具允許高效處理結構化輸入和輸出，並減少代碼開銷。\n",
    "\n",
    "Key Components is:\n",
    "\n",
    "- **```RunnableLambda```**: 一個輕量級工具，通過 lambda 函數應用自定義邏輯，適用于動態和快速數據轉換。\n",
    "- **```RunnablePassthrough```**: 設計用於傳遞未修改的輸入數據或在配對 ```assign()``` 方法時增強輸入數據。\n",
    "- **```itemgetter```**: Python ```operator``` 模組工具，用於高效提取結構化數據（如字典或元組）中的特定鍵或索引。\n",
    "\n",
    "這些工具可以組合使用來構建強大的工作流程，例如:\n",
    "\n",
    "- 使用 ```itemgetter``` 提取和處理特定數據元素。\n",
    "- 使用 ```RunnableLambda``` 執行自定義轉換。\n",
    "- 使用 ```Runnable``` 鏈構建端到端數據管道。\n",
    "\n",
    "透過這些組件，使用者可以設計可擴展和可重用的機器學習和數據處理工作流程。\n",
    "\n",
    "\n",
    "### Table of Contents\n",
    "\n",
    "- [Overview](#overview)\n",
    "- [Environment Setup](#environment-setup)\n",
    "- [Efficient Data Handling with RunnablePassthrough](#efficient-data-handling-with-runnablepassthrough)\n",
    "- [Efficient Parallel Execution with RunnableParallel](#efficient-parallel-execution-with-runnableparallel)\n",
    "- [Dynamic Processing with RunnableLambda](#dynamic-processing-with-runnablelambda)\n",
    "- [Extracting Specific Keys Using itemgetter](#extracting-specific-keys-using-itemgetter)\n",
    "\n",
    "### References\n",
    "\n",
    "- [LangChain Documentation: Runnable](https://python.langchain.com/api_reference/core/runnables/langchain_core.runnables.base.Runnable.html)\n",
    "- [LangChain Documentation](https://python.langchain.com/docs/how_to/lcel_cheatsheet/)\n",
    "- [Python operator module: itemgetter](https://docs.python.org/3/library/operator.html#operator.itemgetter)\n",
    "\n",
    "---"
   ]
  },
  {
   "cell_type": "markdown",
   "id": "c6c7aba4",
   "metadata": {},
   "source": [
    "## Environment Setup\n",
    "\n",
    "Set up the environment. You may refer to [Environment Setup](https://wikidocs.net/257836) for more details.\n",
    "\n",
    "**[Note]**\n",
    "- ```langchain-opentutorial``` is a package that provides a set of easy-to-use environment setup, useful functions and utilities for tutorials. \n",
    "- You can checkout the [```langchain-opentutorial```](https://github.com/LangChain-OpenTutorial/langchain-opentutorial-pypi) for more details."
   ]
  },
  {
   "cell_type": "code",
   "execution_count": 1,
   "id": "21943adb",
   "metadata": {},
   "outputs": [],
   "source": [
    "%%capture --no-stderr\n",
    "!pip install langchain-opentutorial"
   ]
  },
  {
   "cell_type": "code",
   "execution_count": 2,
   "id": "f25ec196",
   "metadata": {},
   "outputs": [],
   "source": [
    "# Install required packages\n",
    "from langchain_opentutorial import package\n",
    "\n",
    "package.install(\n",
    "    [\n",
    "        \"langsmith\",\n",
    "        \"langchain\",\n",
    "        \"langchain_core\",\n",
    "        \"langchain_openai\",\n",
    "    ],\n",
    "    verbose=False,\n",
    "    upgrade=False,\n",
    ")"
   ]
  },
  {
   "cell_type": "markdown",
   "id": "690a9ae0",
   "metadata": {},
   "source": [
    "You can also load the ```OPEN_API_KEY``` from the ```.env``` file."
   ]
  },
  {
   "cell_type": "code",
   "execution_count": 3,
   "id": "4f99b5b6",
   "metadata": {},
   "outputs": [
    {
     "data": {
      "text/plain": [
       "True"
      ]
     },
     "execution_count": 3,
     "metadata": {},
     "output_type": "execute_result"
    }
   ],
   "source": [
    "from dotenv import load_dotenv\n",
    "\n",
    "load_dotenv(override=True)"
   ]
  },
  {
   "cell_type": "code",
   "execution_count": 5,
   "id": "7f9065ea",
   "metadata": {},
   "outputs": [
    {
     "name": "stdout",
     "output_type": "stream",
     "text": [
      "Environment variables have been set successfully.\n"
     ]
    }
   ],
   "source": [
    "# Set local environment variables\n",
    "from langchain_opentutorial import set_env\n",
    "\n",
    "set_env(\n",
    "    {\n",
    "        \"LANGCHAIN_TRACING_V2\": \"true\",\n",
    "        \"LANGCHAIN_ENDPOINT\": \"https://api.smith.langchain.com\",\n",
    "        \"LANGCHAIN_PROJECT\": \"05-Runnable\",\n",
    "    }\n",
    ")"
   ]
  },
  {
   "cell_type": "markdown",
   "id": "aa00c3f4",
   "metadata": {},
   "source": [
    "## Efficient Data Handling with RunnablePassthrough\n",
    "\n",
    "```RunnablePassthrough``` 是一個輕量級工具，用於簡化數據處理工作流程，通過傳遞未修改的輸入數據或增強輸入數據。其靈活性使其成為處理數據管道中最小轉換或選擇性增強的理想工具。\n",
    "\n",
    "1. **Simple Data Forwarding**\n",
    "\n",
    "- 適合於不需要轉換的場景，例如記錄原始數據或將其傳遞到下游系統。\n",
    "\n",
    "2. **Dynamic Data Augmentation**\n",
    "\n",
    "- 用於向輸入數據添加元數據或上下文，以便在機器學習管道或分析系統中使用。\n",
    "\n",
    "---\n",
    "- ```RunnablePassthrough``` 可以傳遞未修改的輸入數據或附加鍵值。\n",
    "- 當 ```RunnablePassthrough()``` 本身被調用時，它簡單地接受輸入並傳遞它。\n",
    "- 當使用 ```RunnablePassthrough.assign(...)``` 調用時，它接受輸入並添加 assign 函數提供的附加參數。"
   ]
  },
  {
   "cell_type": "markdown",
   "id": "72d4cfa6",
   "metadata": {},
   "source": [
    "### RunnablePassthrough"
   ]
  },
  {
   "cell_type": "code",
   "execution_count": 6,
   "id": "69cb77da",
   "metadata": {},
   "outputs": [],
   "source": [
    "from langchain_core.prompts import PromptTemplate\n",
    "from langchain_openai import ChatOpenAI\n",
    "\n",
    "# Create the prompt and llm\n",
    "prompt = PromptTemplate.from_template(\"What is 10 times {num}?\")\n",
    "llm = ChatOpenAI(temperature=0)\n",
    "\n",
    "# Create the chain\n",
    "chain = prompt | llm"
   ]
  },
  {
   "cell_type": "markdown",
   "id": "dadbd932",
   "metadata": {},
   "source": [
    "當使用 ```invoke()``` 執行鏈式步驟時，輸入數據必須是字典類型。"
   ]
  },
  {
   "cell_type": "code",
   "execution_count": 7,
   "id": "3d367787",
   "metadata": {},
   "outputs": [
    {
     "data": {
      "text/plain": [
       "AIMessage(content='10 times 5 is equal to 50.', additional_kwargs={'refusal': None}, response_metadata={'token_usage': {'completion_tokens': 11, 'prompt_tokens': 15, 'total_tokens': 26, 'completion_tokens_details': {'accepted_prediction_tokens': 0, 'audio_tokens': 0, 'reasoning_tokens': 0, 'rejected_prediction_tokens': 0}, 'prompt_tokens_details': {'audio_tokens': 0, 'cached_tokens': 0}}, 'model_name': 'gpt-3.5-turbo-0125', 'system_fingerprint': None, 'finish_reason': 'stop', 'logprobs': None}, id='run-420bc9dc-12eb-4f7a-a2c4-8e521b3d952d-0', usage_metadata={'input_tokens': 15, 'output_tokens': 11, 'total_tokens': 26, 'input_token_details': {'audio': 0, 'cache_read': 0}, 'output_token_details': {'audio': 0, 'reasoning': 0}})"
      ]
     },
     "execution_count": 7,
     "metadata": {},
     "output_type": "execute_result"
    }
   ],
   "source": [
    "# Execute the chain : input dtype as 'dictionary'\n",
    "chain.invoke({\"num\": 5})"
   ]
  },
  {
   "cell_type": "markdown",
   "id": "ac736fc2",
   "metadata": {},
   "source": [
    "However, with the update to the LangChain library, if the template includes **only one variable**, it is also possible to pass just the value directly."
   ]
  },
  {
   "cell_type": "code",
   "execution_count": 8,
   "id": "f4a2b5c5",
   "metadata": {},
   "outputs": [
    {
     "data": {
      "text/plain": [
       "AIMessage(content='10 times 5 is equal to 50.', additional_kwargs={'refusal': None}, response_metadata={'token_usage': {'completion_tokens': 11, 'prompt_tokens': 15, 'total_tokens': 26, 'completion_tokens_details': {'accepted_prediction_tokens': 0, 'audio_tokens': 0, 'reasoning_tokens': 0, 'rejected_prediction_tokens': 0}, 'prompt_tokens_details': {'audio_tokens': 0, 'cached_tokens': 0}}, 'model_name': 'gpt-3.5-turbo-0125', 'system_fingerprint': None, 'finish_reason': 'stop', 'logprobs': None}, id='run-3723d11b-89e1-490c-8946-b724fbc2c46d-0', usage_metadata={'input_tokens': 15, 'output_tokens': 11, 'total_tokens': 26, 'input_token_details': {'audio': 0, 'cache_read': 0}, 'output_token_details': {'audio': 0, 'reasoning': 0}})"
      ]
     },
     "execution_count": 8,
     "metadata": {},
     "output_type": "execute_result"
    }
   ],
   "source": [
    "# Execute the chain : input value directly\n",
    "chain.invoke(5)"
   ]
  },
  {
   "cell_type": "markdown",
   "id": "ad8017f7",
   "metadata": {},
   "source": [
    "這裏是 ```RunnablePassthrough``` 的一個例子。\n",
    "```RunnablePassthrough``` 是一個 ```runnable``` 物件，具有以下特點:\n",
    "\n",
    "1. **Basic Operation**\n",
    "   - 執行一個簡單的 pass-through 函數，將輸入值直接轉發到輸出\n",
    "   - 可以獨立使用 ```invoke()``` 方法執行\n",
    "\n",
    "2. **Use Cases**\n",
    "   - 用於通過鏈式步驟傳遞數據而不進行修改\n",
    "   - 可以與其他組件組合構建複雜數據管道\n",
    "   - 對於需要保留原始輸入同時添加新字段的情況特別有幫助\n",
    "\n",
    "3. **Input Handling**\n",
    "   - 接受字典類型的輸入\n",
    "   - 可以處理單個值\n",
    "   - 在鏈式步驟中保持數據結構"
   ]
  },
  {
   "cell_type": "code",
   "execution_count": 9,
   "id": "3b93e0a5",
   "metadata": {},
   "outputs": [
    {
     "data": {
      "text/plain": [
       "{'num': 10}"
      ]
     },
     "execution_count": 9,
     "metadata": {},
     "output_type": "execute_result"
    }
   ],
   "source": [
    "from langchain_core.runnables import RunnablePassthrough\n",
    "\n",
    "# Runnable\n",
    "RunnablePassthrough().invoke({\"num\": 10})"
   ]
  },
  {
   "cell_type": "markdown",
   "id": "5a77202f",
   "metadata": {},
   "source": [
    "這裏是 ```RunnablePassthrough``` 的一個例子。"
   ]
  },
  {
   "cell_type": "code",
   "execution_count": 10,
   "id": "b6ade3d4",
   "metadata": {},
   "outputs": [
    {
     "data": {
      "text/plain": [
       "AIMessage(content='10 times 10 is equal to 100.', additional_kwargs={'refusal': None}, response_metadata={'token_usage': {'completion_tokens': 11, 'prompt_tokens': 15, 'total_tokens': 26, 'completion_tokens_details': {'accepted_prediction_tokens': 0, 'audio_tokens': 0, 'reasoning_tokens': 0, 'rejected_prediction_tokens': 0}, 'prompt_tokens_details': {'audio_tokens': 0, 'cached_tokens': 0}}, 'model_name': 'gpt-3.5-turbo-0125', 'system_fingerprint': None, 'finish_reason': 'stop', 'logprobs': None}, id='run-dffc0a69-0ee5-43b1-adae-03ee863d5a68-0', usage_metadata={'input_tokens': 15, 'output_tokens': 11, 'total_tokens': 26, 'input_token_details': {'audio': 0, 'cache_read': 0}, 'output_token_details': {'audio': 0, 'reasoning': 0}})"
      ]
     },
     "execution_count": 10,
     "metadata": {},
     "output_type": "execute_result"
    }
   ],
   "source": [
    "runnable_chain = {\"num\": RunnablePassthrough()} | prompt | ChatOpenAI()\n",
    "\n",
    "# The dict value has been updated with RunnablePassthrough().\n",
    "runnable_chain.invoke(10)"
   ]
  },
  {
   "cell_type": "markdown",
   "id": "31b96bc8",
   "metadata": {},
   "source": [
    "這裏是使用 ```RunnablePassthrough.assign()``` 的結果比較。"
   ]
  },
  {
   "cell_type": "code",
   "execution_count": 11,
   "id": "5baf9b9c",
   "metadata": {},
   "outputs": [
    {
     "data": {
      "text/plain": [
       "{'num': 1}"
      ]
     },
     "execution_count": 11,
     "metadata": {},
     "output_type": "execute_result"
    }
   ],
   "source": [
    "RunnablePassthrough().invoke({\"num\": 1})"
   ]
  },
  {
   "cell_type": "markdown",
   "id": "e2d0e32b",
   "metadata": {},
   "source": [
    "```RunnablePassthrough.assign()```\n",
    "- 結合 input 的 key/value 對和新增的 key/value 對。"
   ]
  },
  {
   "cell_type": "code",
   "execution_count": 12,
   "id": "00bd941c",
   "metadata": {},
   "outputs": [
    {
     "data": {
      "text/plain": [
       "{'num': 1, 'new_num': 3}"
      ]
     },
     "execution_count": 12,
     "metadata": {},
     "output_type": "execute_result"
    }
   ],
   "source": [
    "# Input key: num, Assigned key: new_num\n",
    "(RunnablePassthrough.assign(new_num=lambda x: x[\"num\"] * 3)).invoke({\"num\": 1})"
   ]
  },
  {
   "cell_type": "markdown",
   "id": "13370494",
   "metadata": {},
   "source": [
    "## Efficient Parallel Execution with RunnableParallel\n",
    "\n",
    "```RunnableParallel``` 是一個用於同時執行多個 ```Runnable``` 物件的工具，它通過將輸入數據分配到不同的組件，收集其結果，並將其整合成一個統一的輸出。此功能使其成為一個強大的工具，用於優化工作流程，其中任務可以獨立和同時執行。\n",
    "\n",
    "\n",
    "1. **Concurrent Execution**\n",
    "   - 同時執行多個 ```Runnable``` 物件，減少需要進行平行化的任務所需時間。\n",
    "\n",
    "2. **Unified Output Management**\n",
    "   - 將所有平行執行的結果整合成一個單一、協調的輸出，簡化下游處理。\n",
    "\n",
    "3. **Flexibility**\n",
    "   - 可以處理多種輸入類型，並通過有效地分配工作負荷來支持複雜的工作流程。"
   ]
  },
  {
   "cell_type": "code",
   "execution_count": null,
   "id": "929d398b",
   "metadata": {},
   "outputs": [
    {
     "data": {
      "text/plain": [
       "{'passed': {'num': 1}, 'extra': {'num': 1, 'mult': 3}, 'modified': 2}"
      ]
     },
     "execution_count": 13,
     "metadata": {},
     "output_type": "execute_result"
    }
   ],
   "source": [
    "from langchain_core.runnables import RunnableParallel\n",
    "\n",
    "# 創造 RunnableParallel 的實例。此實例允許多個 Runnable 物件同時執行。\n",
    "runnable = RunnableParallel(\n",
    "    # 將 RunnablePassthrough 實例作為 'passed' 關鍵字參數傳入。此功能僅將輸入數據通過而不進行修改。\n",
    "    passed=RunnablePassthrough(),\n",
    "    # 使用 RunnablePassthrough.assign 作為 'extra' 關鍵字參數分配 lambda 函數 'mult'。 \n",
    "    # 這個函數將輸入字典中 'num' 金鑰關聯的值乘以 3。\n",
    "    extra=RunnablePassthrough.assign(mult=lambda x: x[\"num\"] * 3),\n",
    "    # 將 lambda 函數作為 'modified' 關鍵字參數傳入。 \n",
    "    # 這個函數將輸入字典中 'num' 金鑰關聯的值加 1。\n",
    "    modified=lambda x: x[\"num\"] + 1,\n",
    ")\n",
    "\n",
    "# 呼叫 runnable 的 invoke 方法，傳入一個字典 {'num': 1}。\n",
    "runnable.invoke({\"num\": 1})"
   ]
  },
  {
   "cell_type": "markdown",
   "id": "27516f65",
   "metadata": {},
   "source": [
    "Chains can also be applied to RunnableParallel."
   ]
  },
  {
   "cell_type": "code",
   "execution_count": 14,
   "id": "873c5f04",
   "metadata": {},
   "outputs": [],
   "source": [
    "chain1 = (\n",
    "    {\"country\": RunnablePassthrough()}\n",
    "    | PromptTemplate.from_template(\"What is the capital of {country}?\")\n",
    "    | ChatOpenAI()\n",
    ")\n",
    "chain2 = (\n",
    "    {\"country\": RunnablePassthrough()}\n",
    "    | PromptTemplate.from_template(\"What is the area of {country}?\")\n",
    "    | ChatOpenAI()\n",
    ")"
   ]
  },
  {
   "cell_type": "code",
   "execution_count": 15,
   "id": "92dc30d9",
   "metadata": {},
   "outputs": [
    {
     "data": {
      "text/plain": [
       "{'capital': AIMessage(content='The capital of the United States of America is Washington, D.C.', additional_kwargs={'refusal': None}, response_metadata={'token_usage': {'completion_tokens': 15, 'prompt_tokens': 17, 'total_tokens': 32, 'completion_tokens_details': {'accepted_prediction_tokens': 0, 'audio_tokens': 0, 'reasoning_tokens': 0, 'rejected_prediction_tokens': 0}, 'prompt_tokens_details': {'audio_tokens': 0, 'cached_tokens': 0}}, 'model_name': 'gpt-3.5-turbo-0125', 'system_fingerprint': None, 'finish_reason': 'stop', 'logprobs': None}, id='run-29437a26-8661-4f15-a655-3b3ca6aa0e8c-0', usage_metadata={'input_tokens': 17, 'output_tokens': 15, 'total_tokens': 32, 'input_token_details': {'audio': 0, 'cache_read': 0}, 'output_token_details': {'audio': 0, 'reasoning': 0}}),\n",
       " 'area': AIMessage(content='The total land area of the United States of America is approximately 3.8 million square miles.', additional_kwargs={'refusal': None}, response_metadata={'token_usage': {'completion_tokens': 21, 'prompt_tokens': 17, 'total_tokens': 38, 'completion_tokens_details': {'accepted_prediction_tokens': 0, 'audio_tokens': 0, 'reasoning_tokens': 0, 'rejected_prediction_tokens': 0}, 'prompt_tokens_details': {'audio_tokens': 0, 'cached_tokens': 0}}, 'model_name': 'gpt-3.5-turbo-0125', 'system_fingerprint': None, 'finish_reason': 'stop', 'logprobs': None}, id='run-5004e08c-dd66-4c7c-bc3f-60821fecc403-0', usage_metadata={'input_tokens': 17, 'output_tokens': 21, 'total_tokens': 38, 'input_token_details': {'audio': 0, 'cache_read': 0}, 'output_token_details': {'audio': 0, 'reasoning': 0}})}"
      ]
     },
     "execution_count": 15,
     "metadata": {},
     "output_type": "execute_result"
    }
   ],
   "source": [
    "combined_chain = RunnableParallel(capital=chain1, area=chain2)\n",
    "combined_chain.invoke(\"United States of America\")"
   ]
  },
  {
   "cell_type": "markdown",
   "id": "982775c8",
   "metadata": {},
   "source": [
    "## Dynamic Processing with RunnableLambda\n",
    "\n",
    "```RunnableLambda``` 是一個靈活的工具，允許開發者使用 lambda 函數定義自定義數據轉換邏輯。通過啟用快速且簡單的自定義處理工作流程的實現，```RunnableLambda``` 簡化了創建定制數據管道的過程，同時確保最小的設置開銷。\n",
    "\n",
    "1. **Customizable Data Transformation**\n",
    "   - 允許用戶使用 lambda 函數定義自定義邏輯來轉換輸入數據，提供無與倫比的靈活性。\n",
    "\n",
    "2. **Lightweight and Simple**\n",
    "   - 提供了一種簡單的方式來實現即時處理，而不需要定義繁雜的類或函數。\n"
   ]
  },
  {
   "cell_type": "code",
   "execution_count": 16,
   "id": "aa9fc167",
   "metadata": {},
   "outputs": [
    {
     "data": {
      "text/plain": [
       "'Jan-04'"
      ]
     },
     "execution_count": 16,
     "metadata": {},
     "output_type": "execute_result"
    }
   ],
   "source": [
    "from langchain_core.output_parsers import StrOutputParser\n",
    "from langchain_core.prompts import PromptTemplate\n",
    "from langchain_openai import ChatOpenAI\n",
    "from datetime import datetime\n",
    "\n",
    "def get_today(a):\n",
    "    # Get today's date\n",
    "    return datetime.today().strftime(\"%b-%d\")\n",
    "\n",
    "# Print today's date\n",
    "get_today(None)"
   ]
  },
  {
   "cell_type": "code",
   "execution_count": 17,
   "id": "3247ca68",
   "metadata": {},
   "outputs": [],
   "source": [
    "from langchain_core.runnables import RunnableLambda, RunnablePassthrough\n",
    "\n",
    "# Create the prompt and llm\n",
    "prompt = PromptTemplate.from_template(\n",
    "    \"List {n} famous people whose birthday is on {today}. Include their date of birth.\"\n",
    ")\n",
    "llm = ChatOpenAI(temperature=0, model_name=\"gpt-4o\")\n",
    "\n",
    "# Create the chain\n",
    "chain = (\n",
    "    {\"today\": RunnableLambda(get_today), \"n\": RunnablePassthrough()}\n",
    "    | prompt\n",
    "    | llm\n",
    "    | StrOutputParser()\n",
    ")"
   ]
  },
  {
   "cell_type": "code",
   "execution_count": 18,
   "id": "6c5ba7ee",
   "metadata": {},
   "outputs": [
    {
     "name": "stdout",
     "output_type": "stream",
     "text": [
      "Here are three famous people born on January 4:\n",
      "\n",
      "1. **Isaac Newton** - Born on January 4, 1643 (according to the Gregorian calendar; December 25, 1642, in the Julian calendar), he was an English mathematician, physicist, astronomer, and author who is widely recognized as one of the most influential scientists of all time.\n",
      "\n",
      "2. **Louis Braille** - Born on January 4, 1809, he was a French educator and inventor of a system of reading and writing for use by the blind or visually impaired, known as Braille.\n",
      "\n",
      "3. **Michael Stipe** - Born on January 4, 1960, he is an American singer-songwriter and the lead vocalist of the alternative rock band R.E.M.\n"
     ]
    }
   ],
   "source": [
    "# Output\n",
    "print(chain.invoke(3))"
   ]
  },
  {
   "cell_type": "markdown",
   "id": "564e7c3f",
   "metadata": {},
   "source": [
    "## Extracting Specific Keys Using ```itemgetter```\n",
    "\n",
    "```itemgetter``` 是一個從 Python 的 ```operator``` 模組中提取特定鍵或索引值的工具函數，具有以下特性和優點:\n",
    "\n",
    "1. **Core Functionality**\n",
    "   - 可以高效地從字典、元組和列表中提取特定鍵或索引值\n",
    "   - 可以同時提取多個鍵或索引值\n",
    "   - 支持函數式編程風格\n",
    "\n",
    "2. **Performance Optimization**\n",
    "   - 比常规索引更高效，特別是在重複鍵存取操作時\n",
    "   - 優化內存使用\n",
    "   - 在處理大量數據集時提供性能優勢\n",
    "\n",
    "3. **Usage in LangChain**\n",
    "   - 在鏈式組合中進行數據過濾\n",
    "   - 從複雜的輸入結構中選擇性提取\n",
    "   - 與其他 Runnable 物件組合用於數據預處理\n"
   ]
  },
  {
   "cell_type": "code",
   "execution_count": 19,
   "id": "af3c8dea",
   "metadata": {},
   "outputs": [],
   "source": [
    "from operator import itemgetter\n",
    "\n",
    "from langchain_core.prompts import ChatPromptTemplate\n",
    "from langchain_core.runnables import RunnableLambda\n",
    "from langchain_openai import ChatOpenAI\n",
    "\n",
    "\n",
    "# Function that returns the length of a sentence.\n",
    "def length_function(text):\n",
    "    return len(text)\n",
    "\n",
    "\n",
    "# Function that returns the product of the lengths of two sentences.\n",
    "def _multiple_length_function(text1, text2):\n",
    "    return len(text1) * len(text2)\n",
    "\n",
    "\n",
    "# Function that uses _multiple_length_function to return the product of the lengths of two sentences.\n",
    "def multiple_length_function(_dict):\n",
    "    return _multiple_length_function(_dict[\"text1\"], _dict[\"text2\"])\n",
    "\n",
    "\n",
    "prompt = ChatPromptTemplate.from_template(\"What is {a} + {b}?\")\n",
    "model = ChatOpenAI()\n",
    "\n",
    "chain1 = prompt | model\n",
    "\n",
    "chain = (\n",
    "    {\n",
    "        \"a\": itemgetter(\"word1\") | RunnableLambda(length_function),\n",
    "        \"b\": {\"text1\": itemgetter(\"word1\"), \"text2\": itemgetter(\"word2\")}\n",
    "        | RunnableLambda(multiple_length_function),\n",
    "    }\n",
    "    | prompt\n",
    "    | model\n",
    ")"
   ]
  },
  {
   "cell_type": "code",
   "execution_count": 20,
   "id": "31d8f148",
   "metadata": {},
   "outputs": [
    {
     "data": {
      "text/plain": [
       "AIMessage(content='5 + 25 = 30', additional_kwargs={'refusal': None}, response_metadata={'token_usage': {'completion_tokens': 8, 'prompt_tokens': 15, 'total_tokens': 23, 'completion_tokens_details': {'accepted_prediction_tokens': 0, 'audio_tokens': 0, 'reasoning_tokens': 0, 'rejected_prediction_tokens': 0}, 'prompt_tokens_details': {'audio_tokens': 0, 'cached_tokens': 0}}, 'model_name': 'gpt-3.5-turbo-0125', 'system_fingerprint': None, 'finish_reason': 'stop', 'logprobs': None}, id='run-1cb2a062-52ba-4042-a4c1-a1eef155f6cc-0', usage_metadata={'input_tokens': 15, 'output_tokens': 8, 'total_tokens': 23, 'input_token_details': {'audio': 0, 'cache_read': 0}, 'output_token_details': {'audio': 0, 'reasoning': 0}})"
      ]
     },
     "execution_count": 20,
     "metadata": {},
     "output_type": "execute_result"
    }
   ],
   "source": [
    "chain.invoke({\"word1\": \"hello\", \"word2\": \"world\"})"
   ]
  }
 ],
 "metadata": {
  "kernelspec": {
   "display_name": "langchain-opentutorial-6Qq4Ubg1-py3.11",
   "language": "python",
   "name": "python3"
  },
  "language_info": {
   "codemirror_mode": {
    "name": "ipython",
    "version": 3
   },
   "file_extension": ".py",
   "mimetype": "text/x-python",
   "name": "python",
   "nbconvert_exporter": "python",
   "pygments_lexer": "ipython3",
   "version": "3.11.9"
  }
 },
 "nbformat": 4,
 "nbformat_minor": 5
}
