{
 "cells": [
  {
   "cell_type": "markdown",
   "metadata": {},
   "source": [
    "# OpenAI API Key Generation and Testing Guide\n",
    "\n",
    "\n",
    "## Overview\n",
    "\n",
    "這個手冊會解釋如何取得和使用 OpenAI API key，包括費用和限制。\n",
    "\n",
    "開始之前，你會在 OpenAI 的平台上建立你的 API key，並設定你的開發環境。\n",
    "\n",
    "設定完成之後，你可以測試你的 API key 以確保它能正確地與你的應用程序一起使用。\n",
    "\n",
    "### 目錄\n",
    "- [Overview](#overview)\n",
    "- [Setting Up OpenAI API Payment and Usage Limits](#setting-up-openai-api-payment-and-usage-limits)\n",
    "- [OpenAI API Key Generation](#openai-api-key-generation)\n",
    "- [Environment Setup](#environment-setup)\n",
    "\n",
    "----"
   ]
  },
  {
   "cell_type": "markdown",
   "metadata": {},
   "source": [
    "## Setting Up OpenAI API Payment and Usage Limits\n",
    "\n",
    "造訪 OpenAI API website\n",
    "\n",
    "\n",
    "- Visit: https://platform.openai.com/docs/overview\n",
    "\n",
    "點擊右上角的 **\"Sign Up\"** 來建立一個帳號 (如果你已經有帳號，點擊 **\"Log in\")**。\n",
    "\n",
    "![step1](./assets/02-OpenAIAPIKeyGeneration-01.png)\n",
    "\n",
    "登入之後，點擊右上角的 **settings**，選擇 \"Billing\"\n",
    "\n",
    "![step2](./assets/02-OpenAIAPIKeyGeneration-02.png)\n",
    "\n",
    "在左邊的 \"Billing\" menu 中，點擊 \"Payment methods\" 來註冊你的信用卡。\n",
    "\n",
    "![step3](./assets/02-OpenAIAPIKeyGeneration-03.png)\n",
    "\n",
    "一旦你的信用卡被註冊，它將會出現在支付方法的清單中，如圖所示。\n",
    "\n",
    "![step4](./assets/02-OpenAIAPIKeyGeneration-04.png)\n",
    "\n",
    "點擊 \"Add to credit balance\" 按鈕來輸入你想要使用的美元金額。\n",
    "\n",
    "\n",
    "![step5](./assets/02-OpenAIAPIKeyGeneration-05.png)\n",
    "\n",
    "\n",
    "\n",
    "你可以從 ```$5``` 開始添加資金 (意味著你必須支付至少 $5 的最低金額)。\n",
    "\n",
    "在輸入金額之後，點擊 \"Continue\" 來進行付款。\n",
    "\n",
    "![step6](./assets/02-OpenAIAPIKeyGeneration-06.png)\n",
    "\n",
    "在左邊的 **\"Limits\"** tab 中，你可以設定你的月度使用限制\n",
    "\n",
    "- **\"Set a monthly budget\"** : 這會設定你的月度支出限制。一旦你達到這個金額，帳單就會停止，API 將停止功能。\n",
    "- **\"Set an email notification threshold\"** : 你可以指定在你收到電子郵件通知的金額。當你的使用達到這個金額時，你會收到電子郵件警報。\n",
    "\n",
    "![step7](./assets/02-OpenAIAPIKeyGeneration-07.png)"
   ]
  },
  {
   "cell_type": "markdown",
   "metadata": {},
   "source": [
    "## OpenAI API Key Generation\n",
    "\n",
    "Click on your profile picture in the top-right corner, then select **\"Your Profile.\"** \n",
    "\n",
    "![step7](./assets/02-OpenAIAPIKeyGeneration-08.png)\n",
    "\n",
    "Access the API Key Management Menu\n",
    "\n",
    "- Visit: https://platform.openai.com/api-keys\n",
    "\n",
    "\n",
    "Click on **\"Create new secret key\"**\n",
    "\n",
    "![step8](./assets/02-OpenAIAPIKeyGeneration-09.png)\n",
    "\n",
    "Enter a Name and select a project (if you haven't created any projects, select Default project)\n",
    "\n",
    "![step9](./assets/02-OpenAIAPIKeyGeneration-10.png)\n",
    "\n",
    "Click the **\"Copy\"** button on the right to copy your key.\n",
    "\n",
    "**IMPORTANT WARNING!!!**\n",
    "\n",
    "If your key is leaked, others can use your API KEY to access GPT services, and charges will be billed to **YOUR account** .\n",
    "**NEVER share your key** with others and store it in a secure location! (Think of it as your password)\n",
    "\n",
    "![step10](./assets/02-OpenAIAPIKeyGeneration-11.png)\n"
   ]
  },
  {
   "cell_type": "markdown",
   "metadata": {},
   "source": [
    "## Environment Setup\n",
    "\n",
    "Setting up the ```.env``` File\n",
    "\n",
    "1. Create a ```.env``` file in your project's root directory.\n",
    "2. In the ```.env``` file, enter ```OPENAI_API_KEY=your-copied-key``` then press Ctrl + S (or Command + S on Mac) to save and close the file.\n",
    "\n",
    "![step12](./assets/02-OpenAIAPIKeyGeneration-12.png)\n",
    "\n",
    "Setting up the .gitignore File\n",
    "1. Create a ```.gitignore``` file in your project's root directory.\n",
    "2. Add ```.env``` to your ```.gitignore``` file to prevent it from being tracked by Git.\n",
    "\n",
    "![step13](./assets/02-OpenAIAPIKeyGeneration-13.png)\n"
   ]
  },
  {
   "cell_type": "code",
   "execution_count": null,
   "metadata": {
    "vscode": {
     "languageId": "plaintext"
    }
   },
   "outputs": [],
   "source": [
    "# Update LangChain\n",
    "!pip install langchain-opentutorial"
   ]
  },
  {
   "cell_type": "code",
   "execution_count": null,
   "metadata": {
    "vscode": {
     "languageId": "plaintext"
    }
   },
   "outputs": [],
   "source": [
    "# Configuration file to manage API KEY as environment variable\n",
    "# Install: pip install python-dotenv\n",
    "from dotenv import load_dotenv\n",
    "\n",
    "# Load API KEY information\n",
    "load_dotenv()"
   ]
  },
  {
   "cell_type": "code",
   "execution_count": null,
   "metadata": {
    "vscode": {
     "languageId": "plaintext"
    }
   },
   "outputs": [],
   "source": [
    "True"
   ]
  },
  {
   "cell_type": "markdown",
   "metadata": {},
   "source": [
    "Let's verify if the API Key is properly configured:"
   ]
  },
  {
   "cell_type": "code",
   "execution_count": null,
   "metadata": {
    "vscode": {
     "languageId": "plaintext"
    }
   },
   "outputs": [],
   "source": [
    "import os\n",
    "print(f\"[API KEY]\\n{os.environ['OPENAI_API_KEY']}\")"
   ]
  }
 ],
 "metadata": {
  "language_info": {
   "name": "python"
  }
 },
 "nbformat": 4,
 "nbformat_minor": 2
}
