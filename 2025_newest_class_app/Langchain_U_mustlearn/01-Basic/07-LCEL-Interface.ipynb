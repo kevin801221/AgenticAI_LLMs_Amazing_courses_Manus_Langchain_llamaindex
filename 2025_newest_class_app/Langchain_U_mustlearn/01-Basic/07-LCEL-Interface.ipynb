{
 "cells": [
  {
   "cell_type": "markdown",
   "metadata": {},
   "source": [
    "# LCEL Interface\n",
    "\n",
    "\n",
    "## Overview\n",
    "\n",
    "The LangChain Expression Language (LCEL) is a 強大的介面, 用於簡化在 LangChain 中建立和管理自定義鏈的流程. \n",
    "LCEL 實現了 Runnable 協議, 提供了一種標準化的方式來構建和執行語言模型鏈.\n",
    "\n",
    "\n",
    "### Table of Contents\n",
    "\n",
    "- [Overview](#overview)\n",
    "- [Environment Setup](#environment-setup)\n",
    "- [LCEL Runnable Protocol](#lcel-runnable-protocol)\n",
    "- [stream: real-time output](#stream-real-time-output)\n",
    "- [Invoke](#invoke)\n",
    "- [batch: unit execution](#batch-unit-execution)\n",
    "- [async stream](#async-stream)\n",
    "- [async invoke](#async-invoke)\n",
    "- [async batch](#async-batch)\n",
    "- [Parallel](#parallel)\n",
    "- [Parallelism in batches](#parallelism-in-batches)\n",
    "\n",
    "### References\n",
    "\n",
    "- [Langsmith DOC](https://docs.smith.langchain.com/)\n",
    "---"
   ]
  },
  {
   "cell_type": "markdown",
   "metadata": {},
   "source": [
    "## Environment Setup\n",
    "\n",
    "設定環境. 你可以到 [Environment Setup](https://wikidocs.net/257836) 了解更多詳細信息.\n",
    "\n",
    "**[Note]**\n",
    "- ```langchain-opentutorial``` 是一個提供一套簡單易用的環境設定, 有用的功能和工具的套件.\n",
    "- 你可以到 [```langchain-opentutorial```](https://github.com/LangChain-OpenTutorial/langchain-opentutorial-pypi) 了解更多詳細信息."
   ]
  },
  {
   "cell_type": "markdown",
   "metadata": {},
   "source": [
    "set environment variables is in .env.\n",
    "\n",
    "Copy the contents of .env_sample and load it into your .env with the key you set."
   ]
  },
  {
   "cell_type": "code",
   "execution_count": 13,
   "metadata": {},
   "outputs": [
    {
     "data": {
      "text/plain": [
       "True"
      ]
     },
     "execution_count": 13,
     "metadata": {},
     "output_type": "execute_result"
    }
   ],
   "source": [
    "from dotenv import load_dotenv\n",
    "\n",
    "load_dotenv(override=True)"
   ]
  },
  {
   "cell_type": "code",
   "execution_count": 9,
   "metadata": {},
   "outputs": [
    {
     "name": "stderr",
     "output_type": "stream",
     "text": [
      "\n",
      "[notice] A new release of pip is available: 24.3.1 -> 25.0.1\n",
      "[notice] To update, run: python.exe -m pip install --upgrade pip\n"
     ]
    }
   ],
   "source": [
    "%%capture --no-stderr\n",
    "!pip install langchain-opentutorial"
   ]
  },
  {
   "cell_type": "code",
   "execution_count": 10,
   "metadata": {},
   "outputs": [],
   "source": [
    "# Install required packages\n",
    "from langchain_opentutorial import package\n",
    "\n",
    "package.install(\n",
    "    [\n",
    "        \"langsmith\",\n",
    "        \"langchain-openai\",\n",
    "        \"langchain\",\n",
    "        \"python-dotenv\",\n",
    "        \"langchain-core\",\n",
    "    ],\n",
    "    verbose=False,\n",
    "    upgrade=False,\n",
    ")"
   ]
  },
  {
   "cell_type": "code",
   "execution_count": 11,
   "metadata": {},
   "outputs": [
    {
     "name": "stdout",
     "output_type": "stream",
     "text": [
      "Environment variables have been set successfully.\n"
     ]
    }
   ],
   "source": [
    "# Set environment variables\n",
    "from langchain_opentutorial import set_env\n",
    "\n",
    "set_env(\n",
    "    {\n",
    "        \"OPENAI_API_KEY\": \"<Your OpenAI API KEY>\",\n",
    "        \"LANGCHAIN_API_KEY\": \"<Your LangChain API KEY>\",\n",
    "        \"LANGCHAIN_TRACING_V2\": \"true\",\n",
    "        \"LANGCHAIN_ENDPOINT\": \"https://api.smith.langchain.com\",\n",
    "        \"LANGCHAIN_PROJECT\": \"LangSmith-Tracking-Setup\",  # title 과 동일하게 설정해 주세요\n",
    "    }\n",
    ")"
   ]
  },
  {
   "cell_type": "markdown",
   "metadata": {},
   "source": [
    "## LCEL Runnable Protocol\n",
    "\n",
    "---\n",
    "\n",
    "為了讓建立自定義鏈的流程盡可能簡單, 我們實現了 ```Runnable``` 協議.\n",
    "\n",
    "```Runnable``` 協議在大多數組件中都已實現.\n",
    "\n",
    "```Runnable``` 協議提供了一個標準介面, 使定義自定義鏈和以標準方式調用它們變得容易. 標準介面包括\n",
    "\n",
    "- ```stream```: 流式輸出一個響應的片段.\n",
    "- ```invoke```: 在輸入上調用鏈.\n",
    "- ```batch```: 在輸入列表上調用鏈.\n",
    "\n",
    "還有異步方法\n",
    "\n",
    "- ```astream```: 異步流式輸出一個響應的片段.\n",
    "- ```ainvoke```: 在輸入上異步調用鏈.\n",
    "- ```abatch```: 在輸入列表上異步調用鏈.\n",
    "- ```astream_log```: 異步流式輸出最終響應以及在發生時的中間步驟.\n",
    "\n"
   ]
  },
  {
   "cell_type": "markdown",
   "metadata": {},
   "source": [
    "### Log your trace\n",
    "\n",
    "我們提供多種方式將追蹤記錄到 LangSmith. 下面, 我們將突出顯示如何使用 traceable().\n",
    "\n",
    "使用以下代碼在 LangSmith 中記錄追蹤"
   ]
  },
  {
   "cell_type": "code",
   "execution_count": null,
   "metadata": {},
   "outputs": [
    {
     "data": {
      "text/plain": [
       "'Hello! How can I assist you today?'"
      ]
     },
     "execution_count": 14,
     "metadata": {},
     "output_type": "execute_result"
    }
   ],
   "source": [
    "import openai\n",
    "from langsmith import wrappers, traceable\n",
    "\n",
    "# 自動追蹤 LLM 調用\n",
    "client = wrappers.wrap_openai(openai.Client())\n",
    "\n",
    "@traceable # 自動追蹤此函數\n",
    "def pipeline(user_input: str):\n",
    "    result = client.chat.completions.create(\n",
    "        messages=[{\"role\": \"user\", \"content\": user_input}],\n",
    "        model=\"gpt-4o-mini\"\n",
    "    )\n",
    "    return result.choices[0].message.content\n",
    "\n",
    "pipeline(\"Hello, world!\")\n",
    "# Out:  Hello there! How can I assist you today?"
   ]
  },
  {
   "cell_type": "markdown",
   "metadata": {},
   "source": [
    "Create a chain using LCEL syntax."
   ]
  },
  {
   "cell_type": "code",
   "execution_count": 15,
   "metadata": {},
   "outputs": [],
   "source": [
    "from langchain_openai import ChatOpenAI\n",
    "from langchain_core.prompts import PromptTemplate\n",
    "from langchain_core.output_parsers import StrOutputParser\n",
    "\n",
    "# Instantiate the ChatOpenAI model.\n",
    "model = ChatOpenAI()\n",
    "# Create a prompt template that asks for jokes on a given topic.\n",
    "prompt = PromptTemplate.from_template(\"Describe the {topic} in 3 sentences.\")\n",
    "# Connect the prompt and model to create a conversation chain.\n",
    "chain = prompt | model | StrOutputParser()"
   ]
  },
  {
   "cell_type": "markdown",
   "metadata": {},
   "source": [
    "## stream: real-time output\n",
    "\n",
    "這個 function 使用 ```chain.stream``` method 來創建一個給定主題的數據流, 並迭代輸出每個數據片段的 ```content```. \n",
    "```end=\"\"``` argument 禁用輸出後的換行, ```flush=True``` argument 強制立即清空輸出緩衝區."
   ]
  },
  {
   "cell_type": "code",
   "execution_count": null,
   "metadata": {},
   "outputs": [
    {
     "name": "stdout",
     "output_type": "stream",
     "text": [
      "The multimodal approach involves using multiple modes of communication, such as visual, auditory, and kinesthetic, to enhance learning and understanding. By incorporating various modalities, individuals can access information in ways that cater to their unique learning styles and preferences. This approach allows for a more comprehensive and inclusive learning experience that promotes deeper engagement and retention of information."
     ]
    }
   ],
   "source": [
    "# 使用 chain.stream method 創建一個給定主題的數據流, 並迭代輸出每個數據片段的 content. \n",
    "for token in chain.stream({\"topic\": \"multimodal\"}):\n",
    "    # Output the content of each piece of data without newlines.\n",
    "    print(token, end=\"\", flush=True)\n",
    "\n",
    "# example output \n",
    "# The multimodal approach involves using multiple modes of communication, such as visual, auditory, and kinesthetic, to enhance learning and understanding. By incorporating different sensory inputs, learners are able to engage with material in a more holistic and immersive way. This approach is especially effective in catering to diverse learning styles and preferences."
   ]
  },
  {
   "cell_type": "markdown",
   "metadata": {},
   "source": [
    "## Invoke\n",
    "\n",
    "The ```invoke``` method of a ```chain``` object takes a topic as an argument and performs processing on that topic.\n",
    "\n",
    "\n",
    "\n",
    "\n"
   ]
  },
  {
   "cell_type": "code",
   "execution_count": 17,
   "metadata": {},
   "outputs": [
    {
     "data": {
      "text/plain": [
       "'ChatGPT is a state-of-the-art conversational AI model developed by OpenAI that can engage in natural and coherent conversations with users. It uses the GPT-3 architecture, which allows it to generate human-like responses based on the input it receives. ChatGPT is known for its ability to understand context, provide relevant information, and maintain engaging conversations across a wide range of topics.'"
      ]
     },
     "execution_count": 17,
     "metadata": {},
     "output_type": "execute_result"
    }
   ],
   "source": [
    "# Call the invoke method of the chain object, passing a dictionary with the topic 'ChatGPT'.\n",
    "chain.invoke({\"topic\": \"ChatGPT\"})"
   ]
  },
  {
   "cell_type": "markdown",
   "metadata": {},
   "source": [
    "## batch: unit execution\n",
    "\n",
    "The function ```chain.batch``` takes a list containing multiple dictionaries as arguments and performs batch processing using the values of the ```topic``` key in each dictionary."
   ]
  },
  {
   "cell_type": "code",
   "execution_count": 18,
   "metadata": {},
   "outputs": [
    {
     "data": {
      "text/plain": [
       "['ChatGPT is an advanced conversational AI model developed by OpenAI that can engage in natural and engaging conversations with users. It is trained on a diverse range of internet text data to understand and generate human-like responses. ChatGPT is capable of providing information, answering questions, and engaging in meaningful dialogues with users on a variety of topics.',\n",
       " 'Instagram is a social media platform where users can share photos and videos with their followers. The app allows users to edit and enhance their photos with filters and captions before posting. Users can also interact with others by liking, commenting, and messaging on their posts.']"
      ]
     },
     "execution_count": 18,
     "metadata": {},
     "output_type": "execute_result"
    }
   ],
   "source": [
    "# Call a function to batch process a given list of topics\n",
    "chain.batch([{\"topic\": \"ChatGPT\"}, {\"topic\": \"Instagram\"}])"
   ]
  },
  {
   "cell_type": "markdown",
   "metadata": {},
   "source": [
    "你可以使用 ```max_concurrency``` parameter 來設定同時請求的數量.\n",
    "\n",
    "```config``` dictionary 使用 ```max_concurrency``` key 來設定可以同時處理的最大操作數量. 在這裡, 它被設定為同時處理最多三個工作."
   ]
  },
  {
   "cell_type": "code",
   "execution_count": 19,
   "metadata": {},
   "outputs": [
    {
     "data": {
      "text/plain": [
       "['ChatGPT is an AI-powered chatbot developed by OpenAI that can engage in text-based conversations with users. It uses a machine learning model trained on a diverse range of internet text to generate responses that are contextually relevant and engaging. ChatGPT can provide information, answer questions, or just have a casual conversation with users.',\n",
       " 'Instagram is a social media platform where users can share photos and videos with their followers. It allows users to edit and enhance their photos with filters and editing tools. Users can also engage with others by liking, commenting, and sharing posts.',\n",
       " 'The multimodal approach involves using multiple modes of communication, such as visual, auditory, and kinesthetic, to enhance learning and understanding. This approach recognizes that individuals learn in different ways and can benefit from a variety of sensory experiences. By incorporating different modes of communication, educators can cater to diverse learning styles and create a more engaging and effective learning environment.',\n",
       " 'Programming involves writing instructions in a specific programming language to create software applications, websites, or other types of technology. It requires problem-solving skills, logic, and attention to detail to write code that functions correctly. Programmers use various tools and resources to develop, test, and debug their code to ensure it performs as intended.',\n",
       " 'Machine learning is a branch of artificial intelligence that involves developing algorithms and models that allow computers to learn and improve from data without being explicitly programmed. It involves training a model on a dataset to make predictions or decisions based on new, unseen data. Machine learning algorithms can be used for a variety of tasks, such as image recognition, natural language processing, and recommendation systems.']"
      ]
     },
     "execution_count": 19,
     "metadata": {},
     "output_type": "execute_result"
    }
   ],
   "source": [
    "chain.batch(\n",
    "    [\n",
    "        {\"topic\": \"ChatGPT\"},\n",
    "        {\"topic\": \"Instagram\"},\n",
    "        {\"topic\": \"multimodal\"},\n",
    "        {\"topic\": \"programming\"},\n",
    "        {\"topic\": \"machineLearning\"},\n",
    "    ],\n",
    "    config={\"max_concurrency\": 3},\n",
    ")"
   ]
  },
  {
   "cell_type": "markdown",
   "metadata": {},
   "source": [
    "## async stream\n",
    "\n",
    "The 函數 ```chain.astream``` 建立一個異步流，並異步處理給定主題的訊息。\n",
    "\n",
    "它使用異步 for 迴圈 (```async for```) 來序列接收流中的訊息，並使用 print 函數立即印出訊息的內容 (```s.content```)。 ```end=\"\"``` 禁用印出後的行包裝，而 ```flush=True``` 強制輸出緩衝區被清空以確保立即印出。\n"
   ]
  },
  {
   "cell_type": "code",
   "execution_count": null,
   "metadata": {},
   "outputs": [
    {
     "name": "stdout",
     "output_type": "stream",
     "text": [
      "YouTube is a video-sharing platform where users can upload, view, and interact with videos on a wide range of topics. It has become one of the largest and most popular websites on the internet, with millions of users visiting daily. Users can subscribe to channels, like and comment on videos, and create playlists to save their favorite content."
     ]
    }
   ],
   "source": [
    "# 使用異步流來處理 'YouTube' 主題的訊息。\n",
    "async for token in chain.astream({\"topic\": \"YouTube\"}):\n",
    "    # 印出訊息內容。直接輸出，不換行，並清空緩衝區。\n",
    "    print(token, end=\"\", flush=True)"
   ]
  },
  {
   "cell_type": "markdown",
   "metadata": {},
   "source": [
    "## 非同步調用\n",
    "ainvoke 是 chain 物件的一個方法，用於以非同步方式執行操作。在此例中，我們傳入一個字典作為參數，該字典包含一個鍵為 topic 且值為 NVDA（NVIDIA 的股票代碼）的項目。此方法可用於非同步請求處理特定主題。\n",
    "\n",
    "這個翻譯保持了技術術語的準確性，同時確保了中文表達的自然流暢。"
   ]
  },
  {
   "cell_type": "code",
   "execution_count": null,
   "metadata": {},
   "outputs": [],
   "source": [
    "# 處理 'NVDA' 主題的訊息。\n",
    "my_process = chain.ainvoke({\"topic\": \"NVDA\"})"
   ]
  },
  {
   "cell_type": "code",
   "execution_count": null,
   "metadata": {},
   "outputs": [
    {
     "data": {
      "text/plain": [
       "'The National Visa Center (NVDA) is a government agency responsible for processing immigrant visa applications for individuals seeking to live permanently in the United States. They review and approve the necessary documentation, schedule interviews at U.S. embassies or consulates, and ensure that applicants meet all eligibility requirements for a visa. The NVDA plays a crucial role in managing the visa application process and facilitating legal immigration to the United States.'"
      ]
     },
     "execution_count": 22,
     "metadata": {},
     "output_type": "execute_result"
    }
   ],
   "source": [
    "# 等待非同步處理完成。\n",
    "await my_process"
   ]
  },
  {
   "cell_type": "markdown",
   "metadata": {},
   "source": [
    "# 非同步批次處理\n",
    "\n",
    "函數 ```abatch``` 以非同步方式批次處理一系列操作。\n",
    "\n",
    "在這個例子中，我們使用 ```chain``` 物件的 ```abatch``` 方法以非同步方式處理 ```topic``` 的操作。\n",
    "\n",
    "```await``` 關鍵字用於等待這些非同步任務完成。"
   ]
  },
  {
   "cell_type": "code",
   "execution_count": null,
   "metadata": {},
   "outputs": [],
   "source": [
    "# 非同步批次處理\n",
    "my_abatch_process = chain.abatch(\n",
    "    [{\"topic\": \"YouTube\"}, {\"topic\": \"Instagram\"}, {\"topic\": \"Facebook\"}]\n",
    ")"
   ]
  },
  {
   "cell_type": "code",
   "execution_count": null,
   "metadata": {},
   "outputs": [
    {
     "data": {
      "text/plain": [
       "['YouTube is a popular video-sharing platform where users can upload, view, and share videos on a wide range of topics. It has become a major source of entertainment, education, and information for millions of people around the world. With features like live streaming, monetization options, and a vast library of content, YouTube has revolutionized the way we consume video content.',\n",
       " 'Instagram is a popular social media platform where users can share photos and videos with their followers. It allows for creative expression through filters, captions, and hashtags. Users can also interact with others by liking, commenting, and messaging on posts.',\n",
       " 'Facebook is a popular social media platform where users can connect with friends and family, share photos and updates, and join groups based on their interests. It was founded by Mark Zuckerberg in 2004 and has since grown to have billions of active users worldwide. Users can also follow pages and businesses to stay updated on news and events.']"
      ]
     },
     "execution_count": 24,
     "metadata": {},
     "output_type": "execute_result"
    }
   ],
   "source": [
    "# 等待非同步批次處理完成。\n",
    "await my_abatch_process"
   ]
  },
  {
   "cell_type": "markdown",
   "metadata": {},
   "source": [
    "# 平行處理 Parallel\n",
    "\n",
    "讓我們看看 LangChain Expression Language 如何支持平行請求。例如，當您使用 ```RunnableParallel```（通常以字典形式寫入）時，您會平行執行每個元素。\n",
    "\n",
    "以下是一個使用 ```langchain_core.runnables``` 模組中的 ```RunnableParallel``` 類別平行執行兩個任務的示例。\n",
    "\n",
    "創建兩個鏈（```chain1```, ```chain2```)，使用 ```ChatPromptTemplate.from_template``` 方法獲取給定 ```country``` 的首都和面積。\n",
    "\n",
    "這些鏈通過 ```model``` 和管道（```|```）操作符相連。最後，我們使用 ```RunnableParallel``` 類別將這兩個鏈與鍵 ```capital``` 和 ```area``` 連接起來，創建一個 ```combined``` 物件，該物件可以平行運行。"
   ]
  },
  {
   "cell_type": "code",
   "execution_count": null,
   "metadata": {},
   "outputs": [],
   "source": [
    "from langchain_core.runnables import RunnableParallel\n",
    "\n",
    "# Create a chain that asks for the capital of {country}.\n",
    "chain1 = (\n",
    "    PromptTemplate.from_template(\"What is the capital of {country}?\")\n",
    "    | model\n",
    "    | StrOutputParser()\n",
    ")\n",
    "\n",
    "# Create a chain that asks for the area of {country}.\n",
    "chain2 = (\n",
    "    PromptTemplate.from_template(\"What is the area of {country}?\")\n",
    "    | model\n",
    "    | StrOutputParser()\n",
    ")\n",
    "\n",
    "# Create a parallel execution chain that generates the above two chains in parallel.\n",
    "combined = RunnableParallel(capital=chain1, area=chain2)"
   ]
  },
  {
   "cell_type": "markdown",
   "metadata": {},
   "source": [
    "函數 ```chain1.invoke()``` 呼叫 ```chain1``` 物件的 ```invoke``` 方法。\n",
    "\n",
    "作為參數，它傳遞一個字典，其中包含鍵名為 ```country``` 的值 ```Canada```。"
   ]
  },
  {
   "cell_type": "code",
   "execution_count": 26,
   "metadata": {},
   "outputs": [
    {
     "data": {
      "text/plain": [
       "'Ottawa'"
      ]
     },
     "execution_count": 26,
     "metadata": {},
     "output_type": "execute_result"
    }
   ],
   "source": [
    "# Run chain1 .\n",
    "chain1.invoke({\"country\": \"Canada\"})"
   ]
  },
  {
   "cell_type": "markdown",
   "metadata": {},
   "source": [
    "呼叫 ```chain2.invoke()```, 這次傳遞一個不同的國家，即 ```United States```, 作為 country 的鍵值。"
   ]
  },
  {
   "cell_type": "code",
   "execution_count": 27,
   "metadata": {},
   "outputs": [
    {
     "data": {
      "text/plain": [
       "'The total land area of the United States is approximately 3.8 million square miles (9.8 million square kilometers).'"
      ]
     },
     "execution_count": 27,
     "metadata": {},
     "output_type": "execute_result"
    }
   ],
   "source": [
    "# Run chain2 .\n",
    "chain2.invoke({\"country\": \"USA\"})"
   ]
  },
  {
   "cell_type": "markdown",
   "metadata": {},
   "source": [
    "函數 ```combined.invoke()``` 執行給定 ```country``` 的處理。\n",
    "\n",
    "在這個例子中，主題 ```USA``` 作為 ```country``` 的鍵值傳遞給 ```invoke``` 方法以執行。"
   ]
  },
  {
   "cell_type": "code",
   "execution_count": 28,
   "metadata": {},
   "outputs": [
    {
     "data": {
      "text/plain": [
       "{'capital': 'The capital of the United States of America is Washington, D.C.',\n",
       " 'area': 'The total area of the United States is approximately 9.8 million square kilometers (3.8 million square miles).'}"
      ]
     },
     "execution_count": 28,
     "metadata": {},
     "output_type": "execute_result"
    }
   ],
   "source": [
    "# Run a parallel execution chain.\n",
    "combined.invoke({\"country\": \"USA\"})"
   ]
  },
  {
   "cell_type": "markdown",
   "metadata": {},
   "source": [
    "# 平行處理在批次中\n",
    "\n",
    "平行處理可以與其他可執行代碼結合使用。讓我們嘗試使用平行處理進行批次處理。\n",
    "\n",
    "函數 ```chain1.batch``` 接受一個包含多個字典的列表作為參數，並處理每個字典中 \"topic\" 鍵對應的值。在這個例子中，我們正在批次處理兩個主題，\"Canada\" 和 \"United States\"。"
   ]
  },
  {
   "cell_type": "code",
   "execution_count": 29,
   "metadata": {},
   "outputs": [
    {
     "data": {
      "text/plain": [
       "['Ottawa', 'The capital of the United States of America is Washington, D.C.']"
      ]
     },
     "execution_count": 29,
     "metadata": {},
     "output_type": "execute_result"
    }
   ],
   "source": [
    "# Perform batch processing.\n",
    "chain1.batch([{\"country\": \"Canada\"}, {\"country\": \"USA\"}])\n"
   ]
  },
  {
   "cell_type": "markdown",
   "metadata": {},
   "source": [
    "函數 ```chain2.batch``` 接受多個字典的列表作為參數，並執行批次處理。\n",
    "\n",
    "在這個例子中，我們請求處理兩個國家，```Canada``` 和 ```United States```。"
   ]
  },
  {
   "cell_type": "code",
   "execution_count": 30,
   "metadata": {},
   "outputs": [
    {
     "data": {
      "text/plain": [
       "['The total land area of Canada is approximately 9.98 million square kilometers (3.85 million square miles), making it the second largest country in the world by land area.',\n",
       " 'The total land area of the United States is approximately 3.8 million square miles.']"
      ]
     },
     "execution_count": 30,
     "metadata": {},
     "output_type": "execute_result"
    }
   ],
   "source": [
    "# Perform batch processing.\n",
    "chain2.batch([{\"country\": \"Canada\"}, {\"country\": \"USA\"}])\n"
   ]
  },
  {
   "cell_type": "markdown",
   "metadata": {},
   "source": [
    "函數 ```combined.batch``` 用於將給定數據按批次處理。\n",
    "\n",
    "在這個例子中，它接受一個包含兩個字典物件的列表作為參數，並分別對加拿大和美國的數據進行批次處理。"
   ]
  },
  {
   "cell_type": "code",
   "execution_count": 31,
   "metadata": {},
   "outputs": [
    {
     "data": {
      "text/plain": [
       "[{'capital': 'Ottawa',\n",
       "  'area': 'The total area of Canada is approximately 9.98 million square kilometers (3.85 million square miles), making it the second-largest country in the world by land area.'},\n",
       " {'capital': 'The capital of the United States of America is Washington, D.C.',\n",
       "  'area': 'The total land area of the United States is approximately 3.8 million square miles (9.8 million square kilometers).'}]"
      ]
     },
     "execution_count": 31,
     "metadata": {},
     "output_type": "execute_result"
    }
   ],
   "source": [
    "# Processes the given data in batches.\n",
    "combined.batch([{\"country\": \"Canada\"}, {\"country\": \"USA\"}])\n"
   ]
  }
 ],
 "metadata": {
  "kernelspec": {
   "display_name": "langchain-opentutorial-cyV7o7ra-py3.11",
   "language": "python",
   "name": "python3"
  },
  "language_info": {
   "codemirror_mode": {
    "name": "ipython",
    "version": 3
   },
   "file_extension": ".py",
   "mimetype": "text/x-python",
   "name": "python",
   "nbconvert_exporter": "python",
   "pygments_lexer": "ipython3",
   "version": "3.11.9"
  }
 },
 "nbformat": 4,
 "nbformat_minor": 2
}
