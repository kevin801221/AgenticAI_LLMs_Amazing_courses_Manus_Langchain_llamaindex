{
 "cells": [
  {
   "cell_type": "markdown",
   "metadata": {},
   "source": [
    "# CommaSeparatedListOutputParser\n",
    "\n",
    "## Overview\n",
    "\n",
    "這個 ```CommaSeparatedListOutputParser``` 是 LangChain 中設計用於生成逗號分隔列表的結構化輸出的專門輸出解析器。\n",
    "\n",
    "它簡化了提取和展示數據的過程，使其特別適合組織數據點、姓名、項目或其他結構化值等信息。通過利用這個解析器，用戶可以增強數據清晰度，確保一致的格式，並提高工作流程效率，特別是在結構化輸出至关重要的應用程序中。\n",
    "\n",
    "本教程演示了如何使用 ```CommaSeparatedListOutputParser```:\n",
    "\n",
    "  1. 設定並初始化生成逗號分隔列表的解析器\n",
    "  2. 將其整合到提示模板和語言模型中\n",
    "  3. 使用流式機制迭代處理結構化輸出\n",
    "\n",
    "\n",
    "### Table of Contents\n",
    "\n",
    "- [Overview](#overview)\n",
    "- [Environment Setup](#environment-setup)\n",
    "- [Implementing the CommaSeparatedListOutputParser](#implementing-the-commaseparatedlistoutputparser)\n",
    "- [Using Streamed Outputs](#using-streamed-outputs)\n",
    "\n",
    "### References\n",
    "\n",
    "- [LangChain ChatOpenAI API reference](https://python.langchain.com/api_reference/openai/chat_models/langchain_openai.chat_models.base.ChatOpenAI.html)\n",
    "- [LangChain Core Output Parsers](https://python.langchain.com/api_reference/core/output_parsers/langchain_core.output_parsers.list.CommaSeparatedListOutputParser.html#)\n",
    "- [Python List Tutorial](https://docs.python.org/3.13/tutorial/datastructures.html)\n",
    "---"
   ]
  },
  {
   "cell_type": "markdown",
   "metadata": {},
   "source": [
    "## Environment Setup\n",
    "\n",
    "Set up the environment. You may refer to [Environment Setup](https://wikidocs.net/257836) for more details.\n",
    "\n",
    "**[Note]**\n",
    "- ```langchain-opentutorial``` is a package that provides a set of easy-to-use environment setup, useful functions and utilities for tutorials. \n",
    "- You can checkout the [```langchain-opentutorial```](https://github.com/LangChain-OpenTutorial/langchain-opentutorial-pypi) for more details."
   ]
  },
  {
   "cell_type": "code",
   "execution_count": 1,
   "metadata": {},
   "outputs": [],
   "source": [
    "%%capture --no-stderr\n",
    "%pip install langchain-opentutorial"
   ]
  },
  {
   "cell_type": "code",
   "execution_count": 2,
   "metadata": {},
   "outputs": [],
   "source": [
    "# Install required packages\n",
    "from langchain_opentutorial import package\n",
    "\n",
    "package.install(\n",
    "    [\n",
    "        \"langsmith\",\n",
    "        \"langchain\",\n",
    "        \"langchain_openai\",\n",
    "        \"langchain_community\",\n",
    "    ],\n",
    "    verbose=False,\n",
    "    upgrade=False,\n",
    ")"
   ]
  },
  {
   "cell_type": "code",
   "execution_count": 3,
   "metadata": {},
   "outputs": [
    {
     "name": "stdout",
     "output_type": "stream",
     "text": [
      "Environment variables have been set successfully.\n"
     ]
    }
   ],
   "source": [
    "# Set environment variables\n",
    "from langchain_opentutorial import set_env\n",
    "\n",
    "set_env(\n",
    "    {\n",
    "        \"OPENAI_API_KEY\": \"\",\n",
    "        \"LANGCHAIN_API_KEY\": \"\",\n",
    "        \"LANGCHAIN_TRACING_V2\": \"true\",\n",
    "        \"LANGCHAIN_ENDPOINT\": \"https://api.smith.langchain.com\",\n",
    "        \"LANGCHAIN_PROJECT\": \"02-CommaSeparatedListOutputParser\",\n",
    "    }\n",
    ")"
   ]
  },
  {
   "cell_type": "markdown",
   "metadata": {},
   "source": [
    "You can alternatively set ```OPENAI_API_KEY``` in ```.env``` file and load it. \n",
    "\n",
    "[Note] This is not necessary if you've already set ```OPENAI_API_KEY``` in previous steps."
   ]
  },
  {
   "cell_type": "code",
   "execution_count": 3,
   "metadata": {},
   "outputs": [
    {
     "data": {
      "text/plain": [
       "True"
      ]
     },
     "execution_count": 3,
     "metadata": {},
     "output_type": "execute_result"
    }
   ],
   "source": [
    "from dotenv import load_dotenv\n",
    "\n",
    "load_dotenv()"
   ]
  },
  {
   "cell_type": "markdown",
   "metadata": {},
   "source": [
    "## Implementing the ```CommaSeparatedListOutputParser```\n",
    "如果需要生成逗號分隔的列表形式的輸出，LangChain 的 ```CommaSeparatedListOutputParser``` 可以簡化這個過程。以下是一個逐步實現:"
   ]
  },
  {
   "cell_type": "markdown",
   "metadata": {},
   "source": [
    "### 1. Importing Required Modules\n",
    "開始導入必要的模組並初始化 ```CommaSeparatedListOutputParser```。從解析器中獲取格式指示以指導輸出結構。\n"
   ]
  },
  {
   "cell_type": "code",
   "execution_count": null,
   "metadata": {},
   "outputs": [
    {
     "name": "stdout",
     "output_type": "stream",
     "text": [
      "Your response should be a list of comma separated values, eg: `foo, bar, baz` or `foo,bar,baz`\n"
     ]
    }
   ],
   "source": [
    "from langchain_core.output_parsers import CommaSeparatedListOutputParser\n",
    "\n",
    "# Initialize the output parser\n",
    "output_parser = CommaSeparatedListOutputParser()\n",
    "\n",
    "# Retrieve format instructions for the output parser\n",
    "format_instructions = output_parser.get_format_instructions()\n",
    "print(format_instructions)"
   ]
  },
  {
   "cell_type": "markdown",
   "metadata": {},
   "source": [
    "### 2. Creating the Prompt Template\n",
    "定義一個 ```PromptTemplate```，動態生成一個項目清單。占位符主題將在執行時被所需的主題取代。"
   ]
  },
  {
   "cell_type": "code",
   "execution_count": 5,
   "metadata": {},
   "outputs": [
    {
     "name": "stdout",
     "output_type": "stream",
     "text": [
      "input_variables=['subject'] input_types={} partial_variables={'format_instructions': 'Your response should be a list of comma separated values, eg: `foo, bar, baz` or `foo,bar,baz`'} template='List five {subject}.\\n{format_instructions}'\n"
     ]
    }
   ],
   "source": [
    "from langchain_core.prompts import PromptTemplate\n",
    "\n",
    "# Define the prompt template\n",
    "prompt = PromptTemplate(\n",
    "    template=\"List five {subject}.\\n{format_instructions}\",\n",
    "    input_variables=[\"subject\"],  # 'subject' will be dynamically replaced\n",
    "    partial_variables={\n",
    "        \"format_instructions\": format_instructions\n",
    "    },  # Use parser's format instructions\n",
    ")\n",
    "print(prompt)"
   ]
  },
  {
   "cell_type": "markdown",
   "metadata": {},
   "source": [
    "### 3. Integrating with ```ChatOpenAI``` and Running the Chain\n",
    "將 ```PromptTemplate```, ```ChatOpenAI``` 模型和 ```CommaSeparatedListOutputParser``` 組合成一個鏈。最後，使用特定的 ```subject``` 執行鏈以產生結果。"
   ]
  },
  {
   "cell_type": "code",
   "execution_count": 6,
   "metadata": {},
   "outputs": [
    {
     "name": "stdout",
     "output_type": "stream",
     "text": [
      "['Gyeongbokgung Palace', 'N Seoul Tower', 'Bukchon Hanok Village', 'Seongsan Ilchulbong Peak', 'Haeundae Beach']\n"
     ]
    }
   ],
   "source": [
    "from langchain_openai import ChatOpenAI\n",
    "\n",
    "# Initialize the ChatOpenAI model\n",
    "model = ChatOpenAI(temperature=0)\n",
    "\n",
    "# Combine the prompt, model, and output parser into a chain\n",
    "chain = prompt | model | output_parser\n",
    "\n",
    "# Run the chain with a specific subject\n",
    "result = chain.invoke({\"subject\": \"famous landmarks in South Korea\"})\n",
    "print(result)"
   ]
  },
  {
   "cell_type": "markdown",
   "metadata": {},
   "source": [
    "### 4. 使用 Python Indexing 讀取資料\n",
    "由於 ```CommaSeparatedListOutputParser``` 會自動將輸出格式化為 Python 列表，因此您可以使用索引輕鬆存取個別元素。"
   ]
  },
  {
   "cell_type": "code",
   "execution_count": 7,
   "metadata": {},
   "outputs": [
    {
     "name": "stdout",
     "output_type": "stream",
     "text": [
      "First Landmark: Gyeongbokgung Palace\n",
      "Second Landmark: N Seoul Tower\n",
      "Last Landmark: Haeundae Beach\n"
     ]
    }
   ],
   "source": [
    "# Accessing specific elements using Python indexing\n",
    "print(\"First Landmark:\", result[0])\n",
    "print(\"Second Landmark:\", result[1])\n",
    "print(\"Last Landmark:\", result[-1])"
   ]
  },
  {
   "cell_type": "markdown",
   "metadata": {},
   "source": [
    "## 使用 Streamed Outputs\n",
    "為了更大的輸出 or 即時反饋feedback, 你可以使用 ```stream``` method。這允許你按部就班地處理生成的數據。"
   ]
  },
  {
   "cell_type": "code",
   "execution_count": 8,
   "metadata": {},
   "outputs": [
    {
     "name": "stdout",
     "output_type": "stream",
     "text": [
      "['Gyeongbokgung Palace']\n",
      "['N Seoul Tower']\n",
      "['Bukchon Hanok Village']\n",
      "['Seongsan Ilchulbong Peak']\n",
      "['Haeundae Beach']\n"
     ]
    }
   ],
   "source": [
    "# Iterate through the streamed output for a subject\n",
    "for output in chain.stream({\"subject\": \"famous landmarks in South Korea\"}):\n",
    "    print(output)"
   ]
  }
 ],
 "metadata": {
  "kernelspec": {
   "display_name": "langchain-opentutorial-QDzDRI-1-py3.11",
   "language": "python",
   "name": "python3"
  },
  "language_info": {
   "codemirror_mode": {
    "name": "ipython",
    "version": 3
   },
   "file_extension": ".py",
   "mimetype": "text/x-python",
   "name": "python",
   "nbconvert_exporter": "python",
   "pygments_lexer": "ipython3",
   "version": "3.11.0"
  }
 },
 "nbformat": 4,
 "nbformat_minor": 2
}
